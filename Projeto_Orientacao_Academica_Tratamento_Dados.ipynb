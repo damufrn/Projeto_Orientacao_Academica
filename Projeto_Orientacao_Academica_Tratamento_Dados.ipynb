{
  "nbformat": 4,
  "nbformat_minor": 0,
  "metadata": {
    "colab": {
      "name": "Projeto_Orientacao_Academica_Tratamento_Dados.ipynb",
      "provenance": [],
      "collapsed_sections": [
        "PGR1IWltjEKS"
      ],
      "authorship_tag": "ABX9TyPI+0WACGwMctsQVtLelwR7",
      "include_colab_link": true
    },
    "kernelspec": {
      "name": "python3",
      "display_name": "Python 3"
    }
  },
  "cells": [
    {
      "cell_type": "markdown",
      "metadata": {
        "id": "view-in-github",
        "colab_type": "text"
      },
      "source": [
        "<a href=\"https://colab.research.google.com/github/vilsonrodrigues/Projeto_Orientacao_Academica/blob/master/Projeto_Orientacao_Academica_Tratamento_Dados.ipynb\" target=\"_parent\"><img src=\"https://colab.research.google.com/assets/colab-badge.svg\" alt=\"Open In Colab\"/></a>"
      ]
    },
    {
      "cell_type": "markdown",
      "metadata": {
        "id": "B_vdAfc21u86",
        "colab_type": "text"
      },
      "source": [
        "Por @vilsonrodrigues"
      ]
    },
    {
      "cell_type": "markdown",
      "metadata": {
        "id": "YLxXyebtnjM-",
        "colab_type": "text"
      },
      "source": [
        "\n",
        "\n",
        "# <center><font color='blue'>Projeto de Orientação Acadêmica</font>\n",
        "\n",
        "\n"
      ]
    },
    {
      "cell_type": "markdown",
      "metadata": {
        "id": "ULCWX6-dwLgg",
        "colab_type": "text"
      },
      "source": [
        "<img src='https://ufrn.br/resources/documentos/identidadevisual/logotipo/logotipo_flat.png'>"
      ]
    },
    {
      "cell_type": "markdown",
      "metadata": {
        "id": "C2tX7zYBx5Sd",
        "colab_type": "text"
      },
      "source": [
        "## Parte I - Apresentação do Problema\n",
        "### [1. Apresentação do Problema](#apresentacao)\n",
        "## Parte II - Preparativos Iniciais\n",
        "### [1. Bibliotecas](#bibliotecas)\n",
        "### [2. Classe](#classe)\n",
        "### [3. Funções](#funcoes)\n",
        "### [4. Leituras da Bases](#leiturabase)\n",
        "## Parte III - Desenvolvimento\n",
        "### [1. Entendimento de Negócio](#negocio)\n",
        "### [2. Entendimento de Dados](#enten_dados)\n",
        "### [3. Preparação de Dados](#preparo)\n",
        "### [4. Métricas de Avaliação](#metricas)\n",
        "### [5. Modelagem](#modelagem)\n",
        "### [6. Avaliação de Modelo](#avaliacao)\n",
        "### [7. Conclusão e Recomendações](#conclusao)\n",
        "### [8. Implantação de Modelos](#implantacao)\n"
      ]
    },
    {
      "cell_type": "markdown",
      "metadata": {
        "id": "Rwf-rhVr2Wvj",
        "colab_type": "text"
      },
      "source": [
        "# Parte I - Apresentação do Problema"
      ]
    },
    {
      "cell_type": "markdown",
      "metadata": {
        "id": "bhu64Xadx9yH",
        "colab_type": "text"
      },
      "source": [
        "### **Meta**\n",
        "Nossa meta é prever através de Machine Learning as probabilidades de um estudante ter sucesso em uma disciplina dado o histórico escolar na Universidade.\n",
        "\n",
        "Nossos dados foram transformados para ficarem de uma forma génerica, assim, não dependemos de saber qual foi a matéria cursada anteriormente.\n",
        "\n",
        "Com essa plataforma, os professores que orientam alunos, terão mais segurança e uma comprovação com base no Machine Learning que estudantes que tiveram um histórico semelhante e seguiram esse caminho tiveram mais êxito do que seguir por este outro.\n",
        "\n",
        "Os dados foram coletados do período de 2015.1 até 2019.1.\n",
        "\n",
        "**Esse notebook foca totalmente em analisar os dados e montar uma estratégia  de gerar dados genéricos, de modo que fiquem independente de qual disciplina o aluno curso no semeste anterior.**\n",
        "\n",
        "O trabalho continua neste [notebook](https://), onde são gerados modelos de Machine Learning com dados genéricos.\n",
        "\n",
        "### **Fonte dos Dados**\n",
        "Dados foram extraídos do portal SIGAA e fornecidos pela Escola de Ciências e Tecnlogia (ECT).\n",
        "\n",
        "### **Referência**\n",
        "Hands On: Machine Learning with Scikit-Learning e Tensor Flow\n",
        "\n"
      ]
    },
    {
      "cell_type": "markdown",
      "metadata": {
        "id": "pW86HnPh3ka-",
        "colab_type": "text"
      },
      "source": [
        "# Parte II - Preparativos Iniciais"
      ]
    },
    {
      "cell_type": "markdown",
      "metadata": {
        "id": "vkhuxXT_3vQv",
        "colab_type": "text"
      },
      "source": [
        "## 1. Bibliotecas\n",
        "<a id='bibliotecas'></a>\n",
        "#### [1.1 Instalações](#instalacao)\n",
        "#### [1.2 Importações](#importacao)\n"
      ]
    },
    {
      "cell_type": "markdown",
      "metadata": {
        "id": "OuOEB2A10Rah",
        "colab_type": "text"
      },
      "source": [
        "### 1.1. Instalação\n",
        "<a id='instalacao'></a>"
      ]
    },
    {
      "cell_type": "code",
      "metadata": {
        "id": "_HXuie4y43tN",
        "colab_type": "code",
        "colab": {}
      },
      "source": [
        "!pip install pandas -U\n",
        "!pip install scikit-learn -U\n",
        "!pip install numpy -U\n",
        "!pip install joblib==0.14.1"
      ],
      "execution_count": 0,
      "outputs": []
    },
    {
      "cell_type": "markdown",
      "metadata": {
        "id": "D_S-Ua3YeLmS",
        "colab_type": "text"
      },
      "source": [
        "### 1.2. Importação\n",
        "<a id='importacao'></a>"
      ]
    },
    {
      "cell_type": "code",
      "metadata": {
        "id": "vXKQdGE-KNqI",
        "colab_type": "code",
        "colab": {}
      },
      "source": [
        "import pandas as pd\n",
        "import numpy as np\n",
        "from sklearn.base import TransformerMixin"
      ],
      "execution_count": 0,
      "outputs": []
    },
    {
      "cell_type": "code",
      "metadata": {
        "id": "4fDskXdweAA6",
        "colab_type": "code",
        "colab": {}
      },
      "source": [
        "import pandas as pd\n",
        "import numpy as np\n",
        "\n",
        "#Persistência em disco\n",
        "import joblib\n",
        "import pickle\n",
        "\n",
        "#Visualização\n",
        "import seaborn as sns\n",
        "import matplotlib.pyplot as plt\n",
        "\n",
        "#Transformadores e Modelador\n",
        "from sklearn.pipeline          import Pipeline\n",
        "from sklearn.base              import BaseEstimator, TransformerMixin\n",
        "\n",
        "#Selecao de modelo\n",
        "from sklearn.model_selection   import train_test_split\n",
        "from sklearn.model_selection   import KFold\n",
        "from sklearn.model_selection   import cross_val_score\n",
        "from sklearn.model_selection   import GridSearchCV\n",
        "from sklearn.feature_selection import SelectKBest, f_classif\n",
        "from sklearn.feature_selection import chi2\n",
        "\n",
        "#modo não-perturbe\n",
        "import warnings\n",
        "warnings.filterwarnings(\"ignore\")"
      ],
      "execution_count": 0,
      "outputs": []
    },
    {
      "cell_type": "markdown",
      "metadata": {
        "id": "EXnFYbxV75Np",
        "colab_type": "text"
      },
      "source": [
        "##2. Classe\n",
        "<a id='classe'></a>\n"
      ]
    },
    {
      "cell_type": "markdown",
      "metadata": {
        "id": "I4WG5ZVa9Abp",
        "colab_type": "text"
      },
      "source": [
        "Classe para realizar a geração de dados genéricos"
      ]
    },
    {
      "cell_type": "code",
      "metadata": {
        "id": "3sfmYXZd8MuV",
        "colab_type": "code",
        "colab": {}
      },
      "source": [
        "class geraDadosGenericos(TransformerMixin):  \n",
        "  def __init__(self, carga):\n",
        "    self.carga = carga\n",
        "\n",
        "\t#nao irei fazer nenhum treinamento\t\n",
        "  def fit(self, X, y = None):\n",
        "    return self    \n",
        "\n",
        "  #-------------------------funcoes de geracao de dados da classe---------------------------------\n",
        "\n",
        "  def filtraSituacoes(self, df_notas):\n",
        "    #conversao para string\n",
        "    df_notas['matricula'] = df_notas['matricula'].astype(str)\n",
        "    df_notas['periodo']   = df_notas['periodo'].astype(str)\n",
        "\n",
        "    #substitui todas as situacoes de reprovado e aprovado para ser apenas um tipo\n",
        "    df_notas.loc[df_notas['situacao'].str.contains('REPROVADO'), 'situacao'] = 'REPROVADO'\n",
        "    df_notas.loc[df_notas['situacao'].str.contains('APROVADO'), 'situacao']  = 'APROVADO'\n",
        "\n",
        "    #seleciona as situacoes de interesse que são aprovados e reprovados\n",
        "    df_notas = df_notas.loc[(df_notas['situacao'].str.contains('APROVADO')) |\n",
        "                            (df_notas['situacao'].str.contains('REPROVADO')) \n",
        "                          ] \t\n",
        "    #tem disciplina que só contam para a horas complementares, não tem nota\n",
        "    df_notas = df_notas.loc[ ~(df_notas['nota'].str.contains('-')), :]\n",
        "\n",
        "    #conversao para de string para float\n",
        "    df_notas['nota'] = df_notas['nota'].astype(float)\n",
        "    return df_notas\n",
        "\n",
        "\n",
        "  def converteString(self, df_notas):\n",
        "    df_notas['periodo']   = df_notas['periodo'].astype(str)\n",
        "    return df_notas\n",
        "\n",
        "\n",
        "  def concatenaSemestre(self, df_notas):\n",
        "    #pega o ano mais alto que tem na matricula, indicando o semestre do df\n",
        "    ano_df = df_notas['matricula'].str[0:4].max()\n",
        "    df_notas['semestre'] = str(ano_df) + '.' + str(df_notas['periodo'].iloc[0])\n",
        "    #apagando a coluna periodo, nao serve mais\n",
        "    df_notas.drop(columns = ['periodo'], inplace=True)\n",
        "    #conversao para float\n",
        "    df_notas['semestre'] = df_notas['semestre'].astype(float)\n",
        "    df_notas['matricula'] = df_notas['matricula'].astype(int)\n",
        "    return df_notas\n",
        "\n",
        "  #adiciona quanto tempo o estudante esta com a matricula vingente \n",
        "  def anosMatriculado(self, df_notas): \n",
        "    df_notas['matricula'] = df_notas['matricula'].astype(str)\n",
        "    df_notas['anoIngresso'] = df_notas['matricula'].str[0:4]\n",
        "    df_notas['anoIngresso'] = df_notas['anoIngresso'].astype(float)\n",
        "    df_notas['semestre'] = df_notas['semestre'].astype(float)\n",
        "    df_notas['anosMatriculado'] = df_notas['semestre'] - df_notas['anoIngresso']\n",
        "    df_notas['anosMatriculado'] = df_notas['anosMatriculado'].astype(int)\n",
        "    return df_notas    \n",
        "\n",
        "\n",
        "  #essa função vai criar as novas features com o desempenho do aluno no semestre \n",
        "  def geraFeaturesComDadosGenericos(self, df_notas):\n",
        "    df_notas = df_notas.merge(self.carga, on = 'codigo')\n",
        "    df = pd.DataFrame()\n",
        "    final = pd.DataFrame()\n",
        "\n",
        "    #media das disciplinas\n",
        "    df = df_notas.groupby('matricula')['nota'].mean().reset_index()\n",
        "    df.rename(columns={'nota':'mediaNotas'}, inplace = True)\n",
        "    final = df\n",
        "\n",
        "    #menor nota\n",
        "    df = df_notas.groupby('matricula')['nota'].min().reset_index()\n",
        "    df.rename(columns = {'nota':'menorNota'}, inplace = True)\n",
        "    final = final.merge(df, on = 'matricula', how = 'outer')\n",
        "\n",
        "    #maior nota\n",
        "    df = df_notas.groupby('matricula')['nota'].max().reset_index()\n",
        "    df.rename(columns = {'nota':'maiorNota'}, inplace = True)\n",
        "    final = final.merge(df, on = 'matricula', how = 'outer')\n",
        "\n",
        "    #quantidade de disciplinas cursadas\n",
        "    df = df_notas.groupby('matricula')['codigo'].count().reset_index()\n",
        "    df.rename(columns = {'codigo':'quantidadeDisciplinasCursadas'}, inplace=True)\n",
        "    final = final.merge(df, on = 'matricula', how = 'outer')\n",
        "\n",
        "    #quantidade de situacoes\n",
        "    df = df_notas.groupby(['matricula','situacao'])['codigo'].count().reset_index()\n",
        "    df.rename(columns = {'codigo':'quanSituacao'}, inplace = True)\n",
        "\n",
        "    #quantidade de situacoes em que houve aprovacao\n",
        "    aprovado = df.loc[df['situacao'] == 'APROVADO',:]\n",
        "    aprovado.rename(columns = {'quanSituacao':'quantidadeAprovacoes'}, inplace = True)\n",
        "    final = final.merge(aprovado, on = 'matricula', how = 'outer')\n",
        "\n",
        "    #quantidade de situacoes em que houve reprovacao\n",
        "    reprovado = df.loc[df['situacao'] == 'REPROVADO',:]\n",
        "    reprovado.rename(columns = {'quanSituacao':'quantidadeReprovacoes'}, inplace = True)\n",
        "    final = final.merge(reprovado, on = 'matricula', how = 'outer')\n",
        "    final = final.drop(['situacao_x', 'situacao_y'], axis = 1)\n",
        "\n",
        "    #media das aprovacoes\n",
        "    aprov = df_notas.loc[df_notas['situacao'] == 'APROVADO',:]\n",
        "    dfa = aprov.groupby(['matricula'])['nota'].mean().reset_index()\n",
        "    dfa.rename(columns = {'nota':'mediaAprovadas'}, inplace = True)\n",
        "    final = final.merge(dfa, on = 'matricula', how ='outer')\n",
        "\n",
        "    #media das reprovacoes\n",
        "    reprov = df_notas.loc[df_notas['situacao'] == 'REPROVADO',:]\n",
        "    dfr = reprov.groupby(['matricula'])['nota'].mean().reset_index()\n",
        "    dfr.rename(columns = {'nota':'mediaReprovadas'}, inplace = True)\n",
        "    final = final.merge(dfr, on = 'matricula', how ='outer')\n",
        "\n",
        "    #carga horaria total no semestre\n",
        "    df = df_notas.groupby('matricula')['ch_total'].sum().reset_index()\n",
        "    df.rename(columns = {'ch_total':'cargaHoraria'}, inplace = True)\n",
        "    final = final.merge(df, on = 'matricula', how = 'outer')\n",
        "\n",
        "    #substituindo valores nulos por 0\n",
        "    final = final.fillna(0)\n",
        "\n",
        "    #conversao de campos de objeto para inteiro\n",
        "    final['quantidadeAprovacoes']  = final['quantidadeAprovacoes'].astype(int)\n",
        "    final['quantidadeReprovacoes'] = final['quantidadeReprovacoes'].astype(int)\n",
        "\n",
        "    #Criando campo taxa de sucesso, que será a porcentagem de aprovações dado o total de disciplinas\n",
        "    final['taxaDeSucesso']  = np.divide(final['quantidadeAprovacoes'], final['quantidadeDisciplinasCursadas']) \n",
        "\n",
        "    #herdando o semestre\n",
        "    final['semestre'] = df_notas['semestre']\n",
        "\n",
        "    return final\n",
        "\n",
        "  #--------------------fim das funcoes de geracao de dados da classe-----------------------------------------\n",
        "\n",
        "\n",
        "  def transform(self, X, y = None):\n",
        "    #itera a lista\n",
        "    lista_df_notas = X.copy()\n",
        "    lista_df_generico = []\n",
        "    lista_notas = []\n",
        "    lista_de_listas = []\n",
        "    for df_notas in lista_df_notas:\n",
        "      df_notas = self.converteString(df_notas)\n",
        "      df_notas = self.filtraSituacoes(df_notas)\n",
        "      df_notas = self.concatenaSemestre(df_notas)\n",
        "      lista_notas.append(df_notas)\n",
        "      df_generico = self.geraFeaturesComDadosGenericos(df_notas)\n",
        "      df_generico = self.anosMatriculado(df_generico)\n",
        "      lista_df_generico.append(df_generico)\n",
        "\n",
        "    lista_de_listas.append(lista_df_generico)  \n",
        "    lista_de_listas.append(lista_notas)\n",
        "    return lista_de_listas"
      ],
      "execution_count": 0,
      "outputs": []
    },
    {
      "cell_type": "markdown",
      "metadata": {
        "id": "ZGHrISEE_B3_",
        "colab_type": "text"
      },
      "source": [
        "##3. Funções\n",
        "<a id='funcoes'></a>"
      ]
    },
    {
      "cell_type": "markdown",
      "metadata": {
        "id": "3BUSGqrsC9BC",
        "colab_type": "text"
      },
      "source": [
        "Função que usa GridSearch para avaliar o melhor modelo disponível, retornar estatísticas dos resultados e persistir em disco os modelos gerados"
      ]
    },
    {
      "cell_type": "code",
      "metadata": {
        "id": "UzilKddz_HWM",
        "colab_type": "code",
        "colab": {}
      },
      "source": [
        ""
      ],
      "execution_count": 0,
      "outputs": []
    },
    {
      "cell_type": "markdown",
      "metadata": {
        "id": "dD1-lyVuizPA",
        "colab_type": "text"
      },
      "source": [
        "##4. Leitura das Bases\n",
        "<a id='leiturabase'></a>"
      ]
    },
    {
      "cell_type": "markdown",
      "metadata": {
        "id": "DHx3s-NSKug_",
        "colab_type": "text"
      },
      "source": [
        "Urls das notas e da carga horária"
      ]
    },
    {
      "cell_type": "code",
      "metadata": {
        "id": "8soTzGZeKzlS",
        "colab_type": "code",
        "colab": {}
      },
      "source": [
        "notas_url = [\n",
        "             'https://raw.githubusercontent.com/repitta/CienciaDeDadosEducacionais/master/dadosUFRN/notas_discentes_2015.1.csv',\n",
        "             'https://raw.githubusercontent.com/repitta/CienciaDeDadosEducacionais/master/dadosUFRN/notas_discentes_2015.2.csv',\n",
        "             'https://raw.githubusercontent.com/repitta/CienciaDeDadosEducacionais/master/dadosUFRN/notas_discentes_2016.1.csv',\n",
        "             'https://raw.githubusercontent.com/repitta/CienciaDeDadosEducacionais/master/dadosUFRN/notas_discentes_2016.2.csv',\n",
        "             'https://raw.githubusercontent.com/repitta/CienciaDeDadosEducacionais/master/dadosUFRN/notas_discentes_2017.1.csv',\n",
        "             'https://raw.githubusercontent.com/repitta/CienciaDeDadosEducacionais/master/dadosUFRN/notas_discentes_2017.2.csv',\n",
        "             'https://raw.githubusercontent.com/repitta/CienciaDeDadosEducacionais/master/dadosUFRN/notas_discentes_2018.1.csv',\n",
        "             'https://raw.githubusercontent.com/repitta/CienciaDeDadosEducacionais/master/dadosUFRN/notas_discentes_2018.2.csv',\n",
        "             'https://raw.githubusercontent.com/repitta/CienciaDeDadosEducacionais/master/dadosUFRN/notas_discentes_2019.1.csv',\n",
        "             'https://raw.githubusercontent.com/repitta/CienciaDeDadosEducacionais/master/dadosUFRN/notas_discentes_2019.2.csv'\n",
        "            ]\n",
        "carga_horaria = 'http://dados.ufrn.br/dataset/3fea67e8-6916-4ed0-aaa6-9a8ca06a9bdc/resource/9a3521d2-4bc5-4fda-93f0-f701c8a20727/download/componentes-curriculares-presenciais.csv'"
      ],
      "execution_count": 0,
      "outputs": []
    },
    {
      "cell_type": "markdown",
      "metadata": {
        "id": "2oZD8IeLLqN2",
        "colab_type": "text"
      },
      "source": [
        "Lendo como DataFrame"
      ]
    },
    {
      "cell_type": "code",
      "metadata": {
        "id": "sKkNAEhzLpAu",
        "colab_type": "code",
        "colab": {}
      },
      "source": [
        "col = [\"periodo\",\"codigo\",\"disciplina\",\"turma\",\"siape\",\"horario\",\"matricula\",\"nota\",\"situacao\"]\n",
        "notas2015_1 = pd.read_csv(notas_url[0], sep=';', encoding = \"ISO-8859-1\", skiprows = 7, names=col, index_col=False)\n",
        "notas2015_2 = pd.read_csv(notas_url[1], sep=';', encoding = \"ISO-8859-1\", skiprows = 7, names=col, index_col=False)\n",
        "notas2016_1 = pd.read_csv(notas_url[2], sep=';', encoding = \"ISO-8859-1\", skiprows = 7, names=col, index_col=False)\n",
        "notas2016_2 = pd.read_csv(notas_url[3], sep=';', encoding = \"ISO-8859-1\", skiprows = 7, names=col, index_col=False)\n",
        "notas2017_1 = pd.read_csv(notas_url[4], sep=';', encoding = \"ISO-8859-1\", skiprows = 7, names=col, index_col=False)\n",
        "notas2017_2 = pd.read_csv(notas_url[5], sep=';', encoding = \"ISO-8859-1\", skiprows = 7, names=col, index_col=False)\n",
        "notas2018_1 = pd.read_csv(notas_url[6], sep=';', encoding = \"ISO-8859-1\", skiprows = 7, names=col, index_col=False)\n",
        "notas2018_2 = pd.read_csv(notas_url[7], sep=';', encoding = \"ISO-8859-1\", skiprows = 7, names=col, index_col=False)\n",
        "notas2019_1 = pd.read_csv(notas_url[8], sep=';', encoding = \"ISO-8859-1\", skiprows = 7, names=col, index_col=False)\n",
        "#notas2019_2 = pd.read_csv(notas_url[9], sep=';', encoding = \"ISO-8859-1\", skiprows = 7, names=col, index_col=False)\n",
        "\n",
        "carga = pd.read_csv(carga_horaria, sep=\";\")\n",
        "carga = carga[[\"codigo\",\"ch_total\"]]"
      ],
      "execution_count": 0,
      "outputs": []
    },
    {
      "cell_type": "markdown",
      "metadata": {
        "id": "Hra4Ho4IC0Xu",
        "colab_type": "text"
      },
      "source": [
        "#Parte III - Desenvolvimento\n",
        "<a id='enten_dados'></a>\n"
      ]
    },
    {
      "cell_type": "markdown",
      "metadata": {
        "id": "hfeOFonftzic",
        "colab_type": "text"
      },
      "source": [
        "## 1. Entendimento de Negócio\n",
        "<a id='negocio'></a>\n",
        "\n",
        "#### ● Determinar objetivos de Negócio\n",
        "#### ● Estabelecer Critérios de Sucesso da Iniciativa\n",
        "#### ● Análise do contexto: terminologia, benefício, riscos e plano de contingência\n",
        "#### ● Determinar objetivos de Mineração de Dados\n",
        "#### ● Plano do Projeto\n"
      ]
    },
    {
      "cell_type": "markdown",
      "metadata": {
        "id": "-n4co8p2EeaU",
        "colab_type": "text"
      },
      "source": [
        "## 2. Entendimento de Dados\n",
        "<a id='enten_dados'></a>\n",
        "\n",
        "### [2.1 Descrição de Dados](#descricao)\n",
        "### [2.2 Qualidade de Dados](#qualidade)\n",
        "### [2.3 Exploração de Dados](#exploracao)"
      ]
    },
    {
      "cell_type": "markdown",
      "metadata": {
        "id": "HEVg1VCYEhUd",
        "colab_type": "text"
      },
      "source": [
        "###2.1 Descrição de Dados\n",
        "<a id='descricao'></a>\n"
      ]
    },
    {
      "cell_type": "markdown",
      "metadata": {
        "id": "L1HZgOL4pQfu",
        "colab_type": "text"
      },
      "source": [
        "#### <center>Dados dos Daframes de Notas:\n",
        "| Semestre | Número de atributos (colunas) | Número de Registros (linhas) |\n",
        "| --- | --- | --- |\n",
        "| 2015.1 | 9 | --- |\n",
        "| 2015.2 | 9 | |\n",
        "| 2016.1 | 9 | |\n",
        "| 2016.2 | 9 | |\n",
        "| 2017.1 | 9 | |\n",
        "| 2017.2 | 9 | |\n",
        "| 2018.1 | 9 | |\n",
        "| 2018.2 | 9 | |\n",
        "| 2019.1 | 9 | |\n",
        "\n",
        "\n",
        "#### <center>Dados do Dataframe de Carga Horária:\n",
        "| Número de atributos (colunas) | Número de Registros (linhas) |\n",
        "| --- | --- |\n",
        "| 2 | 39269 |\n",
        "\n",
        "\n",
        "\n",
        "\n",
        "####Descrição de Colunas do Dataframe de Notas:\n",
        "\n",
        "<font color='blue'> <b>1. periodo</b> </font> Período em que a disciplina foi cursada (.1 ou .2)\n",
        "\n",
        "<font color='blue'> <b>2. codigo</b> </font> Código de todas as disciplinas na UFRN\n",
        "\n",
        "<font color='blue'> <b>3. disciplina</b> </font> Nome da discplina \n",
        "\n",
        "<font color='blue'> <b>4. turma</b> </font> Código da turma\n",
        "\n",
        "<font color='blue'> <b>5. siape</b> </font> Código que identifica o professor que ministrou a disciplina\n",
        "\n",
        "<font color='blue'> <b>6. horario</b> </font> Horário e intervalo de datas em que a disciplina foi ministrada\n",
        "\n",
        "<font color='blue'> <b>7. Matrícula</b> </font> Código identificador do estudante\n",
        "\n",
        "<font color='blue'> <b>8. Nota</b> </font> Nota do estudante na disciplina\n",
        "\n",
        "#### Coluna Alvo\n",
        "<font color='red'> <b>9. Situação</b> </font> Estato final na disciplina\n",
        "\n",
        "####Descrição de Colunas do Dataframe de Notas:\n",
        "\n",
        "<font color='blue'> <b>1. Código</b> </font> Código da disciplina\n",
        "\n",
        "<font color='blue'> <b>2. Ch_total</b> </font> Carga Hóraria da displina\n",
        "\n",
        "-------------------------------------------------------------------------------\n",
        "\n",
        "Os Dataframes contêm todos os departamentos da UFRN. Por enquanto o foco do trabalho está em prever o ciclo básico da ECT. Mais na frente será feito uma seleção afim de escolher apenas matérias da ECT.\n",
        "\n"
      ]
    },
    {
      "cell_type": "markdown",
      "metadata": {
        "id": "XvoPlLK6tqOm",
        "colab_type": "text"
      },
      "source": [
        "Exemplos de registros nos 2 tipos de DataFrames"
      ]
    },
    {
      "cell_type": "code",
      "metadata": {
        "id": "FGNZ4TPSO-6l",
        "colab_type": "code",
        "colab": {}
      },
      "source": [
        "notas2018_1.sample(10)"
      ],
      "execution_count": 0,
      "outputs": []
    },
    {
      "cell_type": "code",
      "metadata": {
        "id": "PDAIFmZ2PBbR",
        "colab_type": "code",
        "colab": {}
      },
      "source": [
        "carga.head(2)"
      ],
      "execution_count": 0,
      "outputs": []
    },
    {
      "cell_type": "markdown",
      "metadata": {
        "id": "5Vy3MCOgF_iz",
        "colab_type": "text"
      },
      "source": [
        "###2.2 Qualidade dos dados\n",
        "<a id='qualidade'></a>"
      ]
    },
    {
      "cell_type": "markdown",
      "metadata": {
        "id": "F21BiOCQ5SX6",
        "colab_type": "text"
      },
      "source": [
        "Total 489 disciplinas realizadas na UFRN no semestre 15.1"
      ]
    },
    {
      "cell_type": "code",
      "metadata": {
        "id": "PexNmJ6G5ZMn",
        "colab_type": "code",
        "colab": {}
      },
      "source": [
        "notas2015_1.groupby('codigo')['nome'].count()"
      ],
      "execution_count": 0,
      "outputs": []
    },
    {
      "cell_type": "markdown",
      "metadata": {
        "id": "xaf-SuwLvot-",
        "colab_type": "text"
      },
      "source": [
        "Informações sobre valores não nulos, total de registros de todos as bases de dados\n",
        "\n",
        "Em quase todos os dataframes das notas não contêm valores nulos, com excessão de 16.2, 18.2 e 19.1, onde estão faltando em cada 3 valores correspondentes aos horários das displinas. Ou seja, temos dataframes consistentes\n",
        "\n",
        "No dataframe de cargas horárias também temos consistência"
      ]
    },
    {
      "cell_type": "code",
      "metadata": {
        "id": "WWWZWzcbuw0S",
        "colab_type": "code",
        "colab": {}
      },
      "source": [
        "notas2015_1.info()"
      ],
      "execution_count": 0,
      "outputs": []
    },
    {
      "cell_type": "code",
      "metadata": {
        "id": "5AyStLAswPQp",
        "colab_type": "code",
        "colab": {}
      },
      "source": [
        "notas2015_2.info()"
      ],
      "execution_count": 0,
      "outputs": []
    },
    {
      "cell_type": "code",
      "metadata": {
        "id": "I-vivN1-z6Vk",
        "colab_type": "code",
        "colab": {}
      },
      "source": [
        "notas2016_1.info()"
      ],
      "execution_count": 0,
      "outputs": []
    },
    {
      "cell_type": "code",
      "metadata": {
        "id": "swd1rW9F0C_t",
        "colab_type": "code",
        "colab": {}
      },
      "source": [
        "notas2016_2.info()"
      ],
      "execution_count": 0,
      "outputs": []
    },
    {
      "cell_type": "code",
      "metadata": {
        "id": "Tr2Qcuy80GEy",
        "colab_type": "code",
        "colab": {}
      },
      "source": [
        "notas2017_1.info()"
      ],
      "execution_count": 0,
      "outputs": []
    },
    {
      "cell_type": "code",
      "metadata": {
        "id": "JV5co9wu08wf",
        "colab_type": "code",
        "colab": {}
      },
      "source": [
        "notas2017_2.info()"
      ],
      "execution_count": 0,
      "outputs": []
    },
    {
      "cell_type": "code",
      "metadata": {
        "id": "C__VuJ7T0Mo4",
        "colab_type": "code",
        "colab": {}
      },
      "source": [
        "notas2018_1.info()"
      ],
      "execution_count": 0,
      "outputs": []
    },
    {
      "cell_type": "code",
      "metadata": {
        "id": "2S63BiQG1bmH",
        "colab_type": "code",
        "colab": {}
      },
      "source": [
        "notas2018_2.info()"
      ],
      "execution_count": 0,
      "outputs": []
    },
    {
      "cell_type": "code",
      "metadata": {
        "id": "b5Q343re1kr5",
        "colab_type": "code",
        "colab": {}
      },
      "source": [
        "notas2019_1.info()"
      ],
      "execution_count": 0,
      "outputs": []
    },
    {
      "cell_type": "code",
      "metadata": {
        "id": "JyvSKOiU3tMc",
        "colab_type": "code",
        "colab": {}
      },
      "source": [
        "carga.info()"
      ],
      "execution_count": 0,
      "outputs": []
    },
    {
      "cell_type": "markdown",
      "metadata": {
        "id": "TjeHFDBfwV5w",
        "colab_type": "text"
      },
      "source": [
        "###2.3 Exploração de Dados\n",
        "<a id='exploracao'></a>"
      ]
    },
    {
      "cell_type": "markdown",
      "metadata": {
        "id": "FRSYKSmFAC9t",
        "colab_type": "text"
      },
      "source": [
        "Temos várias situações disponíveis ao fim da matéria. Excluída, Trancada, Desistência, Indiferido e Cancelado não farão parte da nossa análise que busca apenas alunos que foram do começo ao fim da matéria.\n",
        "\n",
        "Todos os tipos de reprovação iram virar uma só, assim como às aprovações."
      ]
    },
    {
      "cell_type": "code",
      "metadata": {
        "id": "cljUAeYjwlsU",
        "colab_type": "code",
        "colab": {}
      },
      "source": [
        "notas2015_1['situacao'].unique()"
      ],
      "execution_count": 0,
      "outputs": []
    },
    {
      "cell_type": "markdown",
      "metadata": {
        "id": "R0TLpuhAPN3Y",
        "colab_type": "text"
      },
      "source": [
        "Vemos que existe disciplinas em que a nota média final foi '-'. Como pode?\n",
        "\n",
        "A primeira hipótese seria de que algúem zerou todas as unidades e saiu com nota 0, e o sistema colocaria '-' \n",
        "\n",
        "Descobri que existem disciplinas que contam apenas para carga horária complementar. Ou seja, não tem uma nota final para o estudante\n",
        "\n",
        "Além disso vemos que as notas estão em objeto (string), vai ser necessário a conversão para float"
      ]
    },
    {
      "cell_type": "code",
      "metadata": {
        "id": "EUFsVa_LOhXJ",
        "colab_type": "code",
        "colab": {}
      },
      "source": [
        "notas2015_1['nota'].unique()"
      ],
      "execution_count": 0,
      "outputs": []
    },
    {
      "cell_type": "markdown",
      "metadata": {
        "id": "r9S1wjjCuu89",
        "colab_type": "text"
      },
      "source": [
        "##3. Preparação de Dados\n",
        "<a id='preparo'></a>\n",
        "#### [3.1 Geração de Dados Genéricos](#geracao)\n",
        "#### [3.2. Concatenação dos Dados Genéricos do semestre anterior com o resultado da disciplina no semestre seguinte](#concatenacao)"
      ]
    },
    {
      "cell_type": "markdown",
      "metadata": {
        "id": "niLSYCnGCHZQ",
        "colab_type": "text"
      },
      "source": [
        "### 3.1. Geração de Dados Genéricos\n",
        "<a id='geracao'></a>"
      ]
    },
    {
      "cell_type": "markdown",
      "metadata": {
        "id": "LQzNnic6n7Aw",
        "colab_type": "text"
      },
      "source": [
        "Adicionando os DF a uma lista para minimizar o número de linhas"
      ]
    },
    {
      "cell_type": "code",
      "metadata": {
        "id": "PuPFoSjMvBNL",
        "colab_type": "code",
        "colab": {}
      },
      "source": [
        "lista_df_notas = [notas2015_1, notas2015_2, notas2016_1, notas2016_2 , notas2017_1, notas2017_2, notas2018_1, notas2018_2, notas2019_1]"
      ],
      "execution_count": 0,
      "outputs": []
    },
    {
      "cell_type": "code",
      "metadata": {
        "id": "bM9UtXE7kf6U",
        "colab_type": "code",
        "colab": {}
      },
      "source": [
        "lista_df_notas[-1].iloc[:2,1:]"
      ],
      "execution_count": 0,
      "outputs": []
    },
    {
      "cell_type": "code",
      "metadata": {
        "id": "4aA4ij7PQVRN",
        "colab_type": "code",
        "outputId": "6ca6e6f0-2787-4f97-e1fc-686e48119397",
        "colab": {
          "base_uri": "https://localhost:8080/",
          "height": 305
        }
      },
      "source": [
        "lista_df_notas[-1].info()"
      ],
      "execution_count": 0,
      "outputs": [
        {
          "output_type": "stream",
          "text": [
            "<class 'pandas.core.frame.DataFrame'>\n",
            "RangeIndex: 20620 entries, 0 to 20619\n",
            "Data columns (total 9 columns):\n",
            " #   Column      Non-Null Count  Dtype \n",
            "---  ------      --------------  ----- \n",
            " 0   periodo     20620 non-null  int64 \n",
            " 1   codigo      20620 non-null  object\n",
            " 2   disciplina  20620 non-null  object\n",
            " 3   turma       20620 non-null  object\n",
            " 4   siape       20620 non-null  object\n",
            " 5   horario     20617 non-null  object\n",
            " 6   matricula   20620 non-null  int64 \n",
            " 7   nota        20620 non-null  object\n",
            " 8   situacao    20620 non-null  object\n",
            "dtypes: int64(2), object(7)\n",
            "memory usage: 1.4+ MB\n"
          ],
          "name": "stdout"
        }
      ]
    },
    {
      "cell_type": "markdown",
      "metadata": {
        "id": "fxYVhWBHcWTJ",
        "colab_type": "text"
      },
      "source": [
        "A idéia de geração dos dados genéricos é a seguinte"
      ]
    },
    {
      "cell_type": "markdown",
      "metadata": {
        "id": "5-NLJxgXqV6J",
        "colab_type": "text"
      },
      "source": [
        "Passos de transformação de dados\n",
        "\n",
        "* primeiro\n",
        "* segundo"
      ]
    },
    {
      "cell_type": "markdown",
      "metadata": {
        "id": "EULg4DUhCV9f",
        "colab_type": "text"
      },
      "source": [
        "Classe para realizar transformação nos Dados\n",
        "\n",
        "Ela será no formato sugerido pela Sklearn para ser compatível com pipelines"
      ]
    },
    {
      "cell_type": "markdown",
      "metadata": {
        "id": "jURJ5OCjcmCY",
        "colab_type": "text"
      },
      "source": [
        "\n",
        "serao 2 classes de transformacao nesse notebook. A que treina os modelos é a proxima\n",
        "\n",
        "depois o próximo passo é concatenar o dataframe antecedente com o resultado na materia do semestre seguinte \n",
        "\n",
        "\n",
        "bagunça.com\n",
        "Função para concatenar o antecedente com a situação em matéria posterior\n",
        "def concatenaAntecessoresComResultadoPosterior(tableAntecedente,tableAtual,situacaoPosterior,final,flag):\n",
        "\n"
      ]
    },
    {
      "cell_type": "markdown",
      "metadata": {
        "id": "o3cUT5oWoZdo",
        "colab_type": "text"
      },
      "source": [
        "Vai retornar uma lista de listas, onde vai ser uma com os dados genericos e a outra com as notas contendo todas as transformações antes da geração de dados genéricos"
      ]
    },
    {
      "cell_type": "code",
      "metadata": {
        "id": "YiDJO4BPLYng",
        "colab_type": "code",
        "colab": {}
      },
      "source": [
        "class geraDadosGenericos(TransformerMixin):  \n",
        "  def __init__(self, carga):\n",
        "    self.carga = carga\n",
        "\n",
        "\t#nao irei fazer nenhum treinamento\t\n",
        "  def fit(self, X, y = None):\n",
        "    return self    \n",
        "\n",
        "  #-------------------------funcoes de geracao de dados da classe---------------------------------\n",
        "\n",
        "  def filtraSituacoes(self, df_notas):\n",
        "    #conversao para string\n",
        "    df_notas['matricula'] = df_notas['matricula'].astype(str)\n",
        "    df_notas['periodo']   = df_notas['periodo'].astype(str)\n",
        "\n",
        "    #substitui todas as situacoes de reprovado e aprovado para ser apenas um tipo\n",
        "    df_notas.loc[df_notas['situacao'].str.contains('REPROVADO'), 'situacao'] = 'REPROVADO'\n",
        "    df_notas.loc[df_notas['situacao'].str.contains('APROVADO'), 'situacao']  = 'APROVADO'\n",
        "\n",
        "    #seleciona as situacoes de interesse que são aprovados e reprovados\n",
        "    df_notas = df_notas.loc[(df_notas['situacao'].str.contains('APROVADO')) |\n",
        "                            (df_notas['situacao'].str.contains('REPROVADO')) \n",
        "                          ] \t\n",
        "    #tem disciplina que só contam para a horas complementares, não tem nota\n",
        "    df_notas = df_notas.loc[ ~(df_notas['nota'].str.contains('-')), :]\n",
        "\n",
        "    #conversao para de string para float\n",
        "    df_notas['nota'] = df_notas['nota'].astype(float)\n",
        "    return df_notas\n",
        "\n",
        "\n",
        "  def converteString(self, df_notas):\n",
        "    df_notas['periodo']   = df_notas['periodo'].astype(str)\n",
        "    return df_notas\n",
        "\n",
        "\n",
        "  def concatenaSemestre(self, df_notas):\n",
        "    #pega o ano mais alto que tem na matricula, indicando o semestre do df\n",
        "    ano_df = df_notas['matricula'].str[0:4].max()\n",
        "    df_notas['semestre'] = str(ano_df) + '.' + str(df_notas['periodo'].iloc[0])\n",
        "    #apagando a coluna periodo, nao serve mais\n",
        "    df_notas.drop(columns = ['periodo'], inplace=True)\n",
        "    #conversao para float\n",
        "    df_notas['semestre'] = df_notas['semestre'].astype(float)\n",
        "    df_notas['matricula'] = df_notas['matricula'].astype(int)\n",
        "    return df_notas\n",
        "\n",
        "  #adiciona quanto tempo o estudante esta com a matricula vingente \n",
        "  def anosMatriculado(self, df_notas): \n",
        "    df_notas['matricula'] = df_notas['matricula'].astype(str)\n",
        "    df_notas['anoIngresso'] = df_notas['matricula'].str[0:4]\n",
        "    df_notas['anoIngresso'] = df_notas['anoIngresso'].astype(float)\n",
        "    df_notas['semestre'] = df_notas['semestre'].astype(float)\n",
        "    df_notas['anosMatriculado'] = df_notas['semestre'] - df_notas['anoIngresso']\n",
        "    df_notas['anosMatriculado'] = df_notas['anosMatriculado'].astype(int)\n",
        "    return df_notas    \n",
        "\n",
        "\n",
        "  #essa função vai criar as novas features com o desempenho do aluno no semestre \n",
        "  def geraFeaturesComDadosGenericos(self, df_notas):\n",
        "    df_notas = df_notas.merge(self.carga, on = 'codigo')\n",
        "    df = pd.DataFrame()\n",
        "    final = pd.DataFrame()\n",
        "\n",
        "    #media das disciplinas\n",
        "    df = df_notas.groupby('matricula')['nota'].mean().reset_index()\n",
        "    df.rename(columns={'nota':'mediaNotas'}, inplace = True)\n",
        "    final = df\n",
        "\n",
        "    #menor nota\n",
        "    df = df_notas.groupby('matricula')['nota'].min().reset_index()\n",
        "    df.rename(columns = {'nota':'menorNota'}, inplace = True)\n",
        "    final = final.merge(df, on = 'matricula', how = 'outer')\n",
        "\n",
        "    #maior nota\n",
        "    df = df_notas.groupby('matricula')['nota'].max().reset_index()\n",
        "    df.rename(columns = {'nota':'maiorNota'}, inplace = True)\n",
        "    final = final.merge(df, on = 'matricula', how = 'outer')\n",
        "\n",
        "    #quantidade de disciplinas cursadas\n",
        "    df = df_notas.groupby('matricula')['codigo'].count().reset_index()\n",
        "    df.rename(columns = {'codigo':'quantidadeDisciplinasCursadas'}, inplace=True)\n",
        "    final = final.merge(df, on = 'matricula', how = 'outer')\n",
        "\n",
        "    #quantidade de situacoes\n",
        "    df = df_notas.groupby(['matricula','situacao'])['codigo'].count().reset_index()\n",
        "    df.rename(columns = {'codigo':'quanSituacao'}, inplace = True)\n",
        "\n",
        "    #quantidade de situacoes em que houve aprovacao\n",
        "    aprovado = df.loc[df['situacao'] == 'APROVADO',:]\n",
        "    aprovado.rename(columns = {'quanSituacao':'quantidadeAprovacoes'}, inplace = True)\n",
        "    final = final.merge(aprovado, on = 'matricula', how = 'outer')\n",
        "\n",
        "    #quantidade de situacoes em que houve reprovacao\n",
        "    reprovado = df.loc[df['situacao'] == 'REPROVADO',:]\n",
        "    reprovado.rename(columns = {'quanSituacao':'quantidadeReprovacoes'}, inplace = True)\n",
        "    final = final.merge(reprovado, on = 'matricula', how = 'outer')\n",
        "    final = final.drop(['situacao_x', 'situacao_y'], axis = 1)\n",
        "\n",
        "    #media das aprovacoes\n",
        "    aprov = df_notas.loc[df_notas['situacao'] == 'APROVADO',:]\n",
        "    dfa = aprov.groupby(['matricula'])['nota'].mean().reset_index()\n",
        "    dfa.rename(columns = {'nota':'mediaAprovadas'}, inplace = True)\n",
        "    final = final.merge(dfa, on = 'matricula', how ='outer')\n",
        "\n",
        "    #media das reprovacoes\n",
        "    reprov = df_notas.loc[df_notas['situacao'] == 'REPROVADO',:]\n",
        "    dfr = reprov.groupby(['matricula'])['nota'].mean().reset_index()\n",
        "    dfr.rename(columns = {'nota':'mediaReprovadas'}, inplace = True)\n",
        "    final = final.merge(dfr, on = 'matricula', how ='outer')\n",
        "\n",
        "    #carga horaria total no semestre\n",
        "    df = df_notas.groupby('matricula')['ch_total'].sum().reset_index()\n",
        "    df.rename(columns = {'ch_total':'cargaHoraria'}, inplace = True)\n",
        "    final = final.merge(df, on = 'matricula', how = 'outer')\n",
        "\n",
        "    #substituindo valores nulos por 0\n",
        "    final = final.fillna(0)\n",
        "\n",
        "    #conversao de campos de objeto para inteiro\n",
        "    final['quantidadeAprovacoes']  = final['quantidadeAprovacoes'].astype(int)\n",
        "    final['quantidadeReprovacoes'] = final['quantidadeReprovacoes'].astype(int)\n",
        "\n",
        "    #Criando campo taxa de sucesso, que será a porcentagem de aprovações dado o total de disciplinas\n",
        "    final['taxaDeSucesso']  = np.divide(final['quantidadeAprovacoes'], final['quantidadeDisciplinasCursadas']) \n",
        "\n",
        "    #herdando o semestre\n",
        "    final['semestre'] = df_notas['semestre']\n",
        "\n",
        "    return final\n",
        "\n",
        "  #--------------------fim das funcoes de geracao de dados da classe-----------------------------------------\n",
        "\n",
        "\n",
        "  def transform(self, X, y = None):\n",
        "    #itera a lista\n",
        "    lista_df_notas = X.copy()\n",
        "    lista_df_generico = []\n",
        "    lista_notas = []\n",
        "    lista_de_listas = []\n",
        "    for df_notas in lista_df_notas:\n",
        "      df_notas = self.converteString(df_notas)\n",
        "      df_notas = self.filtraSituacoes(df_notas)\n",
        "      df_notas = self.concatenaSemestre(df_notas)\n",
        "      lista_notas.append(df_notas)\n",
        "      df_generico = self.geraFeaturesComDadosGenericos(df_notas)\n",
        "      df_generico = self.anosMatriculado(df_generico)\n",
        "      lista_df_generico.append(df_generico)\n",
        "\n",
        "    lista_de_listas.append(lista_df_generico)  \n",
        "    lista_de_listas.append(lista_notas)\n",
        "    return lista_de_listas"
      ],
      "execution_count": 0,
      "outputs": []
    },
    {
      "cell_type": "code",
      "metadata": {
        "id": "XyBU1Umz3aWX",
        "colab_type": "code",
        "colab": {
          "base_uri": "https://localhost:8080/",
          "height": 108
        },
        "outputId": "f3a678a1-7027-43e7-dd56-df4fc577f526"
      },
      "source": [
        "str_transf = geraDadosGenericos(carga)\n",
        "df_nota_generico = str_transf.transform(lista_df_notas)"
      ],
      "execution_count": 6,
      "outputs": [
        {
          "output_type": "stream",
          "text": [
            "/usr/local/lib/python3.6/dist-packages/pandas/core/frame.py:4133: SettingWithCopyWarning: \n",
            "A value is trying to be set on a copy of a slice from a DataFrame\n",
            "\n",
            "See the caveats in the documentation: https://pandas.pydata.org/pandas-docs/stable/user_guide/indexing.html#returning-a-view-versus-a-copy\n",
            "  errors=errors,\n"
          ],
          "name": "stderr"
        }
      ]
    },
    {
      "cell_type": "code",
      "metadata": {
        "id": "KZi5vhQCVVSL",
        "colab_type": "code",
        "colab": {}
      },
      "source": [
        "df_teste[0][0].iloc[:,[0,9,10,4,-1]]"
      ],
      "execution_count": 0,
      "outputs": []
    },
    {
      "cell_type": "code",
      "metadata": {
        "id": "EaQLvUitw6ha",
        "colab_type": "code",
        "outputId": "b765a828-fae1-4513-ecb4-0ff66874d8cb",
        "colab": {
          "base_uri": "https://localhost:8080/",
          "height": 111
        }
      },
      "source": [
        "df_teste[1][0].iloc[:,:-3].head(2)"
      ],
      "execution_count": 0,
      "outputs": [
        {
          "output_type": "execute_result",
          "data": {
            "text/html": [
              "<div>\n",
              "<style scoped>\n",
              "    .dataframe tbody tr th:only-of-type {\n",
              "        vertical-align: middle;\n",
              "    }\n",
              "\n",
              "    .dataframe tbody tr th {\n",
              "        vertical-align: top;\n",
              "    }\n",
              "\n",
              "    .dataframe thead th {\n",
              "        text-align: right;\n",
              "    }\n",
              "</style>\n",
              "<table border=\"1\" class=\"dataframe\">\n",
              "  <thead>\n",
              "    <tr style=\"text-align: right;\">\n",
              "      <th></th>\n",
              "      <th>codigo</th>\n",
              "      <th>disciplina</th>\n",
              "      <th>turma</th>\n",
              "      <th>siape</th>\n",
              "      <th>horario</th>\n",
              "      <th>matricula</th>\n",
              "    </tr>\n",
              "  </thead>\n",
              "  <tbody>\n",
              "    <tr>\n",
              "      <th>0</th>\n",
              "      <td>DEM0304</td>\n",
              "      <td>TERMODINAMICA BASICA</td>\n",
              "      <td>01</td>\n",
              "      <td>1753416-1,2154326-9</td>\n",
              "      <td>24T56</td>\n",
              "      <td>2014057205</td>\n",
              "    </tr>\n",
              "    <tr>\n",
              "      <th>6</th>\n",
              "      <td>ECT2106</td>\n",
              "      <td>CIÊNCIA, TECNOLOGIA E SOCIEDADE</td>\n",
              "      <td>04</td>\n",
              "      <td>1051570-6</td>\n",
              "      <td>4N12 (02/02/2015 - 20/06/2015)</td>\n",
              "      <td>2015000889</td>\n",
              "    </tr>\n",
              "  </tbody>\n",
              "</table>\n",
              "</div>"
            ],
            "text/plain": [
              "    codigo  ...   matricula\n",
              "0  DEM0304  ...  2014057205\n",
              "6  ECT2106  ...  2015000889\n",
              "\n",
              "[2 rows x 6 columns]"
            ]
          },
          "metadata": {
            "tags": []
          },
          "execution_count": 48
        }
      ]
    },
    {
      "cell_type": "code",
      "metadata": {
        "id": "QQEc7Dqv809k",
        "colab_type": "code",
        "outputId": "229a4fa5-f6c4-482f-c79c-0ed6772a5cb5",
        "colab": {
          "base_uri": "https://localhost:8080/",
          "height": 162
        }
      },
      "source": [
        "df_teste[0][3].head(3)"
      ],
      "execution_count": 0,
      "outputs": [
        {
          "output_type": "execute_result",
          "data": {
            "text/html": [
              "<div>\n",
              "<style scoped>\n",
              "    .dataframe tbody tr th:only-of-type {\n",
              "        vertical-align: middle;\n",
              "    }\n",
              "\n",
              "    .dataframe tbody tr th {\n",
              "        vertical-align: top;\n",
              "    }\n",
              "\n",
              "    .dataframe thead th {\n",
              "        text-align: right;\n",
              "    }\n",
              "</style>\n",
              "<table border=\"1\" class=\"dataframe\">\n",
              "  <thead>\n",
              "    <tr style=\"text-align: right;\">\n",
              "      <th></th>\n",
              "      <th>matricula</th>\n",
              "      <th>mediaNotas</th>\n",
              "      <th>menorNota</th>\n",
              "      <th>maiorNota</th>\n",
              "      <th>quantidadeDisciplinasCursadas</th>\n",
              "      <th>quantidadeAprovacoes</th>\n",
              "      <th>quantidadeReprovacoes</th>\n",
              "      <th>mediaAprovadas</th>\n",
              "      <th>mediaReprovadas</th>\n",
              "      <th>cargaHoraria</th>\n",
              "      <th>taxaDeSucesso</th>\n",
              "      <th>semestre</th>\n",
              "      <th>anoIngresso</th>\n",
              "      <th>anosMatriculado</th>\n",
              "    </tr>\n",
              "  </thead>\n",
              "  <tbody>\n",
              "    <tr>\n",
              "      <th>0</th>\n",
              "      <td>2009028457</td>\n",
              "      <td>2.733333</td>\n",
              "      <td>0.0</td>\n",
              "      <td>5.6</td>\n",
              "      <td>3</td>\n",
              "      <td>1</td>\n",
              "      <td>2</td>\n",
              "      <td>5.600000</td>\n",
              "      <td>1.3</td>\n",
              "      <td>180</td>\n",
              "      <td>0.333333</td>\n",
              "      <td>2016.2</td>\n",
              "      <td>2009.0</td>\n",
              "      <td>7</td>\n",
              "    </tr>\n",
              "    <tr>\n",
              "      <th>1</th>\n",
              "      <td>2009030796</td>\n",
              "      <td>6.225000</td>\n",
              "      <td>0.5</td>\n",
              "      <td>9.1</td>\n",
              "      <td>4</td>\n",
              "      <td>3</td>\n",
              "      <td>1</td>\n",
              "      <td>8.133333</td>\n",
              "      <td>0.5</td>\n",
              "      <td>210</td>\n",
              "      <td>0.750000</td>\n",
              "      <td>2016.2</td>\n",
              "      <td>2009.0</td>\n",
              "      <td>7</td>\n",
              "    </tr>\n",
              "    <tr>\n",
              "      <th>2</th>\n",
              "      <td>2009031954</td>\n",
              "      <td>2.940000</td>\n",
              "      <td>1.3</td>\n",
              "      <td>5.9</td>\n",
              "      <td>5</td>\n",
              "      <td>1</td>\n",
              "      <td>4</td>\n",
              "      <td>5.900000</td>\n",
              "      <td>2.2</td>\n",
              "      <td>300</td>\n",
              "      <td>0.200000</td>\n",
              "      <td>2016.2</td>\n",
              "      <td>2009.0</td>\n",
              "      <td>7</td>\n",
              "    </tr>\n",
              "  </tbody>\n",
              "</table>\n",
              "</div>"
            ],
            "text/plain": [
              "    matricula  mediaNotas  menorNota  ...  semestre  anoIngresso  anosMatriculado\n",
              "0  2009028457    2.733333        0.0  ...    2016.2       2009.0                7\n",
              "1  2009030796    6.225000        0.5  ...    2016.2       2009.0                7\n",
              "2  2009031954    2.940000        1.3  ...    2016.2       2009.0                7\n",
              "\n",
              "[3 rows x 14 columns]"
            ]
          },
          "metadata": {
            "tags": []
          },
          "execution_count": 110
        }
      ]
    },
    {
      "cell_type": "markdown",
      "metadata": {
        "id": "gN28XzJ5Euog",
        "colab_type": "text"
      },
      "source": [
        "### 3.2. Concatenação dos Dados Genéricos do semestre anterior com o resultado da disciplina no semestre seguinte\n",
        "<a id='concatenacao'></a>\n"
      ]
    },
    {
      "cell_type": "code",
      "metadata": {
        "id": "ni7-7NzVsRsa",
        "colab_type": "code",
        "colab": {}
      },
      "source": [
        "def converteParaInt(df):\n",
        "    df['matricula'] = df['matricula'].astype(int)\n",
        "    return df\n",
        "\n",
        "\n",
        "def transformacoesSemestreAntecessor(semestreAntecessor):\n",
        "  semestreAntecessor = converteParaInt(semestreAntecessor)\n",
        "  semestreAntecessor = semestreAntecessor.drop(columns = ['cargaHoraria','taxaDeSucesso','semestre'])\n",
        "  return semestreAntecessor\n",
        "\n",
        "\n",
        "def transformacoesSemestreAtual(semestreAtual): \n",
        "  semestreAtual = converteParaInt(semestreAtual)\n",
        "  #seleciona os campos que vou precisar\n",
        "  semestreAtual = semestreAtual[['matricula','cargaHoraria','semestre','quantidadeDisciplinasCursadas','anosMatriculado']]\n",
        "  semestreAtual.rename(columns = {'cargaHoraria':\"cargaHorariaAtual\",\n",
        "                                  'quantidadeDisciplinasCursadas':'quantidadeDisciplinasAtuais',\n",
        "                                  'semestre':'semestreAtual'}, \n",
        "                                  inplace=True) \n",
        "  return semestreAtual\n",
        "\n",
        "\n",
        "def transformacoesResultadoAtual(resultadoAtual):  \n",
        "  resultadoAtual = converteParaInt(resultadoAtual)\n",
        "  #seleciona os campos que vou precisar\n",
        "  resultadoAtual = resultadoAtual[['codigo','matricula','siape','situacao']]\n",
        "  #cria campo vezes reprovado\n",
        "  resultadoAtual[\"vezesReprovado\"] = 0\n",
        "  return resultadoAtual\n",
        "\n",
        "\n",
        "def mergeTriploTabelas(semestreAntecessor, semestreAtual, resultadoAtual):\n",
        "  dfCompleto = pd.merge(pd.merge(semestreAntecessor, resultadoAtual, on = 'matricula'), \n",
        "                        semestreAtual.drop(columns = ['anosMatriculado']), \n",
        "                        on = 'matricula')\n",
        "  return dfCompleto\n",
        "\n",
        "\n",
        "def insereVerificaReprovacoes(dfCompleto, df_teste):\n",
        "  #df temporario para armazenar as consultas com resultados iguais\n",
        "  dftemporario = pd.DataFrame()\n",
        "  #itera na lista de notas para achar se o aluno ja reprovou em um semestre anterior ao atual\n",
        "  for df in df_teste[1]:\n",
        "    #se eh anterior ao atual semestre\n",
        "    if dfCompleto['semestreAtual'].max() > df['semestre'].max():\n",
        "      #vou juntar onde no passado do aluno ele cursou a disiciplina para verificar se ele ja foi reprovado, \n",
        "      #se aparecer um caso é porque ele ja pagou a disciplina antes, e consequentemente já reprovou\n",
        "      merge = pd.merge(dfCompleto[['matricula','codigo','vezesReprovado']], df[['matricula','codigo']], \n",
        "                      on = ['matricula','codigo'], how = 'inner')\n",
        "      #todas as iterações que cumprirem um criterio são acumuladas no df\n",
        "      dftemporario = pd.concat([dftemporario,merge])\n",
        "  dftemporario = dftemporario.groupby(['matricula','codigo'])['vezesReprovado'].count().reset_index().sort_values(by = 'matricula')\n",
        "  dftemporario = pd.merge(dfCompleto.drop(columns = ['vezesReprovado']), dftemporario, on = ['matricula','codigo'])\n",
        "  return dftemporario"
      ],
      "execution_count": 0,
      "outputs": []
    },
    {
      "cell_type": "code",
      "metadata": {
        "id": "th1cYaVyneWa",
        "colab_type": "code",
        "colab": {}
      },
      "source": [
        "def transform(X, y = None):\n",
        "  dfCompleto = pd.DataFrame()\n",
        "  df_nota_generico_cp = X.copy()\n",
        "  lista_df_completos = []\n",
        "  #semestreAntecessor = df_teste[0][3] i\n",
        "  #semestreAtual = df_teste[0][4] i+1 \n",
        "  #resultadoAtual = df_teste[1][4] i+1\n",
        "\n",
        "  semestre = df_nota_generico[0]\n",
        "  resultado = df_nota_generico[1]\n",
        "\n",
        "  for i in range (len(df_teste[0]) - 2):\n",
        "    semestreAntecessor = semestre[i]\n",
        "    semestreAtual = semestre[i+1]\n",
        "    resultadoAtual = resultado[i+1]\n",
        "\n",
        "    semestreAntecessor = transformacoesSemestreAntecessor(semestreAntecessor)\n",
        "    semestreAtual = transformacoesSemestreAtual(semestreAtual)\n",
        "    resultadoAtual = transformacoesResultadoAtual(resultadoAtual)\n",
        "    dfCompleto = mergeTriploTabelas(semestreAntecessor, semestreAtual, resultadoAtual)\n",
        "    resultado = insereVerificaReprovacoes(dfCompleto, df_nota_generico)\n",
        "    print(resultado)\n",
        "    #lista_df_completos.append(i)\n",
        "    \n",
        "  return lista_df_completos\n",
        "  "
      ],
      "execution_count": 0,
      "outputs": []
    },
    {
      "cell_type": "code",
      "metadata": {
        "id": "60dJ5s6xBYC_",
        "colab_type": "code",
        "colab": {}
      },
      "source": [
        "lista = transform(df_nota_generico)\n",
        "lista"
      ],
      "execution_count": 0,
      "outputs": []
    },
    {
      "cell_type": "code",
      "metadata": {
        "id": "3zlY5Vv9CXCY",
        "colab_type": "code",
        "outputId": "2baa82a1-2980-4a32-dd9f-4ed3c033d53d",
        "colab": {
          "base_uri": "https://localhost:8080/",
          "height": 35
        }
      },
      "source": [
        "lista"
      ],
      "execution_count": 0,
      "outputs": [
        {
          "output_type": "execute_result",
          "data": {
            "text/plain": [
              "[]"
            ]
          },
          "metadata": {
            "tags": []
          },
          "execution_count": 165
        }
      ]
    },
    {
      "cell_type": "code",
      "metadata": {
        "id": "OzEBoI1U30-D",
        "colab_type": "code",
        "outputId": "03792b02-1ebe-4794-cc8a-e20894dbfc1a",
        "colab": {
          "base_uri": "https://localhost:8080/",
          "height": 258
        }
      },
      "source": [
        "dfCompleto.head()"
      ],
      "execution_count": 0,
      "outputs": [
        {
          "output_type": "execute_result",
          "data": {
            "text/html": [
              "<div>\n",
              "<style scoped>\n",
              "    .dataframe tbody tr th:only-of-type {\n",
              "        vertical-align: middle;\n",
              "    }\n",
              "\n",
              "    .dataframe tbody tr th {\n",
              "        vertical-align: top;\n",
              "    }\n",
              "\n",
              "    .dataframe thead th {\n",
              "        text-align: right;\n",
              "    }\n",
              "</style>\n",
              "<table border=\"1\" class=\"dataframe\">\n",
              "  <thead>\n",
              "    <tr style=\"text-align: right;\">\n",
              "      <th></th>\n",
              "      <th>matricula</th>\n",
              "      <th>mediaNotas</th>\n",
              "      <th>menorNota</th>\n",
              "      <th>maiorNota</th>\n",
              "      <th>quantidadeDisciplinasCursadas</th>\n",
              "      <th>quantidadeAprovacoes</th>\n",
              "      <th>quantidadeReprovacoes</th>\n",
              "      <th>mediaAprovadas</th>\n",
              "      <th>mediaReprovadas</th>\n",
              "      <th>anoIngresso</th>\n",
              "      <th>anosMatriculado</th>\n",
              "      <th>codigo</th>\n",
              "      <th>siape</th>\n",
              "      <th>situacao</th>\n",
              "      <th>vezesReprovado</th>\n",
              "      <th>cargaHorariaAtual</th>\n",
              "      <th>semestreAtual</th>\n",
              "      <th>quantidadeDisciplinasAtuais</th>\n",
              "    </tr>\n",
              "  </thead>\n",
              "  <tbody>\n",
              "    <tr>\n",
              "      <th>0</th>\n",
              "      <td>2009028457</td>\n",
              "      <td>2.733333</td>\n",
              "      <td>0.0</td>\n",
              "      <td>5.6</td>\n",
              "      <td>3</td>\n",
              "      <td>1</td>\n",
              "      <td>2</td>\n",
              "      <td>5.600000</td>\n",
              "      <td>1.3</td>\n",
              "      <td>2009.0</td>\n",
              "      <td>7</td>\n",
              "      <td>ECT2303</td>\n",
              "      <td>2836616-8,1555898-5</td>\n",
              "      <td>REPROVADO</td>\n",
              "      <td>0</td>\n",
              "      <td>270</td>\n",
              "      <td>2017.1</td>\n",
              "      <td>4</td>\n",
              "    </tr>\n",
              "    <tr>\n",
              "      <th>1</th>\n",
              "      <td>2009028457</td>\n",
              "      <td>2.733333</td>\n",
              "      <td>0.0</td>\n",
              "      <td>5.6</td>\n",
              "      <td>3</td>\n",
              "      <td>1</td>\n",
              "      <td>2</td>\n",
              "      <td>5.600000</td>\n",
              "      <td>1.3</td>\n",
              "      <td>2009.0</td>\n",
              "      <td>7</td>\n",
              "      <td>ECT2304</td>\n",
              "      <td>2218079-8</td>\n",
              "      <td>REPROVADO</td>\n",
              "      <td>0</td>\n",
              "      <td>270</td>\n",
              "      <td>2017.1</td>\n",
              "      <td>4</td>\n",
              "    </tr>\n",
              "    <tr>\n",
              "      <th>2</th>\n",
              "      <td>2009028457</td>\n",
              "      <td>2.733333</td>\n",
              "      <td>0.0</td>\n",
              "      <td>5.6</td>\n",
              "      <td>3</td>\n",
              "      <td>1</td>\n",
              "      <td>2</td>\n",
              "      <td>5.600000</td>\n",
              "      <td>1.3</td>\n",
              "      <td>2009.0</td>\n",
              "      <td>7</td>\n",
              "      <td>ECT2502</td>\n",
              "      <td>1148551-7</td>\n",
              "      <td>APROVADO</td>\n",
              "      <td>0</td>\n",
              "      <td>270</td>\n",
              "      <td>2017.1</td>\n",
              "      <td>4</td>\n",
              "    </tr>\n",
              "    <tr>\n",
              "      <th>3</th>\n",
              "      <td>2009028457</td>\n",
              "      <td>2.733333</td>\n",
              "      <td>0.0</td>\n",
              "      <td>5.6</td>\n",
              "      <td>3</td>\n",
              "      <td>1</td>\n",
              "      <td>2</td>\n",
              "      <td>5.600000</td>\n",
              "      <td>1.3</td>\n",
              "      <td>2009.0</td>\n",
              "      <td>7</td>\n",
              "      <td>ECT2206</td>\n",
              "      <td>1753123-5</td>\n",
              "      <td>APROVADO</td>\n",
              "      <td>0</td>\n",
              "      <td>270</td>\n",
              "      <td>2017.1</td>\n",
              "      <td>4</td>\n",
              "    </tr>\n",
              "    <tr>\n",
              "      <th>4</th>\n",
              "      <td>2009030796</td>\n",
              "      <td>6.225000</td>\n",
              "      <td>0.5</td>\n",
              "      <td>9.1</td>\n",
              "      <td>4</td>\n",
              "      <td>3</td>\n",
              "      <td>1</td>\n",
              "      <td>8.133333</td>\n",
              "      <td>0.5</td>\n",
              "      <td>2009.0</td>\n",
              "      <td>7</td>\n",
              "      <td>DCO1002</td>\n",
              "      <td>1422699-7</td>\n",
              "      <td>REPROVADO</td>\n",
              "      <td>0</td>\n",
              "      <td>120</td>\n",
              "      <td>2017.1</td>\n",
              "      <td>2</td>\n",
              "    </tr>\n",
              "  </tbody>\n",
              "</table>\n",
              "</div>"
            ],
            "text/plain": [
              "    matricula  mediaNotas  ...  semestreAtual  quantidadeDisciplinasAtuais\n",
              "0  2009028457    2.733333  ...         2017.1                            4\n",
              "1  2009028457    2.733333  ...         2017.1                            4\n",
              "2  2009028457    2.733333  ...         2017.1                            4\n",
              "3  2009028457    2.733333  ...         2017.1                            4\n",
              "4  2009030796    6.225000  ...         2017.1                            2\n",
              "\n",
              "[5 rows x 18 columns]"
            ]
          },
          "metadata": {
            "tags": []
          },
          "execution_count": 114
        }
      ]
    },
    {
      "cell_type": "markdown",
      "metadata": {
        "id": "w3SZjEqwFEoa",
        "colab_type": "text"
      },
      "source": [
        "resultado vai ser uma lista de dataframes \n",
        "\n",
        "vou pegar o df completo com antecessedente concatenado\n",
        "\n",
        "depois vou rodar um for com todas as notas anteriores\n",
        "\n",
        "toda semestre que for menor \n",
        "\n",
        "eu vou ver se o aluno cursou x materia\n"
      ]
    },
    {
      "cell_type": "code",
      "metadata": {
        "id": "cc53q6c5J5Rt",
        "colab_type": "code",
        "outputId": "d7309f5f-ae79-48a6-8884-b73449a8dc72",
        "colab": {
          "base_uri": "https://localhost:8080/",
          "height": 35
        }
      },
      "source": [
        "dfCompleto['semestreAtual'][0]"
      ],
      "execution_count": 0,
      "outputs": [
        {
          "output_type": "execute_result",
          "data": {
            "text/plain": [
              "2017.1"
            ]
          },
          "metadata": {
            "tags": []
          },
          "execution_count": 62
        }
      ]
    },
    {
      "cell_type": "code",
      "metadata": {
        "id": "-b_WM_UFneKl",
        "colab_type": "code",
        "outputId": "dc1d9850-e78d-4111-8c33-1b1cdf69ba91",
        "colab": {
          "base_uri": "https://localhost:8080/",
          "height": 305
        }
      },
      "source": [
        "df_teste[1][0].info()"
      ],
      "execution_count": 0,
      "outputs": [
        {
          "output_type": "stream",
          "text": [
            "<class 'pandas.core.frame.DataFrame'>\n",
            "Int64Index: 16086 entries, 0 to 46684\n",
            "Data columns (total 9 columns):\n",
            " #   Column      Non-Null Count  Dtype  \n",
            "---  ------      --------------  -----  \n",
            " 0   codigo      16086 non-null  object \n",
            " 1   disciplina  16086 non-null  object \n",
            " 2   turma       16086 non-null  object \n",
            " 3   siape       16086 non-null  object \n",
            " 4   horario     16086 non-null  object \n",
            " 5   matricula   16086 non-null  int64  \n",
            " 6   nota        16086 non-null  float64\n",
            " 7   situacao    16086 non-null  object \n",
            " 8   semestre    16086 non-null  float64\n",
            "dtypes: float64(2), int64(1), object(6)\n",
            "memory usage: 1.2+ MB\n"
          ],
          "name": "stdout"
        }
      ]
    },
    {
      "cell_type": "code",
      "metadata": {
        "id": "VF3ig4GZJWQt",
        "colab_type": "code",
        "outputId": "612aa84d-2e5b-44e9-c7bd-419fa52582b6",
        "colab": {
          "base_uri": "https://localhost:8080/",
          "height": 467
        }
      },
      "source": [
        "dfCompleto.info()"
      ],
      "execution_count": 0,
      "outputs": [
        {
          "output_type": "stream",
          "text": [
            "<class 'pandas.core.frame.DataFrame'>\n",
            "Int64Index: 11234 entries, 0 to 11233\n",
            "Data columns (total 18 columns):\n",
            " #   Column                         Non-Null Count  Dtype  \n",
            "---  ------                         --------------  -----  \n",
            " 0   matricula                      11234 non-null  int64  \n",
            " 1   mediaNotas                     11234 non-null  float64\n",
            " 2   menorNota                      11234 non-null  float64\n",
            " 3   maiorNota                      11234 non-null  float64\n",
            " 4   quantidadeDisciplinasCursadas  11234 non-null  int64  \n",
            " 5   quantidadeAprovacoes           11234 non-null  int64  \n",
            " 6   quantidadeReprovacoes          11234 non-null  int64  \n",
            " 7   mediaAprovadas                 11234 non-null  float64\n",
            " 8   mediaReprovadas                11234 non-null  float64\n",
            " 9   anoIngresso                    11234 non-null  float64\n",
            " 10  anosMatriculado                11234 non-null  int64  \n",
            " 11  codigo                         11234 non-null  object \n",
            " 12  siape                          11234 non-null  object \n",
            " 13  situacao                       11234 non-null  object \n",
            " 14  vezesReprovado                 11234 non-null  int64  \n",
            " 15  cargaHorariaAtual              11234 non-null  int64  \n",
            " 16  semestreAtual                  11234 non-null  float64\n",
            " 17  quantidadeDisciplinasAtuais    11234 non-null  int64  \n",
            "dtypes: float64(7), int64(8), object(3)\n",
            "memory usage: 1.6+ MB\n"
          ],
          "name": "stdout"
        }
      ]
    },
    {
      "cell_type": "code",
      "metadata": {
        "id": "ulqe-8_sJGol",
        "colab_type": "code",
        "outputId": "d673a732-714a-4407-86f4-ccb806c98601",
        "colab": {
          "base_uri": "https://localhost:8080/",
          "height": 35
        }
      },
      "source": [
        "dfCompleto['semestreAtual'].max() > df_teste[1][0]['semestre'][0].max()"
      ],
      "execution_count": 0,
      "outputs": [
        {
          "output_type": "execute_result",
          "data": {
            "text/plain": [
              "True"
            ]
          },
          "metadata": {
            "tags": []
          },
          "execution_count": 79
        }
      ]
    },
    {
      "cell_type": "code",
      "metadata": {
        "id": "q6LB0YRnyQ4C",
        "colab_type": "code",
        "outputId": "16aa8373-2b8a-434b-c5f1-29736181fc72",
        "colab": {
          "base_uri": "https://localhost:8080/",
          "height": 49
        }
      },
      "source": [
        ""
      ],
      "execution_count": 0,
      "outputs": [
        {
          "output_type": "execute_result",
          "data": {
            "text/html": [
              "<div>\n",
              "<style scoped>\n",
              "    .dataframe tbody tr th:only-of-type {\n",
              "        vertical-align: middle;\n",
              "    }\n",
              "\n",
              "    .dataframe tbody tr th {\n",
              "        vertical-align: top;\n",
              "    }\n",
              "\n",
              "    .dataframe thead th {\n",
              "        text-align: right;\n",
              "    }\n",
              "</style>\n",
              "<table border=\"1\" class=\"dataframe\">\n",
              "  <thead>\n",
              "    <tr style=\"text-align: right;\">\n",
              "      <th></th>\n",
              "      <th>matricula</th>\n",
              "      <th>codigo</th>\n",
              "      <th>vezesReprovado</th>\n",
              "    </tr>\n",
              "  </thead>\n",
              "  <tbody>\n",
              "  </tbody>\n",
              "</table>\n",
              "</div>"
            ],
            "text/plain": [
              "Empty DataFrame\n",
              "Columns: [matricula, codigo, vezesReprovado]\n",
              "Index: []"
            ]
          },
          "metadata": {
            "tags": []
          },
          "execution_count": 134
        }
      ]
    },
    {
      "cell_type": "code",
      "metadata": {
        "id": "GRohbSB_TUfA",
        "colab_type": "code",
        "outputId": "89c4d7a9-50a1-4462-825c-a93af2e573d7",
        "colab": {
          "base_uri": "https://localhost:8080/",
          "height": 204
        }
      },
      "source": [
        "def insereVerificaReprovacoes(df_teste):\n",
        "  #df temporario para armazenar as consultas com resultados iguais\n",
        "  dftemporario = pd.DataFrame()\n",
        "  #itera na lista de notas para achar se o aluno ja reprovou em um semestre anterior ao atual\n",
        "  for df in df_teste[1]:\n",
        "    #se eh anterior ao atual semestre\n",
        "    if dfCompleto['semestreAtual'].max() > df['semestre'].max():\n",
        "      #vou juntar onde no passado do aluno ele cursou a disiciplina para verificar se ele ja foi reprovado, \n",
        "      #se aparecer um caso é porque ele ja pagou a disciplina antes, e consequentemente já reprovou\n",
        "      merge = pd.merge(dfCompleto[['matricula','codigo','vezesReprovado']], df[['matricula','codigo']], \n",
        "                      on = ['matricula','codigo'], how = 'inner')\n",
        "      #todas as iterações que cumprirem um criterio são acumuladas no df\n",
        "      dftemporario = pd.concat([dftemporario,merge])\n",
        "  dftemporario = dftemporario.groupby(['matricula','codigo'])['vezesReprovado'].count().reset_index().sort_values(by = 'matricula')\n",
        "  dftemporario = pd.merge(dfCompleto.drop(columns = ['vezesReprovado']), dftemporario, on = ['matricula','codigo'])\n",
        "  return dftemporario"
      ],
      "execution_count": 0,
      "outputs": [
        {
          "output_type": "execute_result",
          "data": {
            "text/html": [
              "<div>\n",
              "<style scoped>\n",
              "    .dataframe tbody tr th:only-of-type {\n",
              "        vertical-align: middle;\n",
              "    }\n",
              "\n",
              "    .dataframe tbody tr th {\n",
              "        vertical-align: top;\n",
              "    }\n",
              "\n",
              "    .dataframe thead th {\n",
              "        text-align: right;\n",
              "    }\n",
              "</style>\n",
              "<table border=\"1\" class=\"dataframe\">\n",
              "  <thead>\n",
              "    <tr style=\"text-align: right;\">\n",
              "      <th></th>\n",
              "      <th>matricula</th>\n",
              "      <th>codigo</th>\n",
              "      <th>vezesReprovado</th>\n",
              "    </tr>\n",
              "  </thead>\n",
              "  <tbody>\n",
              "    <tr>\n",
              "      <th>0</th>\n",
              "      <td>2010038622</td>\n",
              "      <td>DCA0103</td>\n",
              "      <td>0</td>\n",
              "    </tr>\n",
              "    <tr>\n",
              "      <th>1</th>\n",
              "      <td>2010038622</td>\n",
              "      <td>ECT2402</td>\n",
              "      <td>0</td>\n",
              "    </tr>\n",
              "    <tr>\n",
              "      <th>2</th>\n",
              "      <td>2010040163</td>\n",
              "      <td>DCA0103</td>\n",
              "      <td>0</td>\n",
              "    </tr>\n",
              "    <tr>\n",
              "      <th>3</th>\n",
              "      <td>2010042883</td>\n",
              "      <td>ECT2412</td>\n",
              "      <td>0</td>\n",
              "    </tr>\n",
              "    <tr>\n",
              "      <th>4</th>\n",
              "      <td>2010043871</td>\n",
              "      <td>ECT2412</td>\n",
              "      <td>0</td>\n",
              "    </tr>\n",
              "  </tbody>\n",
              "</table>\n",
              "</div>"
            ],
            "text/plain": [
              "    matricula   codigo  vezesReprovado\n",
              "0  2010038622  DCA0103               0\n",
              "1  2010038622  ECT2402               0\n",
              "2  2010040163  DCA0103               0\n",
              "3  2010042883  ECT2412               0\n",
              "4  2010043871  ECT2412               0"
            ]
          },
          "metadata": {
            "tags": []
          },
          "execution_count": 143
        }
      ]
    },
    {
      "cell_type": "markdown",
      "metadata": {
        "id": "ld_bFYSrwtw7",
        "colab_type": "text"
      },
      "source": [
        "agrupando"
      ]
    },
    {
      "cell_type": "code",
      "metadata": {
        "id": "1dB4uSH3vKy9",
        "colab_type": "code",
        "colab": {}
      },
      "source": [
        "dftemporario = dftemporario.groupby(['matricula','codigo'])['vezesReprovado'].count().reset_index().sort_values(by = 'matricula')"
      ],
      "execution_count": 0,
      "outputs": []
    },
    {
      "cell_type": "code",
      "metadata": {
        "id": "vxY-0P98ORJe",
        "colab_type": "code",
        "outputId": "b3b57e3f-8a4e-47d9-ab03-251d78530cb4",
        "colab": {
          "base_uri": "https://localhost:8080/",
          "height": 473
        }
      },
      "source": [
        "pd.merge(dfCompleto.drop(columns = ['vezesReprovado']), dftemporario, on = ['matricula','codigo'])"
      ],
      "execution_count": 0,
      "outputs": [
        {
          "output_type": "execute_result",
          "data": {
            "text/html": [
              "<div>\n",
              "<style scoped>\n",
              "    .dataframe tbody tr th:only-of-type {\n",
              "        vertical-align: middle;\n",
              "    }\n",
              "\n",
              "    .dataframe tbody tr th {\n",
              "        vertical-align: top;\n",
              "    }\n",
              "\n",
              "    .dataframe thead th {\n",
              "        text-align: right;\n",
              "    }\n",
              "</style>\n",
              "<table border=\"1\" class=\"dataframe\">\n",
              "  <thead>\n",
              "    <tr style=\"text-align: right;\">\n",
              "      <th></th>\n",
              "      <th>matricula</th>\n",
              "      <th>mediaNotas</th>\n",
              "      <th>menorNota</th>\n",
              "      <th>maiorNota</th>\n",
              "      <th>quantidadeDisciplinasCursadas</th>\n",
              "      <th>quantidadeAprovacoes</th>\n",
              "      <th>quantidadeReprovacoes</th>\n",
              "      <th>mediaAprovadas</th>\n",
              "      <th>mediaReprovadas</th>\n",
              "      <th>anoIngresso</th>\n",
              "      <th>anosMatriculado</th>\n",
              "      <th>codigo</th>\n",
              "      <th>siape</th>\n",
              "      <th>situacao</th>\n",
              "      <th>cargaHorariaAtual</th>\n",
              "      <th>semestreAtual</th>\n",
              "      <th>quantidadeDisciplinasAtuais</th>\n",
              "      <th>vezesReprovado</th>\n",
              "    </tr>\n",
              "  </thead>\n",
              "  <tbody>\n",
              "    <tr>\n",
              "      <th>0</th>\n",
              "      <td>2009028457</td>\n",
              "      <td>2.733333</td>\n",
              "      <td>0.0</td>\n",
              "      <td>5.6</td>\n",
              "      <td>3</td>\n",
              "      <td>1</td>\n",
              "      <td>2</td>\n",
              "      <td>5.600000</td>\n",
              "      <td>1.30</td>\n",
              "      <td>2009.0</td>\n",
              "      <td>7</td>\n",
              "      <td>ECT2303</td>\n",
              "      <td>2836616-8,1555898-5</td>\n",
              "      <td>REPROVADO</td>\n",
              "      <td>270</td>\n",
              "      <td>2017.1</td>\n",
              "      <td>4</td>\n",
              "      <td>1</td>\n",
              "    </tr>\n",
              "    <tr>\n",
              "      <th>1</th>\n",
              "      <td>2009028457</td>\n",
              "      <td>2.733333</td>\n",
              "      <td>0.0</td>\n",
              "      <td>5.6</td>\n",
              "      <td>3</td>\n",
              "      <td>1</td>\n",
              "      <td>2</td>\n",
              "      <td>5.600000</td>\n",
              "      <td>1.30</td>\n",
              "      <td>2009.0</td>\n",
              "      <td>7</td>\n",
              "      <td>ECT2304</td>\n",
              "      <td>2218079-8</td>\n",
              "      <td>REPROVADO</td>\n",
              "      <td>270</td>\n",
              "      <td>2017.1</td>\n",
              "      <td>4</td>\n",
              "      <td>2</td>\n",
              "    </tr>\n",
              "    <tr>\n",
              "      <th>2</th>\n",
              "      <td>2009028457</td>\n",
              "      <td>2.733333</td>\n",
              "      <td>0.0</td>\n",
              "      <td>5.6</td>\n",
              "      <td>3</td>\n",
              "      <td>1</td>\n",
              "      <td>2</td>\n",
              "      <td>5.600000</td>\n",
              "      <td>1.30</td>\n",
              "      <td>2009.0</td>\n",
              "      <td>7</td>\n",
              "      <td>ECT2502</td>\n",
              "      <td>1148551-7</td>\n",
              "      <td>APROVADO</td>\n",
              "      <td>270</td>\n",
              "      <td>2017.1</td>\n",
              "      <td>4</td>\n",
              "      <td>1</td>\n",
              "    </tr>\n",
              "    <tr>\n",
              "      <th>3</th>\n",
              "      <td>2009032209</td>\n",
              "      <td>5.950000</td>\n",
              "      <td>0.5</td>\n",
              "      <td>8.7</td>\n",
              "      <td>6</td>\n",
              "      <td>5</td>\n",
              "      <td>1</td>\n",
              "      <td>7.040000</td>\n",
              "      <td>0.50</td>\n",
              "      <td>2009.0</td>\n",
              "      <td>7</td>\n",
              "      <td>ECT2414</td>\n",
              "      <td>1658061-5</td>\n",
              "      <td>APROVADO</td>\n",
              "      <td>360</td>\n",
              "      <td>2017.1</td>\n",
              "      <td>6</td>\n",
              "      <td>1</td>\n",
              "    </tr>\n",
              "    <tr>\n",
              "      <th>4</th>\n",
              "      <td>2010035895</td>\n",
              "      <td>5.666667</td>\n",
              "      <td>3.7</td>\n",
              "      <td>7.7</td>\n",
              "      <td>6</td>\n",
              "      <td>5</td>\n",
              "      <td>1</td>\n",
              "      <td>6.060000</td>\n",
              "      <td>3.70</td>\n",
              "      <td>2010.0</td>\n",
              "      <td>6</td>\n",
              "      <td>DCA0105</td>\n",
              "      <td>347427-7</td>\n",
              "      <td>APROVADO</td>\n",
              "      <td>300</td>\n",
              "      <td>2017.1</td>\n",
              "      <td>4</td>\n",
              "      <td>1</td>\n",
              "    </tr>\n",
              "    <tr>\n",
              "      <th>...</th>\n",
              "      <td>...</td>\n",
              "      <td>...</td>\n",
              "      <td>...</td>\n",
              "      <td>...</td>\n",
              "      <td>...</td>\n",
              "      <td>...</td>\n",
              "      <td>...</td>\n",
              "      <td>...</td>\n",
              "      <td>...</td>\n",
              "      <td>...</td>\n",
              "      <td>...</td>\n",
              "      <td>...</td>\n",
              "      <td>...</td>\n",
              "      <td>...</td>\n",
              "      <td>...</td>\n",
              "      <td>...</td>\n",
              "      <td>...</td>\n",
              "      <td>...</td>\n",
              "    </tr>\n",
              "    <tr>\n",
              "      <th>2433</th>\n",
              "      <td>20160159171</td>\n",
              "      <td>5.016667</td>\n",
              "      <td>0.3</td>\n",
              "      <td>9.0</td>\n",
              "      <td>6</td>\n",
              "      <td>3</td>\n",
              "      <td>3</td>\n",
              "      <td>7.733333</td>\n",
              "      <td>2.30</td>\n",
              "      <td>2016.0</td>\n",
              "      <td>0</td>\n",
              "      <td>ECT2201</td>\n",
              "      <td>1671983-4</td>\n",
              "      <td>APROVADO</td>\n",
              "      <td>210</td>\n",
              "      <td>2017.1</td>\n",
              "      <td>4</td>\n",
              "      <td>1</td>\n",
              "    </tr>\n",
              "    <tr>\n",
              "      <th>2434</th>\n",
              "      <td>20160159171</td>\n",
              "      <td>5.016667</td>\n",
              "      <td>0.3</td>\n",
              "      <td>9.0</td>\n",
              "      <td>6</td>\n",
              "      <td>3</td>\n",
              "      <td>3</td>\n",
              "      <td>7.733333</td>\n",
              "      <td>2.30</td>\n",
              "      <td>2016.0</td>\n",
              "      <td>0</td>\n",
              "      <td>ECT2206</td>\n",
              "      <td>1753067-1</td>\n",
              "      <td>APROVADO</td>\n",
              "      <td>210</td>\n",
              "      <td>2017.1</td>\n",
              "      <td>4</td>\n",
              "      <td>1</td>\n",
              "    </tr>\n",
              "    <tr>\n",
              "      <th>2435</th>\n",
              "      <td>20160159224</td>\n",
              "      <td>2.200000</td>\n",
              "      <td>0.0</td>\n",
              "      <td>5.1</td>\n",
              "      <td>5</td>\n",
              "      <td>1</td>\n",
              "      <td>4</td>\n",
              "      <td>5.000000</td>\n",
              "      <td>1.50</td>\n",
              "      <td>2016.0</td>\n",
              "      <td>0</td>\n",
              "      <td>ECT2106</td>\n",
              "      <td>1051570-6</td>\n",
              "      <td>APROVADO</td>\n",
              "      <td>180</td>\n",
              "      <td>2017.1</td>\n",
              "      <td>4</td>\n",
              "      <td>1</td>\n",
              "    </tr>\n",
              "    <tr>\n",
              "      <th>2436</th>\n",
              "      <td>20160159224</td>\n",
              "      <td>2.200000</td>\n",
              "      <td>0.0</td>\n",
              "      <td>5.1</td>\n",
              "      <td>5</td>\n",
              "      <td>1</td>\n",
              "      <td>4</td>\n",
              "      <td>5.000000</td>\n",
              "      <td>1.50</td>\n",
              "      <td>2016.0</td>\n",
              "      <td>0</td>\n",
              "      <td>ECT2103</td>\n",
              "      <td>2646069-8</td>\n",
              "      <td>REPROVADO</td>\n",
              "      <td>180</td>\n",
              "      <td>2017.1</td>\n",
              "      <td>4</td>\n",
              "      <td>1</td>\n",
              "    </tr>\n",
              "    <tr>\n",
              "      <th>2437</th>\n",
              "      <td>20160159242</td>\n",
              "      <td>2.000000</td>\n",
              "      <td>0.0</td>\n",
              "      <td>5.0</td>\n",
              "      <td>5</td>\n",
              "      <td>1</td>\n",
              "      <td>4</td>\n",
              "      <td>5.000000</td>\n",
              "      <td>1.25</td>\n",
              "      <td>2016.0</td>\n",
              "      <td>0</td>\n",
              "      <td>ECT2104</td>\n",
              "      <td>2255011-1</td>\n",
              "      <td>REPROVADO</td>\n",
              "      <td>150</td>\n",
              "      <td>2017.1</td>\n",
              "      <td>2</td>\n",
              "      <td>1</td>\n",
              "    </tr>\n",
              "  </tbody>\n",
              "</table>\n",
              "<p>2438 rows × 18 columns</p>\n",
              "</div>"
            ],
            "text/plain": [
              "        matricula  mediaNotas  ...  quantidadeDisciplinasAtuais  vezesReprovado\n",
              "0      2009028457    2.733333  ...                            4               1\n",
              "1      2009028457    2.733333  ...                            4               2\n",
              "2      2009028457    2.733333  ...                            4               1\n",
              "3      2009032209    5.950000  ...                            6               1\n",
              "4      2010035895    5.666667  ...                            4               1\n",
              "...           ...         ...  ...                          ...             ...\n",
              "2433  20160159171    5.016667  ...                            4               1\n",
              "2434  20160159171    5.016667  ...                            4               1\n",
              "2435  20160159224    2.200000  ...                            4               1\n",
              "2436  20160159224    2.200000  ...                            4               1\n",
              "2437  20160159242    2.000000  ...                            2               1\n",
              "\n",
              "[2438 rows x 18 columns]"
            ]
          },
          "metadata": {
            "tags": []
          },
          "execution_count": 150
        }
      ]
    },
    {
      "cell_type": "code",
      "metadata": {
        "id": "15vuoVR5Eoc6",
        "colab_type": "code",
        "colab": {}
      },
      "source": [
        "class concatena(TransformerMixin):\n",
        "  def __init__(self):\n",
        "    return self\n",
        "\n",
        "\t#nao irei fazer nenhum treinamento\t\n",
        "  def fit(self, X, y = None):\n",
        "    return self    \n",
        "\n",
        "  #--------------------------------- funcoes de transformacao da classe -----------------------------------------\n",
        "\n",
        "  def converteParaInt(self, df):\n",
        "      df['matricula'] = df['matricula'].astype(int)\n",
        "      return df\n",
        "\n",
        "      \n",
        "  def transformacoesSemestreAntecessor(self, semestreAntecessor):\n",
        "    semestreAntecessor = converteParaInt(semestreAntecessor)\n",
        "    semestreAntecessor = semestreAntecessor.drop(columns = ['cargaHoraria','taxaDeSucesso','semestre'])\n",
        "    return semestreAntecessor\n",
        "\n",
        "\n",
        "  def transformacoesSemestreAtual(self, semestreAtual): \n",
        "    semestreAtual = converteParaInt(semestreAtual)\n",
        "    #seleciona os campos que vou precisar\n",
        "    semestreAtual = semestreAtual[['matricula','cargaHoraria','semestre','quantidadeDisciplinasCursadas','anosMatriculado']]\n",
        "    semestreAtual.rename(columns = {'cargaHoraria':\"cargaHorariaAtual\",\n",
        "                                    'quantidadeDisciplinasCursadas':'quantidadeDisciplinasAtuais',\n",
        "                                    'semestre':'semestreAtual'}, \n",
        "                                    inplace=True) \n",
        "    return semestreAtual\n",
        "\n",
        "\n",
        "  def transformacoesResultadoAtual(self, resultadoAtual):  \n",
        "    resultadoAtual = converteParaInt(resultadoAtual)\n",
        "    #seleciona os campos que vou precisar\n",
        "    resultadoAtual = resultadoAtual[['codigo','matricula','siape','situacao']]\n",
        "    #cria campo vezes reprovado\n",
        "    resultadoAtual[\"vezesReprovado\"] = 0\n",
        "    return resultadoAtual\n",
        "\n",
        "\n",
        "  def mergeTabelas(self, semestreAntecessor, semestreAtual, resultadoAtual):\n",
        "  dfCompleto = pd.merge(pd.merge(semestreAntecessor, resultadoAtual, on = 'matricula'), \n",
        "                        semestreAtual.drop(columns = ['anosMatriculado']), \n",
        "                        on = 'matricula')\n",
        "  return dfCompleto\n",
        "\n",
        "  #-------------------------------------------------------------------------------------------------------------\n",
        "\n",
        "#resultado na disciplina\n",
        "#semestre vai representar tudo o semestre transformado em dado generico\n",
        "#\n",
        "#\n",
        "#\n",
        "\n",
        "#objetivo ter esse df\n",
        "#AnosMatriculado\tQuantDisciAtual\tQuantDisciCursadas\tanoSemestre\tanoSemestreAtual\t\n",
        "#carga_total\tcarga_total_atual\tcodigo\tmatricula\tmax\tmedia\tmediasAprovadas\tmediasReprovadas\t\n",
        "#min\tquantAprovado\tquantReprovado\tsiape\tsituacao\tvezesReprovado\n",
        "  def transform(self, X, y = None):\n",
        "    lista_de_listas = X.copy()\n",
        "    dfCompleto = pd.DataFrame()\n",
        "\n",
        "    dados genericos = listas_de_listas[0]\n",
        "    resultado_na_disciplina = listas_de_listas[1]\n",
        "    '''\n",
        "    resultado vai ser uma lista de dataframes \n",
        "    vou pegar o df completo com antecessedente concatenado\n",
        "    depois vou rodar um for com todas as notas anteriores\n",
        "    toda semestre que for menor \n",
        "    eu vou ver se o aluno cursou x materia\n",
        "    '''\n",
        "\n",
        "\n",
        "\n",
        "    for \n",
        "        semestreAntecessor = self.transformacoesSemestreAntecessor(semestreAntecessor)\n",
        "        semestreAtual = self.transformacoesSemestreAtual(semestreAtual)\n",
        "        resultadoAtual = self.transformacoesResultadoAtual(resultadoAtual)\n",
        "        dfCompleto = self.mergeTabelas(semestreAntecessor, semestreAtual, resultadoAtual)\n",
        "\n",
        "\n",
        "\n",
        "\n",
        "\n",
        "    return \n",
        "\n",
        "\n",
        "    \n",
        "dfFinal = concatenaAntecessoresComResultadoPosterior(semestre2015_1,semestre2015_2,notas2015_2,dfFinal,0)"
      ],
      "execution_count": 0,
      "outputs": []
    },
    {
      "cell_type": "code",
      "metadata": {
        "id": "-tu4tytoC5ap",
        "colab_type": "code",
        "colab": {}
      },
      "source": [
        "def concatenaAntecessoresComResultadoPosterior(tableAntecedente,tableAtual,situacaoPosterior,final,flag):\n",
        "  #essa variavel é para indicar quando esta juntando a primeira vez duas tabelas\n",
        "  tableAntecedente[\"matricula\"] = tableAntecedente[\"matricula\"].astype(int)\n",
        "  tableAtual[\"matricula\"] = tableAtual[\"matricula\"].astype(int)\n",
        "  disc =  situacaoPosterior[[\"codigo\", \"matricula\",\"siape\",\"situacao\"]]\n",
        "  tableAtual = tableAtual.iloc[:,[0,9,10,4,-1]]\n",
        "  tableAtual.rename(columns={\"carga_total\":\"carga_total_atual\",\"QuantDisciCursadas\":\"QuantDisciAtual\",\"anoSemestre\":\"anoSemestreAtual\"}, inplace=True) \n",
        "  tableAntecedente = tableAntecedente.iloc[:,:-3]\n",
        "  tableAntDisciplina = pd.merge(tableAntecedente,disc,on=\"matricula\")\n",
        "  tableAntDisciplina[\"vezesReprovado\"] = 0\n",
        "  tableCompleta = pd.merge(tableAntDisciplina,tableAtual,on=\"matricula\")\n",
        "  \n",
        "  if(final.empty): #Se a tabela final estiver vazia, que será na primeira iteração, então prossiga\n",
        "    final = tableCompleta\n",
        "    return final\n",
        "  else:\n",
        "    merge = pd.merge(final,tableCompleta, on=[\"matricula\",\"codigo\"],how=\"outer\")\n",
        "    if(flag == 1): # Contando quantas vezes o aluno já reprovou na matéria\n",
        "      merge.loc[merge[\"situacao_x\"]==\"REPROVADO\",\"vezesReprovado_y\"]= merge[\"vezesReprovado_y\"]+1 \n",
        "    else:\n",
        "      merge = merge.drop_duplicates(subset=[\"matricula\",\"codigo\"],keep=\"last\")\n",
        "      merge.loc[merge[\"situacao_x\"]==\"REPROVADO\",\"vezesReprovado_y\"]= merge[\"vezesReprovado_x\"]+1\n",
        "   \n",
        "    dfvezesRepr=merge.loc[:,[\"matricula\",\"codigo\",\"vezesReprovado_y\"]]\n",
        "    dfvezesRepr = dfvezesRepr.fillna(0) \n",
        "    prov = pd.merge(tableCompleta,dfvezesRepr,on=[\"matricula\",\"codigo\"],how=\"inner\")\n",
        "    prov = prov.drop(columns=[\"vezesReprovado\"])\n",
        "    prov = prov.rename(columns={\"vezesReprovado_y\":\"vezesReprovado\"})\n",
        "    tableCompleta = prov\n",
        "    final = pd.concat([final,tableCompleta],axis=0)\n",
        "    final.sort_values(by=[\"matricula\",\"codigo\"])\n",
        "    return final\n",
        "  "
      ],
      "execution_count": 0,
      "outputs": []
    },
    {
      "cell_type": "markdown",
      "metadata": {
        "id": "B4rJ_jPviRsl",
        "colab_type": "text"
      },
      "source": [
        "##6. Avaliação dos Modelos\n",
        "<a id='avaliacao'></a>\n",
        "\n",
        "### [6.1 Chamada da Função](#chamada)\n",
        "### [6.2 Teste de Modelo](#teste)"
      ]
    },
    {
      "cell_type": "markdown",
      "metadata": {
        "id": "YxO10k-KJnZq",
        "colab_type": "text"
      },
      "source": [
        "###6.1 Chamada da Função\n",
        "<a id='chamada'></a>"
      ]
    },
    {
      "cell_type": "code",
      "metadata": {
        "id": "a54d338IldVz",
        "colab_type": "code",
        "colab": {}
      },
      "source": [
        "(df_relatorio, model_param_disciplinas) = avaliar_modelos(df, hyperparameters)"
      ],
      "execution_count": 0,
      "outputs": []
    },
    {
      "cell_type": "code",
      "metadata": {
        "id": "_RgZO6QU0YH1",
        "colab_type": "code",
        "colab": {}
      },
      "source": [
        "df_relatorio.head()"
      ],
      "execution_count": 0,
      "outputs": []
    },
    {
      "cell_type": "code",
      "metadata": {
        "id": "dCcRXPWv0eAL",
        "colab_type": "code",
        "colab": {}
      },
      "source": [
        "model_param_disciplinas"
      ],
      "execution_count": 0,
      "outputs": []
    },
    {
      "cell_type": "markdown",
      "metadata": {
        "id": "DmuLGrPKFv1c",
        "colab_type": "text"
      },
      "source": [
        "###6.2 Teste de Modelo\n",
        "<a id='teste'></a>"
      ]
    },
    {
      "cell_type": "markdown",
      "metadata": {
        "id": "X9GMVe3bUsvS",
        "colab_type": "text"
      },
      "source": [
        "Importando Modelo"
      ]
    },
    {
      "cell_type": "code",
      "metadata": {
        "id": "uchPDLEsUvt5",
        "colab_type": "code",
        "colab": {}
      },
      "source": [
        "modelo_teste = joblib.load('modelo_.pkl')"
      ],
      "execution_count": 0,
      "outputs": []
    },
    {
      "cell_type": "markdown",
      "metadata": {
        "id": "-lcNJROjYtth",
        "colab_type": "text"
      },
      "source": [
        "Aplicando a transformação no teste"
      ]
    },
    {
      "cell_type": "code",
      "metadata": {
        "id": "wgKRWABoBfVb",
        "colab_type": "code",
        "colab": {}
      },
      "source": [
        "num_transf = NumericalTransformer()\n",
        "df_teste = model.transform(df)"
      ],
      "execution_count": 0,
      "outputs": []
    },
    {
      "cell_type": "code",
      "metadata": {
        "id": "jte7qW39ZR8V",
        "colab_type": "code",
        "colab": {}
      },
      "source": [
        "df_teste.head(2)"
      ],
      "execution_count": 0,
      "outputs": []
    },
    {
      "cell_type": "markdown",
      "metadata": {
        "id": "j8Qb55Di8IkC",
        "colab_type": "text"
      },
      "source": [
        "Realizando teste de um modelo, prevendo probabilidade de ser aprovado"
      ]
    },
    {
      "cell_type": "code",
      "metadata": {
        "id": "LLooF6-vaQ7C",
        "colab_type": "code",
        "colab": {}
      },
      "source": [
        "df_teste.iloc[42,:]"
      ],
      "execution_count": 0,
      "outputs": []
    },
    {
      "cell_type": "code",
      "metadata": {
        "id": "3zusMtVzabUZ",
        "colab_type": "code",
        "colab": {}
      },
      "source": [
        "df_teste.info()"
      ],
      "execution_count": 0,
      "outputs": []
    },
    {
      "cell_type": "code",
      "metadata": {
        "id": "sTg3Zgf-YrEm",
        "colab_type": "code",
        "colab": {}
      },
      "source": [
        "modelo_teste.predict(df_teste.iloc[42,:])"
      ],
      "execution_count": 0,
      "outputs": []
    },
    {
      "cell_type": "markdown",
      "metadata": {
        "id": "PGR1IWltjEKS",
        "colab_type": "text"
      },
      "source": [
        "##7. Conclusão e Recomendações\n",
        "<a id='conclusao'></a>"
      ]
    },
    {
      "cell_type": "markdown",
      "metadata": {
        "id": "A-JlYcDhvmg4",
        "colab_type": "text"
      },
      "source": [
        ""
      ]
    },
    {
      "cell_type": "markdown",
      "metadata": {
        "id": "7bW-MMNpvndY",
        "colab_type": "text"
      },
      "source": [
        "##8. Implantação de Modelos\n",
        "<a id='implantacao'></a>"
      ]
    },
    {
      "cell_type": "code",
      "metadata": {
        "id": "-bcNUiIDvzTt",
        "colab_type": "code",
        "colab": {}
      },
      "source": [
        ""
      ],
      "execution_count": 0,
      "outputs": []
    }
  ]
}