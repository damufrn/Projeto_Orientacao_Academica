{
  "nbformat": 4,
  "nbformat_minor": 0,
  "metadata": {
    "colab": {
      "name": "Projeto_Orientacao_Academica_Tratamento_Dados.ipynb",
      "provenance": [],
      "collapsed_sections": [
        "PGR1IWltjEKS"
      ],
      "authorship_tag": "ABX9TyPaPbRueSp5GtIt/KCk1MUH",
      "include_colab_link": true
    },
    "kernelspec": {
      "name": "python3",
      "display_name": "Python 3"
    }
  },
  "cells": [
    {
      "cell_type": "markdown",
      "metadata": {
        "id": "view-in-github",
        "colab_type": "text"
      },
      "source": [
        "<a href=\"https://colab.research.google.com/github/vilsonrodrigues/Projeto_Orientacao_Academica/blob/master/Projeto_Orientacao_Academica_Tratamento_Dados.ipynb\" target=\"_parent\"><img src=\"https://colab.research.google.com/assets/colab-badge.svg\" alt=\"Open In Colab\"/></a>"
      ]
    },
    {
      "cell_type": "markdown",
      "metadata": {
        "id": "B_vdAfc21u86",
        "colab_type": "text"
      },
      "source": [
        "Por @vilsonrodrigues"
      ]
    },
    {
      "cell_type": "markdown",
      "metadata": {
        "id": "YLxXyebtnjM-",
        "colab_type": "text"
      },
      "source": [
        "\n",
        "\n",
        "# <center><font color='blue'>Projeto de Orientação Acadêmica</font>\n",
        "\n",
        "\n"
      ]
    },
    {
      "cell_type": "markdown",
      "metadata": {
        "id": "ULCWX6-dwLgg",
        "colab_type": "text"
      },
      "source": [
        "<img src='https://ufrn.br/resources/documentos/identidadevisual/logotipo/logotipo_flat.png'>"
      ]
    },
    {
      "cell_type": "markdown",
      "metadata": {
        "id": "C2tX7zYBx5Sd",
        "colab_type": "text"
      },
      "source": [
        "## Parte I - Apresentação do Problema\n",
        "### [1. Apresentação do Problema](#apresentacao)\n",
        "## Parte II - Preparativos Iniciais\n",
        "### [1. Bibliotecas](#bibliotecas)\n",
        "### [2. Classe](#classe)\n",
        "### [3. Funções](#funcoes)\n",
        "### [4. Leituras da Bases](#leiturabase)\n",
        "## Parte III - Desenvolvimento\n",
        "### [1. Entendimento de Negócio](#negocio)\n",
        "### [2. Entendimento de Dados](#enten_dados)\n",
        "### [3. Preparação de Dados](#preparo)\n",
        "### [4. Métricas de Avaliação](#metricas)\n",
        "### [5. Modelagem](#modelagem)\n",
        "### [6. Avaliação de Modelo](#avaliacao)\n",
        "### [7. Conclusão e Recomendações](#conclusao)\n",
        "### [8. Implantação de Modelos](#implantacao)\n"
      ]
    },
    {
      "cell_type": "markdown",
      "metadata": {
        "id": "Rwf-rhVr2Wvj",
        "colab_type": "text"
      },
      "source": [
        "# Parte I - Apresentação do Problema"
      ]
    },
    {
      "cell_type": "markdown",
      "metadata": {
        "id": "bhu64Xadx9yH",
        "colab_type": "text"
      },
      "source": [
        "### **Meta**\n",
        "Nossa meta é prever através de Machine Learning as probabilidades de um estudante ter sucesso em uma disciplina dado o histórico escolar na Universidade.\n",
        "\n",
        "Nossos dados foram transformados para ficarem de uma forma génerica, assim, não dependemos de saber qual foi a matéria cursada anteriormente.\n",
        "\n",
        "Com essa plataforma, os professores que orientam alunos, terão mais segurança e uma comprovação com base no Machine Learning que estudantes que tiveram um histórico semelhante e seguiram esse caminho tiveram mais êxito do que seguir por este outro.\n",
        "\n",
        "Os dados foram coletados do período de 2015.1 até 2019.1.\n",
        "\n",
        "**Esse notebook foca totalmente em analisar os dados e montar uma estratégia  de gerar dados genéricos, de modo que fiquem independente de qual disciplina o aluno curso no semeste anterior.**\n",
        "\n",
        "O trabalho continua neste [notebook](https://), onde são gerados modelos de Machine Learning com dados genéricos.\n",
        "\n",
        "### **Fonte dos Dados**\n",
        "Dados foram extraídos do portal SIGAA e fornecidos pela Escola de Ciências e Tecnlogia (ECT).\n",
        "\n",
        "### **Referência**\n",
        "Hands On: Machine Learning with Scikit-Learning e Tensor Flow\n",
        "\n"
      ]
    },
    {
      "cell_type": "markdown",
      "metadata": {
        "id": "pW86HnPh3ka-",
        "colab_type": "text"
      },
      "source": [
        "# Parte II - Preparativos Iniciais"
      ]
    },
    {
      "cell_type": "markdown",
      "metadata": {
        "id": "vkhuxXT_3vQv",
        "colab_type": "text"
      },
      "source": [
        "## 1. Bibliotecas\n",
        "<a id='bibliotecas'></a>\n",
        "#### [1.1 Instalações](#instalacao)\n",
        "#### [1.2 Importações](#importacao)\n"
      ]
    },
    {
      "cell_type": "markdown",
      "metadata": {
        "id": "OuOEB2A10Rah",
        "colab_type": "text"
      },
      "source": [
        "### 1.1. Instalação\n",
        "<a id='instalacao'></a>"
      ]
    },
    {
      "cell_type": "code",
      "metadata": {
        "id": "_HXuie4y43tN",
        "colab_type": "code",
        "colab": {}
      },
      "source": [
        "!pip install pandas -U\n",
        "!pip install scikit-learn -U\n",
        "!pip install numpy -U\n",
        "!pip install joblib==0.14.1"
      ],
      "execution_count": 0,
      "outputs": []
    },
    {
      "cell_type": "markdown",
      "metadata": {
        "id": "D_S-Ua3YeLmS",
        "colab_type": "text"
      },
      "source": [
        "### 1.2. Importação\n",
        "<a id='importacao'></a>"
      ]
    },
    {
      "cell_type": "code",
      "metadata": {
        "id": "vXKQdGE-KNqI",
        "colab_type": "code",
        "colab": {}
      },
      "source": [
        "import pandas as pd\n",
        "import numpy as np\n",
        "from sklearn.base import BaseEstimator, TransformerMixin"
      ],
      "execution_count": 0,
      "outputs": []
    },
    {
      "cell_type": "code",
      "metadata": {
        "id": "4fDskXdweAA6",
        "colab_type": "code",
        "colab": {}
      },
      "source": [
        "import pandas as pd\n",
        "import numpy as np\n",
        "\n",
        "#Persistência em disco\n",
        "import joblib\n",
        "import pickle\n",
        "\n",
        "#Visualização\n",
        "import seaborn as sns\n",
        "import matplotlib.pyplot as plt\n",
        "\n",
        "#Transformadores e Modelador\n",
        "from sklearn.pipeline          import Pipeline\n",
        "from sklearn.preprocessing     import StandardScaler\n",
        "from sklearn.base              import BaseEstimator, TransformerMixin\n",
        "\n",
        "#Selecao de modelo\n",
        "from sklearn.model_selection   import train_test_split\n",
        "from sklearn.model_selection   import KFold\n",
        "from sklearn.model_selection   import cross_val_score\n",
        "from sklearn.model_selection   import GridSearchCV\n",
        "from sklearn.feature_selection import SelectKBest, f_classif\n",
        "from sklearn.feature_selection import chi2\n",
        "\n",
        "#Metricas\n",
        "from sklearn.metrics           import classification_report\n",
        "from sklearn.metrics           import confusion_matrix\n",
        "from sklearn.metrics           import make_scorer\n",
        "from sklearn.metrics           import accuracy_score\n",
        "from sklearn.metrics           import f1_score\n",
        "from sklearn.metrics           import recall_score\n",
        "from sklearn.metrics           import precision_score\n",
        "\n",
        "#Classificadores\n",
        "from sklearn.ensemble          import RandomForestClassifier\n",
        "from xgboost                   import XGBClassifier\n",
        "from sklearn.tree              import DecisionTreeClassifier\n",
        "from sklearn.neighbors         import KNeighborsClassifier\n",
        "from sklearn.naive_bayes       import GaussianNB\n",
        "from sklearn.svm               import SVC\n",
        "from sklearn.neural_network    import MLPClassifier\n",
        "\n",
        "#modo não-perturbe\n",
        "import warnings\n",
        "warnings.filterwarnings(\"ignore\")"
      ],
      "execution_count": 0,
      "outputs": []
    },
    {
      "cell_type": "markdown",
      "metadata": {
        "id": "EXnFYbxV75Np",
        "colab_type": "text"
      },
      "source": [
        "##2. Classe\n",
        "<a id='classe'></a>\n"
      ]
    },
    {
      "cell_type": "markdown",
      "metadata": {
        "id": "I4WG5ZVa9Abp",
        "colab_type": "text"
      },
      "source": [
        "Classe para realizar a geração de dados genéricos"
      ]
    },
    {
      "cell_type": "code",
      "metadata": {
        "id": "3sfmYXZd8MuV",
        "colab_type": "code",
        "colab": {}
      },
      "source": [
        "class geraDadosGenericos(TransformerMixin):  \n",
        "  def __init__(self, carga):\n",
        "    self.carga = carga\n",
        "\n",
        "\t#nao irei fazer nenhum treinamento\t\n",
        "\n",
        "\n",
        "  def fit(self, X, y = None):\n",
        "    return self    \n",
        "\n",
        "  #-------------------------funcoes de geracao de dados da classe---------------------------------\n",
        "\n",
        "  def filtraSituacoes(self, df_notas):\n",
        "    #conversao para string\n",
        "    df_notas['matricula'] = df_notas['matricula'].astype(str)\n",
        "    df_notas['periodo']   = df_notas['periodo'].astype(str)\n",
        "\n",
        "    #substitui todas as situacoes de reprovado e aprovado para ser apenas um tipo\n",
        "    df_notas.loc[df_notas['situacao'].str.contains('REPROVADO'), 'situacao'] = 'REPROVADO'\n",
        "    df_notas.loc[df_notas['situacao'].str.contains('APROVADO'), 'situacao']  = 'APROVADO'\n",
        "\n",
        "    #seleciona as situacoes de interesse que são aprovados e reprovados\n",
        "    df_notas = df_notas.loc[(df_notas['situacao'].str.contains('APROVADO')) |\n",
        "                            (df_notas['situacao'].str.contains('REPROVADO')) \n",
        "                          ] \t\n",
        "    #tem disciplina que só contam para a horas complementares, não tem nota\n",
        "    df_notas = df_notas.loc[ ~(df_notas['nota'].str.contains('-')), :]\n",
        "\n",
        "    #conversao para de string para float\n",
        "    df_notas['nota'] = df_notas['nota'].astype(float)\n",
        "    return df_notas\n",
        "\n",
        "\n",
        "  def converteString(self, df_notas):\n",
        "    df_notas['matricula'] = df_notas['matricula'].astype(str)\n",
        "    df_notas['periodo']   = df_notas['periodo'].astype(str)\n",
        "    return df_notas\n",
        "\n",
        "\n",
        "  def concatenaSemestre(self, df_notas):\n",
        "    #pega o ano mais alto que tem na matricula, indicando o semestre do df\n",
        "    ano_df = df_notas['matricula'].str[0:4].max()\n",
        "    df_notas['semestre'] = str(ano_df) + '.' + str(df_notas['periodo'].iloc[0])\n",
        "\n",
        "    #apagando a coluna periodo, nao serve mais\n",
        "    df_notas.drop(columns = ['periodo'], inplace=True)\n",
        "    return df_notas\n",
        "\n",
        "\n",
        "  #essa função vai criar as novas features com o desempenho do aluno no semestre \n",
        "  def geraFeaturesComDadosGenericos(self, df_notas):\n",
        "    df_notas = df_notas.merge(self.carga, on = 'codigo')\n",
        "    df = pd.DataFrame()\n",
        "    final = pd.DataFrame()\n",
        "\n",
        "    #media das disciplinas\n",
        "    df = df_notas.groupby('matricula')['nota'].mean().reset_index()\n",
        "    df.rename(columns={'nota':'mediaNotas'}, inplace = True)\n",
        "    final = df\n",
        "\n",
        "    #menor nota\n",
        "    df = df_notas.groupby('matricula')['nota'].min().reset_index()\n",
        "    df.rename(columns = {'nota':'menorNota'}, inplace = True)\n",
        "    final = final.merge(df, on = 'matricula', how = 'outer')\n",
        "\n",
        "    #maior nota\n",
        "    df = df_notas.groupby('matricula')['nota'].max().reset_index()\n",
        "    df.rename(columns = {'nota':'maiorNota'}, inplace = True)\n",
        "    final = final.merge(df, on = 'matricula', how = 'outer')\n",
        "\n",
        "    #quantidade de disciplinas cursadas\n",
        "    df = df_notas.groupby('matricula')['codigo'].count().reset_index()\n",
        "    df.rename(columns = {'codigo':'quantidadeDisciplinasCursadas'}, inplace=True)\n",
        "    final = final.merge(df, on = 'matricula', how = 'outer')\n",
        "\n",
        "    #quantidade de situacoes\n",
        "    df = df_notas.groupby(['matricula','situacao'])['codigo'].count().reset_index()\n",
        "    df.rename(columns = {'codigo':'quanSituacao'}, inplace = True)\n",
        "\n",
        "    #quantidade de situacoes em que houve aprovacao\n",
        "    aprovado = df.loc[df['situacao'] == 'APROVADO',:]\n",
        "    aprovado.rename(columns = {'quanSituacao':'quantidadeAprovacoes'}, inplace = True)\n",
        "    final = final.merge(aprovado, on = 'matricula', how = 'outer')\n",
        "\n",
        "    #quantidade de situacoes em que houve reprovacao\n",
        "    reprovado = df.loc[df['situacao'] == 'REPROVADO',:]\n",
        "    reprovado.rename(columns = {'quanSituacao':'quantidadeReprovacoes'}, inplace = True)\n",
        "    final = final.merge(reprovado, on = 'matricula', how = 'outer')\n",
        "    final = final.drop(['situacao_x', 'situacao_y'], axis = 1)\n",
        "\n",
        "    #media das aprovacoes\n",
        "    aprov = df_notas.loc[df_notas['situacao'] == 'APROVADO',:]\n",
        "    dfa = aprov.groupby(['matricula'])['nota'].mean().reset_index()\n",
        "    dfa.rename(columns = {'nota':'mediaAprovadas'}, inplace = True)\n",
        "    final = final.merge(dfa, on = 'matricula', how ='outer')\n",
        "\n",
        "    #media das reprovacoes\n",
        "    reprov = df_notas.loc[df_notas['situacao'] == 'REPROVADO',:]\n",
        "    dfr = reprov.groupby(['matricula'])['nota'].mean().reset_index()\n",
        "    dfr.rename(columns = {'nota':'mediaReprovadas'}, inplace = True)\n",
        "    final = final.merge(dfr, on = 'matricula', how ='outer')\n",
        "\n",
        "    #carga horaria total no semestre\n",
        "    df = df_notas.groupby('matricula')['ch_total'].sum().reset_index()\n",
        "    df.rename(columns = {'ch_total':'cargaHoraria'}, inplace = True)\n",
        "    final = final.merge(df, on = 'matricula', how = 'outer')\n",
        "\n",
        "    #substituindo valores nulos por 0\n",
        "    final = final.fillna(0)\n",
        "\n",
        "    #conversao de campos de objeto para inteiro\n",
        "    final['quantidadeAprovacoes']  = final['quantidadeAprovacoes'].astype(int)\n",
        "    final['quantidadeReprovacoes'] = final['quantidadeReprovacoes'].astype(int)\n",
        "\n",
        "    #Criando campo taxa de sucesso, que será a porcentagem de aprovações dado o total de disciplinas\n",
        "    final['taxaDeSucesso']  = np.divide(final['quantidadeAprovacoes'], final['quantidadeDisciplinasCursadas']) \n",
        "\n",
        "    #herdando o semestre\n",
        "    final['semestre'] = df_notas['semestre']\n",
        "\n",
        "    return final\n",
        "\n",
        "  #--------------------fim das funcoes de geracao de dados da classe-----------------------------------------\n",
        "\n",
        "\n",
        "  def transform(self, X, y = None):\n",
        "    #itera a lista\n",
        "    lista_df_notas = X.copy()\n",
        "    lista_df_generico = []\n",
        "    for df_notas in lista_df_notas:\n",
        "      df_notas = self.converteString(df_notas)\n",
        "      df_notas = self.filtraSituacoes(df_notas)\n",
        "      df_notas = self.concatenaSemestre(df_notas)\n",
        "      df_generico = self.geraFeaturesComDadosGenericos(df_notas)\n",
        "      lista_df_generico.append(df_generico)\n",
        "    return lista_df_generico"
      ],
      "execution_count": 0,
      "outputs": []
    },
    {
      "cell_type": "markdown",
      "metadata": {
        "id": "ZGHrISEE_B3_",
        "colab_type": "text"
      },
      "source": [
        "##3. Funções\n",
        "<a id='funcoes'></a>"
      ]
    },
    {
      "cell_type": "markdown",
      "metadata": {
        "id": "3BUSGqrsC9BC",
        "colab_type": "text"
      },
      "source": [
        "Função que usa GridSearch para avaliar o melhor modelo disponível, retornar estatísticas dos resultados e persistir em disco os modelos gerados"
      ]
    },
    {
      "cell_type": "code",
      "metadata": {
        "id": "3gXGYd0w_GRp",
        "colab_type": "code",
        "colab": {}
      },
      "source": [
        "def avaliar_modelos(df, hyperparameters):\n",
        "\n",
        "  #Dicionários\n",
        "  model_param_disciplinas = {}\n",
        "  best_acc_disciplinas = {}\n",
        "  scoring_disciplinas = {}\n",
        "  #feature_importances_disciplinas = {}\n",
        "\n",
        "  #Seleciona o codigo de cada disciplina no dataframe, --alteravel--\n",
        "  lista_disciplinas = df[\"disciplina\"].unique()  \n",
        "\n",
        "  #Verifica se esta vazio\n",
        "  if lista_disciplinas is None:\n",
        "\t  return None\n",
        "\n",
        "  #Convertendo categorias do target de string para numerico (0,1)\n",
        "  df[\"situacao_categoria\"] = pd.Categorical(df[\"situacao\"]).codes\n",
        "\n",
        "  #Pipeline para transformar em categoria e verificar melhores parametros\n",
        "  pipeline_transform = Pipeline(steps = [('num_pipeline', NumericalTransformer()),\n",
        "                                         ('fs',SelectKBest(chi2)),\n",
        "                                         ('sc',StandardScaler()),\n",
        "                                         ('clf',XGBClassifier())\n",
        "                               ])\n",
        "\n",
        "  #Grid para testar todos os parâmetros                               \n",
        "  grid_search = GridSearchCV(\n",
        "                          estimator = pipeline_transform, \n",
        "                          param_grid = hyperparameters,\n",
        "                          cv= 5,\n",
        "                          scoring = {'Accuracy': make_scorer(accuracy_score)},\n",
        "                          #scoring = {\"AUC\": \"roc_auc\", \"Accuracy\": make_scorer(accuracy_score), \"F1\":\"f1\", \"Recall\":\"recall\", \"Precision\":\"precision\"},\n",
        "                          return_train_score=True,\n",
        "                          n_jobs=-1,#indica o numero de processos em paralelo, -1 significa usar todos\n",
        "                          refit='Accuracy')\n",
        "\n",
        "\n",
        "  #itera sobre a lista de disciplinas\n",
        "  for disciplina in lista_disciplinas:\n",
        "    data_iter = df.loc[df[\"disciplina\"].str.contains(disciplina),:]\n",
        "    \n",
        "    #Treinando Grid\n",
        "    best_model = grid_search.fit(data_iter.drop(columns = [\"disciplina\",\"situacao_categoria\"]), data_iter[\"situacao_categoria\"])\n",
        " \n",
        "    #Extraindo informações do treino\n",
        "    param_modelo = best_model.best_params_\n",
        "    model_param_disciplinas[disciplina] = param_modelo['clf']\n",
        "    best_acc_disciplinas[disciplina] = best_model.best_score_\n",
        "\n",
        "    #Resultado de metricas\n",
        "    result = pd.DataFrame(best_model.cv_results_)\n",
        "    result = result[['mean_train_Accuracy', 'std_train_Accuracy','mean_test_Accuracy', 'std_test_Accuracy','rank_test_Accuracy']].copy()\n",
        "    result[\"std_ratio\"] = result.std_test_Accuracy/result.std_train_Accuracy\n",
        "    result = result.sort_values(by=\"rank_test_Accuracy\",ascending=True)    \n",
        "    scoring_disciplinas[disciplina] = result.iloc[0,:]\n",
        "\n",
        "    #Características mais importantes\n",
        "    #feature_importances_disciplinas[disciplina] = grid.best_estimator_.feature_importances_\n",
        "    \n",
        "    #Salvando modelo\n",
        "    joblib.dump(best_model, 'modelo_' + disciplina + '.pkl')\n",
        "\n",
        "\n",
        "  #Transformando o dicionário para Dataframe\n",
        "  df_best_acc = pd.DataFrame.from_dict(best_acc_disciplinas, orient=\"index\")\n",
        "  df_best_acc.columns = [\"accuracy\"]\n",
        "  df_scor_disc = pd.DataFrame.from_dict(scoring_disciplinas, orient=\"index\")\n",
        "\n",
        "  #Concatenando DataFrames\n",
        "  df_relatorio = pd.concat([df_best_acc, df_scor_disc], axis=1, sort=False)\n",
        "\n",
        "  return (df_relatorio,model_param_disciplinas)"
      ],
      "execution_count": 0,
      "outputs": []
    },
    {
      "cell_type": "markdown",
      "metadata": {
        "id": "dD1-lyVuizPA",
        "colab_type": "text"
      },
      "source": [
        "##4. Leitura das Bases\n",
        "<a id='leiturabase'></a>"
      ]
    },
    {
      "cell_type": "markdown",
      "metadata": {
        "id": "DHx3s-NSKug_",
        "colab_type": "text"
      },
      "source": [
        "Urls das notas e da carga horária"
      ]
    },
    {
      "cell_type": "code",
      "metadata": {
        "id": "8soTzGZeKzlS",
        "colab_type": "code",
        "colab": {}
      },
      "source": [
        "notas_url = [\n",
        "             'https://raw.githubusercontent.com/repitta/CienciaDeDadosEducacionais/master/dadosUFRN/notas_discentes_2015.1.csv',\n",
        "             'https://raw.githubusercontent.com/repitta/CienciaDeDadosEducacionais/master/dadosUFRN/notas_discentes_2015.2.csv',\n",
        "             'https://raw.githubusercontent.com/repitta/CienciaDeDadosEducacionais/master/dadosUFRN/notas_discentes_2016.1.csv',\n",
        "             'https://raw.githubusercontent.com/repitta/CienciaDeDadosEducacionais/master/dadosUFRN/notas_discentes_2016.2.csv',\n",
        "             'https://raw.githubusercontent.com/repitta/CienciaDeDadosEducacionais/master/dadosUFRN/notas_discentes_2017.1.csv',\n",
        "             'https://raw.githubusercontent.com/repitta/CienciaDeDadosEducacionais/master/dadosUFRN/notas_discentes_2017.2.csv',\n",
        "             'https://raw.githubusercontent.com/repitta/CienciaDeDadosEducacionais/master/dadosUFRN/notas_discentes_2018.1.csv',\n",
        "             'https://raw.githubusercontent.com/repitta/CienciaDeDadosEducacionais/master/dadosUFRN/notas_discentes_2018.2.csv',\n",
        "             'https://raw.githubusercontent.com/repitta/CienciaDeDadosEducacionais/master/dadosUFRN/notas_discentes_2019.1.csv',\n",
        "             'https://raw.githubusercontent.com/repitta/CienciaDeDadosEducacionais/master/dadosUFRN/notas_discentes_2019.2.csv'\n",
        "            ]\n",
        "carga_horaria = 'http://dados.ufrn.br/dataset/3fea67e8-6916-4ed0-aaa6-9a8ca06a9bdc/resource/9a3521d2-4bc5-4fda-93f0-f701c8a20727/download/componentes-curriculares-presenciais.csv'"
      ],
      "execution_count": 0,
      "outputs": []
    },
    {
      "cell_type": "markdown",
      "metadata": {
        "id": "2oZD8IeLLqN2",
        "colab_type": "text"
      },
      "source": [
        "Lendo como DataFrame"
      ]
    },
    {
      "cell_type": "code",
      "metadata": {
        "id": "sKkNAEhzLpAu",
        "colab_type": "code",
        "colab": {}
      },
      "source": [
        "col = [\"periodo\",\"codigo\",\"disciplina\",\"turma\",\"siape\",\"horario\",\"matricula\",\"nota\",\"situacao\"]\n",
        "notas2015_1 = pd.read_csv(notas_url[0], sep=';', encoding = \"ISO-8859-1\", skiprows = 7, names=col, index_col=False)\n",
        "notas2015_2 = pd.read_csv(notas_url[1], sep=';', encoding = \"ISO-8859-1\", skiprows = 7, names=col, index_col=False)\n",
        "notas2016_1 = pd.read_csv(notas_url[2], sep=';', encoding = \"ISO-8859-1\", skiprows = 7, names=col, index_col=False)\n",
        "notas2016_2 = pd.read_csv(notas_url[3], sep=';', encoding = \"ISO-8859-1\", skiprows = 7, names=col, index_col=False)\n",
        "notas2017_1 = pd.read_csv(notas_url[4], sep=';', encoding = \"ISO-8859-1\", skiprows = 7, names=col, index_col=False)\n",
        "notas2017_2 = pd.read_csv(notas_url[5], sep=';', encoding = \"ISO-8859-1\", skiprows = 7, names=col, index_col=False)\n",
        "notas2018_1 = pd.read_csv(notas_url[6], sep=';', encoding = \"ISO-8859-1\", skiprows = 7, names=col, index_col=False)\n",
        "notas2018_2 = pd.read_csv(notas_url[7], sep=';', encoding = \"ISO-8859-1\", skiprows = 7, names=col, index_col=False)\n",
        "notas2019_1 = pd.read_csv(notas_url[8], sep=';', encoding = \"ISO-8859-1\", skiprows = 7, names=col, index_col=False)\n",
        "#notas2019_2 = pd.read_csv(notas_url[9], sep=';', encoding = \"ISO-8859-1\", skiprows = 7, names=col, index_col=False)\n",
        "\n",
        "carga = pd.read_csv(carga_horaria, sep=\";\")\n",
        "carga = carga[[\"codigo\",\"ch_total\"]]"
      ],
      "execution_count": 0,
      "outputs": []
    },
    {
      "cell_type": "markdown",
      "metadata": {
        "id": "Hra4Ho4IC0Xu",
        "colab_type": "text"
      },
      "source": [
        "#Parte III - Desenvolvimento\n",
        "<a id='enten_dados'></a>\n"
      ]
    },
    {
      "cell_type": "markdown",
      "metadata": {
        "id": "hfeOFonftzic",
        "colab_type": "text"
      },
      "source": [
        "## 1. Entendimento de Negócio\n",
        "<a id='negocio'></a>\n",
        "\n",
        "#### ● Determinar objetivos de Negócio\n",
        "#### ● Estabelecer Critérios de Sucesso da Iniciativa\n",
        "#### ● Análise do contexto: terminologia, benefício, riscos e plano de contingência\n",
        "#### ● Determinar objetivos de Mineração de Dados\n",
        "#### ● Plano do Projeto\n"
      ]
    },
    {
      "cell_type": "markdown",
      "metadata": {
        "id": "-n4co8p2EeaU",
        "colab_type": "text"
      },
      "source": [
        "## 2. Entendimento de Dados\n",
        "<a id='enten_dados'></a>\n",
        "\n",
        "### [2.1 Descrição de Dados](#descricao)\n",
        "### [2.2 Qualidade de Dados](#qualidade)\n",
        "### [2.3 Exploração de Dados](#exploracao)"
      ]
    },
    {
      "cell_type": "markdown",
      "metadata": {
        "id": "HEVg1VCYEhUd",
        "colab_type": "text"
      },
      "source": [
        "###2.1 Descrição de Dados\n",
        "<a id='descricao'></a>\n"
      ]
    },
    {
      "cell_type": "markdown",
      "metadata": {
        "id": "L1HZgOL4pQfu",
        "colab_type": "text"
      },
      "source": [
        "#### <center>Dados dos Daframes de Notas:\n",
        "| Semestre | Número de atributos (colunas) | Número de Registros (linhas) |\n",
        "| --- | --- | --- |\n",
        "| 2015.1 | 9 | --- |\n",
        "| 2015.2 | 9 | |\n",
        "| 2016.1 | 9 | |\n",
        "| 2016.2 | 9 | |\n",
        "| 2017.1 | 9 | |\n",
        "| 2017.2 | 9 | |\n",
        "| 2018.1 | 9 | |\n",
        "| 2018.2 | 9 | |\n",
        "| 2019.1 | 9 | |\n",
        "\n",
        "\n",
        "#### <center>Dados do Dataframe de Carga Horária:\n",
        "| Número de atributos (colunas) | Número de Registros (linhas) |\n",
        "| --- | --- |\n",
        "| 2 | 39269 |\n",
        "\n",
        "\n",
        "\n",
        "\n",
        "####Descrição de Colunas do Dataframe de Notas:\n",
        "\n",
        "<font color='blue'> <b>1. periodo</b> </font> Período em que a disciplina foi cursada (.1 ou .2)\n",
        "\n",
        "<font color='blue'> <b>2. codigo</b> </font> Código de todas as disciplinas na UFRN\n",
        "\n",
        "<font color='blue'> <b>3. disciplina</b> </font> Nome da discplina \n",
        "\n",
        "<font color='blue'> <b>4. turma</b> </font> Código da turma\n",
        "\n",
        "<font color='blue'> <b>5. siape</b> </font> Código que identifica o professor que ministrou a disciplina\n",
        "\n",
        "<font color='blue'> <b>6. horario</b> </font> Horário e intervalo de datas em que a disciplina foi ministrada\n",
        "\n",
        "<font color='blue'> <b>7. Matrícula</b> </font> Código identificador do estudante\n",
        "\n",
        "<font color='blue'> <b>8. Nota</b> </font> Nota do estudante na disciplina\n",
        "\n",
        "#### Coluna Alvo\n",
        "<font color='red'> <b>9. Situação</b> </font> Estato final na disciplina\n",
        "\n",
        "####Descrição de Colunas do Dataframe de Notas:\n",
        "\n",
        "<font color='blue'> <b>1. Código</b> </font> Código da disciplina\n",
        "\n",
        "<font color='blue'> <b>2. Ch_total</b> </font> Carga Hóraria da displina\n",
        "\n",
        "-------------------------------------------------------------------------------\n",
        "\n",
        "Os Dataframes contêm todos os departamentos da UFRN. Por enquanto o foco do trabalho está em prever o ciclo básico da ECT. Mais na frente será feito uma seleção afim de escolher apenas matérias da ECT.\n",
        "\n"
      ]
    },
    {
      "cell_type": "markdown",
      "metadata": {
        "id": "XvoPlLK6tqOm",
        "colab_type": "text"
      },
      "source": [
        "Exemplos de registros nos 2 tipos de DataFrames"
      ]
    },
    {
      "cell_type": "code",
      "metadata": {
        "id": "FGNZ4TPSO-6l",
        "colab_type": "code",
        "colab": {}
      },
      "source": [
        "notas2018_1.sample(10)"
      ],
      "execution_count": 0,
      "outputs": []
    },
    {
      "cell_type": "code",
      "metadata": {
        "id": "PDAIFmZ2PBbR",
        "colab_type": "code",
        "colab": {}
      },
      "source": [
        "carga.head(2)"
      ],
      "execution_count": 0,
      "outputs": []
    },
    {
      "cell_type": "markdown",
      "metadata": {
        "id": "5Vy3MCOgF_iz",
        "colab_type": "text"
      },
      "source": [
        "###2.2 Qualidade dos dados\n",
        "<a id='qualidade'></a>"
      ]
    },
    {
      "cell_type": "markdown",
      "metadata": {
        "id": "F21BiOCQ5SX6",
        "colab_type": "text"
      },
      "source": [
        "Total 489 disciplinas realizadas na UFRN no semestre 15.1"
      ]
    },
    {
      "cell_type": "code",
      "metadata": {
        "id": "PexNmJ6G5ZMn",
        "colab_type": "code",
        "colab": {}
      },
      "source": [
        "notas2015_1.groupby('codigo')['nome'].count()"
      ],
      "execution_count": 0,
      "outputs": []
    },
    {
      "cell_type": "markdown",
      "metadata": {
        "id": "xaf-SuwLvot-",
        "colab_type": "text"
      },
      "source": [
        "Informações sobre valores não nulos, total de registros de todos as bases de dados\n",
        "\n",
        "Em quase todos os dataframes das notas não contêm valores nulos, com excessão de 16.2, 18.2 e 19.1, onde estão faltando em cada 3 valores correspondentes aos horários das displinas. Ou seja, temos dataframes consistentes\n",
        "\n",
        "No dataframe de cargas horárias também temos consistência"
      ]
    },
    {
      "cell_type": "code",
      "metadata": {
        "id": "WWWZWzcbuw0S",
        "colab_type": "code",
        "colab": {}
      },
      "source": [
        "notas2015_1.info()"
      ],
      "execution_count": 0,
      "outputs": []
    },
    {
      "cell_type": "code",
      "metadata": {
        "id": "5AyStLAswPQp",
        "colab_type": "code",
        "colab": {}
      },
      "source": [
        "notas2015_2.info()"
      ],
      "execution_count": 0,
      "outputs": []
    },
    {
      "cell_type": "code",
      "metadata": {
        "id": "I-vivN1-z6Vk",
        "colab_type": "code",
        "colab": {}
      },
      "source": [
        "notas2016_1.info()"
      ],
      "execution_count": 0,
      "outputs": []
    },
    {
      "cell_type": "code",
      "metadata": {
        "id": "swd1rW9F0C_t",
        "colab_type": "code",
        "colab": {}
      },
      "source": [
        "notas2016_2.info()"
      ],
      "execution_count": 0,
      "outputs": []
    },
    {
      "cell_type": "code",
      "metadata": {
        "id": "Tr2Qcuy80GEy",
        "colab_type": "code",
        "colab": {}
      },
      "source": [
        "notas2017_1.info()"
      ],
      "execution_count": 0,
      "outputs": []
    },
    {
      "cell_type": "code",
      "metadata": {
        "id": "JV5co9wu08wf",
        "colab_type": "code",
        "colab": {}
      },
      "source": [
        "notas2017_2.info()"
      ],
      "execution_count": 0,
      "outputs": []
    },
    {
      "cell_type": "code",
      "metadata": {
        "id": "C__VuJ7T0Mo4",
        "colab_type": "code",
        "colab": {}
      },
      "source": [
        "notas2018_1.info()"
      ],
      "execution_count": 0,
      "outputs": []
    },
    {
      "cell_type": "code",
      "metadata": {
        "id": "2S63BiQG1bmH",
        "colab_type": "code",
        "colab": {}
      },
      "source": [
        "notas2018_2.info()"
      ],
      "execution_count": 0,
      "outputs": []
    },
    {
      "cell_type": "code",
      "metadata": {
        "id": "b5Q343re1kr5",
        "colab_type": "code",
        "colab": {}
      },
      "source": [
        "notas2019_1.info()"
      ],
      "execution_count": 0,
      "outputs": []
    },
    {
      "cell_type": "code",
      "metadata": {
        "id": "JyvSKOiU3tMc",
        "colab_type": "code",
        "colab": {}
      },
      "source": [
        "carga.info()"
      ],
      "execution_count": 0,
      "outputs": []
    },
    {
      "cell_type": "markdown",
      "metadata": {
        "id": "TjeHFDBfwV5w",
        "colab_type": "text"
      },
      "source": [
        "###2.3 Exploração de Dados\n",
        "<a id='exploracao'></a>"
      ]
    },
    {
      "cell_type": "markdown",
      "metadata": {
        "id": "FRSYKSmFAC9t",
        "colab_type": "text"
      },
      "source": [
        "Temos várias situações disponíveis ao fim da matéria. Excluída, Trancada, Desistência, Indiferido e Cancelado não farão parte da nossa análise que busca apenas alunos que foram do começo ao fim da matéria.\n",
        "\n",
        "Todos os tipos de reprovação iram virar uma só, assim como às aprovações."
      ]
    },
    {
      "cell_type": "code",
      "metadata": {
        "id": "cljUAeYjwlsU",
        "colab_type": "code",
        "colab": {}
      },
      "source": [
        "notas2015_1['situacao'].unique()"
      ],
      "execution_count": 0,
      "outputs": []
    },
    {
      "cell_type": "markdown",
      "metadata": {
        "id": "R0TLpuhAPN3Y",
        "colab_type": "text"
      },
      "source": [
        "Vemos que existe disciplinas em que a nota média final foi '-'. Como pode?\n",
        "\n",
        "A primeira hipótese seria de que algúem zerou todas as unidades e saiu com nota 0, e o sistema colocaria '-' \n",
        "\n",
        "Descobri que existem disciplinas que contam apenas para carga horária complementar. Ou seja, não tem uma nota final para o estudante\n",
        "\n",
        "Além disso vemos que as notas estão em objeto (string), vai ser necessário a conversão para float"
      ]
    },
    {
      "cell_type": "code",
      "metadata": {
        "id": "EUFsVa_LOhXJ",
        "colab_type": "code",
        "colab": {}
      },
      "source": [
        "notas2015_1['nota'].unique()"
      ],
      "execution_count": 0,
      "outputs": []
    },
    {
      "cell_type": "markdown",
      "metadata": {
        "id": "r9S1wjjCuu89",
        "colab_type": "text"
      },
      "source": [
        "##3. Preparação de Dados\n",
        "<a id='preparo'></a>"
      ]
    },
    {
      "cell_type": "markdown",
      "metadata": {
        "id": "LQzNnic6n7Aw",
        "colab_type": "text"
      },
      "source": [
        "Adicionando os DF a uma lista para minimizar o número de linhas"
      ]
    },
    {
      "cell_type": "code",
      "metadata": {
        "id": "PuPFoSjMvBNL",
        "colab_type": "code",
        "colab": {}
      },
      "source": [
        "lista_df_notas = [notas2015_1, notas2015_2, notas2016_1, notas2016_2 , notas2017_1, notas2017_2, notas2018_1, notas2018_2, notas2019_1]"
      ],
      "execution_count": 0,
      "outputs": []
    },
    {
      "cell_type": "code",
      "metadata": {
        "id": "bM9UtXE7kf6U",
        "colab_type": "code",
        "colab": {}
      },
      "source": [
        "lista_df_notas[-1].iloc[:2,1:]"
      ],
      "execution_count": 0,
      "outputs": []
    },
    {
      "cell_type": "code",
      "metadata": {
        "id": "4aA4ij7PQVRN",
        "colab_type": "code",
        "colab": {
          "base_uri": "https://localhost:8080/",
          "height": 305
        },
        "outputId": "6ca6e6f0-2787-4f97-e1fc-686e48119397"
      },
      "source": [
        "lista_df_notas[-1].info()"
      ],
      "execution_count": 5,
      "outputs": [
        {
          "output_type": "stream",
          "text": [
            "<class 'pandas.core.frame.DataFrame'>\n",
            "RangeIndex: 20620 entries, 0 to 20619\n",
            "Data columns (total 9 columns):\n",
            " #   Column      Non-Null Count  Dtype \n",
            "---  ------      --------------  ----- \n",
            " 0   periodo     20620 non-null  int64 \n",
            " 1   codigo      20620 non-null  object\n",
            " 2   disciplina  20620 non-null  object\n",
            " 3   turma       20620 non-null  object\n",
            " 4   siape       20620 non-null  object\n",
            " 5   horario     20617 non-null  object\n",
            " 6   matricula   20620 non-null  int64 \n",
            " 7   nota        20620 non-null  object\n",
            " 8   situacao    20620 non-null  object\n",
            "dtypes: int64(2), object(7)\n",
            "memory usage: 1.4+ MB\n"
          ],
          "name": "stdout"
        }
      ]
    },
    {
      "cell_type": "code",
      "metadata": {
        "id": "szhl6uIrOoaX",
        "colab_type": "code",
        "colab": {}
      },
      "source": [
        "ano_df = lista_df_notas[0]['matricula'].str[0:4].max()\n",
        "ano_df"
      ],
      "execution_count": 0,
      "outputs": []
    },
    {
      "cell_type": "code",
      "metadata": {
        "id": "wBIvdCk_urDb",
        "colab_type": "code",
        "colab": {}
      },
      "source": [
        "lista_df_notas[0]"
      ],
      "execution_count": 0,
      "outputs": []
    },
    {
      "cell_type": "code",
      "metadata": {
        "id": "UgZmWdb6wIfQ",
        "colab_type": "code",
        "colab": {}
      },
      "source": [
        "lista_copia = []\n",
        "lista_copia_copia = []\n",
        "lista_copia = lista_df_notas\n",
        "lista_copia_copia = lista_copia"
      ],
      "execution_count": 0,
      "outputs": []
    },
    {
      "cell_type": "code",
      "metadata": {
        "id": "c54bGuFdSzgF",
        "colab_type": "code",
        "colab": {
          "base_uri": "https://localhost:8080/",
          "height": 107
        },
        "outputId": "31286266-e55b-476a-dd28-4c41d11f0833"
      },
      "source": [
        "#antes de chamar a funcao/pipeline, \n",
        "#table = table.merge(carga,on=\"codigo\")\n",
        "\n",
        "lista_retorno = []\n",
        "lista_retorno = geraDadosGenericos(lista_df_notas, carga)\n",
        "                   "
      ],
      "execution_count": 48,
      "outputs": [
        {
          "output_type": "stream",
          "text": [
            "/usr/local/lib/python3.6/dist-packages/pandas/core/frame.py:4133: SettingWithCopyWarning: \n",
            "A value is trying to be set on a copy of a slice from a DataFrame\n",
            "\n",
            "See the caveats in the documentation: https://pandas.pydata.org/pandas-docs/stable/user_guide/indexing.html#returning-a-view-versus-a-copy\n",
            "  errors=errors,\n"
          ],
          "name": "stderr"
        }
      ]
    },
    {
      "cell_type": "code",
      "metadata": {
        "id": "8KrItj7HvZ3H",
        "colab_type": "code",
        "colab": {}
      },
      "source": [
        "lista_retorno[0]"
      ],
      "execution_count": 0,
      "outputs": []
    },
    {
      "cell_type": "code",
      "metadata": {
        "id": "o3PBU2uIM4vj",
        "colab_type": "code",
        "colab": {}
      },
      "source": [
        "def geraDadosGenericos(X, carga):\n",
        "  #itera a lista\n",
        "  lista_df_notas = X.copy()\n",
        "  lista_df_generico = []\n",
        "  for df_notas in lista_df_notas:\n",
        "    df_notas = converteParaString(df_notas)\n",
        "    df_notas = filtraSituacoes(df_notas)\n",
        "    df_notas = concatenaSemestre(df_notas)\n",
        "    df_generico = geraFeaturesComDadosGenericos(df_notas, carga)\n",
        "    lista_df_generico.append(df_generico)\n",
        "  return lista_df_generico"
      ],
      "execution_count": 0,
      "outputs": []
    },
    {
      "cell_type": "code",
      "metadata": {
        "id": "2X8AdYWRpw6e",
        "colab_type": "code",
        "colab": {}
      },
      "source": [
        "def converteParaString(df_notas):\n",
        "  df_notas['matricula'] = df_notas['matricula'].astype(str)\n",
        "  df_notas['periodo']   = df_notas['periodo'].astype(str)\n",
        "  return df_notas"
      ],
      "execution_count": 0,
      "outputs": []
    },
    {
      "cell_type": "code",
      "metadata": {
        "id": "JUfT7f1xbe-V",
        "colab_type": "code",
        "colab": {}
      },
      "source": [
        "def concatenaSemestre(df_notas):\n",
        "  #pega o ano mais alto que tem na matricula, indicando o ano do df\n",
        "  ano_df = df_notas['matricula'].str[0:4].max()\n",
        "  df_notas['semestre'] = str(ano_df) + '.' + str(df_notas['periodo'].iloc[0])\n",
        "\n",
        "  #apagando a coluna periodo, nao serve mais\n",
        "  df_notas.drop(columns = ['periodo'], inplace=True)\n",
        "\n",
        "  return df_notas"
      ],
      "execution_count": 0,
      "outputs": []
    },
    {
      "cell_type": "code",
      "metadata": {
        "id": "h3ZrXgJEle60",
        "colab_type": "code",
        "colab": {}
      },
      "source": [
        "def filtraSituacoes(df_notas):\n",
        "  #substitui todas as situacoes de reprovado e aprovado para ser apenas um tipo\n",
        "  df_notas.loc[df_notas['situacao'].str.contains('REPROVADO'), 'situacao'] = 'REPROVADO'\n",
        "  df_notas.loc[df_notas['situacao'].str.contains('APROVADO'), 'situacao'] = 'APROVADO'\n",
        "\n",
        "  #seleciona as situacoes de interesse que são aprovados e reprovados\n",
        "  df_notas = df_notas.loc[(df_notas['situacao'].str.contains('APROVADO')) |\n",
        "                          (df_notas['situacao'].str.contains('REPROVADO')) \n",
        "                         ]\n",
        "  #tem disciplina que só contam para a horas complementares, não tem nota       \n",
        "  df_notas = df_notas.loc[ ~(df_notas['nota'].str.contains('-')), :]   \n",
        "\n",
        "  #conversao para de string para float   \n",
        "  df_notas['nota'] = df_notas['nota'].astype(float)            \n",
        "                                                  \n",
        "  return df_notas"
      ],
      "execution_count": 0,
      "outputs": []
    },
    {
      "cell_type": "code",
      "metadata": {
        "id": "gaaKlP5ohCjE",
        "colab_type": "code",
        "colab": {}
      },
      "source": [
        "def geraFeaturesComDadosGenericos(df_notas, carga):\n",
        "  df_notas = df_notas.merge(carga, on = 'codigo')\n",
        "  df = pd.DataFrame()\n",
        "  final = pd.DataFrame()\n",
        "\n",
        "  #media das disciplinas\n",
        "  df = df_notas.groupby('matricula')['nota'].mean().reset_index()\n",
        "  df.rename(columns={'nota':'mediaNotas'}, inplace = True)\n",
        "  final = df\n",
        "\n",
        "  #menor nota\n",
        "  df = df_notas.groupby('matricula')['nota'].min().reset_index()\n",
        "  df.rename(columns = {'nota':'menorNota'}, inplace = True)\n",
        "  final = final.merge(df, on = 'matricula', how = 'outer')\n",
        "\n",
        "  #maior nota\n",
        "  df = df_notas.groupby('matricula')['nota'].max().reset_index()\n",
        "  df.rename(columns = {'nota':'maiorNota'}, inplace = True)\n",
        "  final = final.merge(df, on = 'matricula', how = 'outer')\n",
        "\n",
        "  #quantidade de disciplinas cursadas\n",
        "  df = df_notas.groupby('matricula')['codigo'].count().reset_index()\n",
        "  df.rename(columns = {'codigo':'quantidadeDisciplinasCursadas'}, inplace=True)\n",
        "  final = final.merge(df, on = 'matricula', how = 'outer')\n",
        "\n",
        "  #quantidade de situacoes\n",
        "  df = df_notas.groupby(['matricula','situacao'])['codigo'].count().reset_index()\n",
        "  df.rename(columns = {'codigo':'quanSituacao'}, inplace = True)\n",
        "\n",
        "  #quantidade de situacoes em que houve aprovacao\n",
        "  aprovado = df.loc[df['situacao'] == 'APROVADO',:]\n",
        "  aprovado.rename(columns = {'quanSituacao':'quantidadeAprovacoes'}, inplace = True)\n",
        "  final = final.merge(aprovado, on = 'matricula', how = 'outer')\n",
        "\n",
        "  #quantidade de situacoes em que houve reprovacao\n",
        "  reprovado = df.loc[df['situacao'] == 'REPROVADO',:]\n",
        "  reprovado.rename(columns = {'quanSituacao':'quantidadeReprovacoes'}, inplace = True)\n",
        "  final = final.merge(reprovado, on = 'matricula', how = 'outer')\n",
        "  final = final.drop(['situacao_x', 'situacao_y'], axis = 1)\n",
        "\n",
        "  #media das aprovacoes\n",
        "  aprov = df_notas.loc[df_notas['situacao'] == 'APROVADO',:]\n",
        "  dfa = aprov.groupby(['matricula'])['nota'].mean().reset_index()\n",
        "  dfa.rename(columns = {'nota':'mediaAprovadas'}, inplace = True)\n",
        "  final = final.merge(dfa, on = 'matricula', how ='outer')\n",
        "\n",
        "  #media das reprovacoes\n",
        "  reprov = df_notas.loc[df_notas['situacao'] == 'REPROVADO',:]\n",
        "  dfr = reprov.groupby(['matricula'])['nota'].mean().reset_index()\n",
        "  dfr.rename(columns = {'nota':'mediaReprovadas'}, inplace = True)\n",
        "  final = final.merge(dfr, on = 'matricula', how ='outer')\n",
        "\n",
        "  #carga horaria total no semestre\n",
        "  df = df_notas.groupby('matricula')['ch_total'].sum().reset_index()\n",
        "  df.rename(columns = {'ch_total':'cargaHoraria'}, inplace = True)\n",
        "  final = final.merge(df, on = 'matricula', how = 'outer')\n",
        "\n",
        "  #substituindo valores nulos por 0\n",
        "  final = final.fillna(0)\n",
        "\n",
        "  #conversao de campos de objeto para inteiro\n",
        "  final['quantidadeAprovacoes']  = final['quantidadeAprovacoes'].astype(int)\n",
        "  final['quantidadeReprovacoes'] = final['quantidadeReprovacoes'].astype(int)\n",
        "\n",
        "  #Criando campo taxa de sucesso, que será a porcentagem de aprovações dado o total de disciplinas\n",
        "  final['taxaDeSucesso']  = np.divide(final['quantidadeAprovacoes'], final['quantidadeDisciplinasCursadas']) \n",
        "\n",
        "  #herdando o semestre\n",
        "  final['semestre'] = df_notas['semestre']\n",
        "\n",
        "  return final"
      ],
      "execution_count": 0,
      "outputs": []
    },
    {
      "cell_type": "markdown",
      "metadata": {
        "id": "fxYVhWBHcWTJ",
        "colab_type": "text"
      },
      "source": [
        "A idéia de geração dos dados genéricos é a seguinte"
      ]
    },
    {
      "cell_type": "markdown",
      "metadata": {
        "id": "5-NLJxgXqV6J",
        "colab_type": "text"
      },
      "source": [
        "Passos de transformação de dados\n",
        "\n",
        "* primeiro\n",
        "* segundo"
      ]
    },
    {
      "cell_type": "markdown",
      "metadata": {
        "id": "EULg4DUhCV9f",
        "colab_type": "text"
      },
      "source": [
        "Classe para realizar transformação nos Dados\n",
        "\n",
        "Ela será no formato sugerido pela Sklearn para ser compatível com pipelines"
      ]
    },
    {
      "cell_type": "markdown",
      "metadata": {
        "id": "jURJ5OCjcmCY",
        "colab_type": "text"
      },
      "source": [
        "\n",
        "Função para montar a tabela com os antecedentes dos alunos\n",
        "\n",
        "def criaDataFrameAntecedentes(table): #usa carga horaria\n",
        "\n",
        "\n",
        "\n",
        "\n",
        "Função para inserir o ano de ingresso do aluno\n",
        "def AnoIngresso(table) : \n",
        "\n",
        "\n",
        "\n",
        "Função para adicionar os anos a cada semestre\n",
        "def concatena(table,i,ano):\n",
        "--chama\n",
        "filtrositu\n",
        "converte\n",
        "criaDFAnte\n",
        "\n",
        "eu passo o df de notas \n",
        "retorna o df de notas\n",
        "e o de semestre\n",
        "\n",
        "\n",
        "['matricula', 'media', 'min', 'max', 'QuantDisciCursadas',\n",
        "       'quantAprovado', 'quantReprovado', 'mediasAprovadas',\n",
        "       'mediasReprovadas', 'carga_total', 'anoSemestre', 'taxaDeSucesso',\n",
        "       'AnoIngresso', 'AnosMatriculado']\n",
        "\n",
        "\n",
        "serao 2 classes de transformacao nesse notebook. A que treina os modelos é a proxima\n",
        "\n",
        "depois o próximo passo é concatenar o dataframe antecedente com o resultado na materia do semestre seguinte \n",
        "\n",
        "\n",
        "bagunça.com\n",
        "Função para concatenar o antecedente com a situação em matéria posterior\n",
        "def concatenaAntecessoresComResultadoPosterior(tableAntecedente,tableAtual,situacaoPosterior,final,flag):\n",
        "\n"
      ]
    },
    {
      "cell_type": "code",
      "metadata": {
        "id": "XyBU1Umz3aWX",
        "colab_type": "code",
        "colab": {
          "base_uri": "https://localhost:8080/",
          "height": 107
        },
        "outputId": "05701ede-505a-4446-ebb5-314229f25cd2"
      },
      "source": [
        "str_transf = geraDadosGenericos(carga)\n",
        "df_teste = str_transf.transform(lista_df_notas)"
      ],
      "execution_count": 20,
      "outputs": [
        {
          "output_type": "stream",
          "text": [
            "/usr/local/lib/python3.6/dist-packages/pandas/core/frame.py:4133: SettingWithCopyWarning: \n",
            "A value is trying to be set on a copy of a slice from a DataFrame\n",
            "\n",
            "See the caveats in the documentation: https://pandas.pydata.org/pandas-docs/stable/user_guide/indexing.html#returning-a-view-versus-a-copy\n",
            "  errors=errors,\n"
          ],
          "name": "stderr"
        }
      ]
    },
    {
      "cell_type": "code",
      "metadata": {
        "id": "QQEc7Dqv809k",
        "colab_type": "code",
        "colab": {
          "base_uri": "https://localhost:8080/",
          "height": 439
        },
        "outputId": "86f9bcbc-2c2f-407c-b731-d7f1187cfaa7"
      },
      "source": [
        "df_teste[0]"
      ],
      "execution_count": 22,
      "outputs": [
        {
          "output_type": "execute_result",
          "data": {
            "text/html": [
              "<div>\n",
              "<style scoped>\n",
              "    .dataframe tbody tr th:only-of-type {\n",
              "        vertical-align: middle;\n",
              "    }\n",
              "\n",
              "    .dataframe tbody tr th {\n",
              "        vertical-align: top;\n",
              "    }\n",
              "\n",
              "    .dataframe thead th {\n",
              "        text-align: right;\n",
              "    }\n",
              "</style>\n",
              "<table border=\"1\" class=\"dataframe\">\n",
              "  <thead>\n",
              "    <tr style=\"text-align: right;\">\n",
              "      <th></th>\n",
              "      <th>matricula</th>\n",
              "      <th>mediaNotas</th>\n",
              "      <th>menorNota</th>\n",
              "      <th>maiorNota</th>\n",
              "      <th>quantidadeDisciplinasCursadas</th>\n",
              "      <th>quantidadeAprovacoes</th>\n",
              "      <th>quantidadeReprovacoes</th>\n",
              "      <th>mediaAprovadas</th>\n",
              "      <th>mediaReprovadas</th>\n",
              "      <th>cargaHoraria</th>\n",
              "      <th>taxaDeSucesso</th>\n",
              "      <th>semestre</th>\n",
              "    </tr>\n",
              "  </thead>\n",
              "  <tbody>\n",
              "    <tr>\n",
              "      <th>0</th>\n",
              "      <td>2009028341</td>\n",
              "      <td>4.971429</td>\n",
              "      <td>0.7</td>\n",
              "      <td>9.1</td>\n",
              "      <td>7</td>\n",
              "      <td>5</td>\n",
              "      <td>2</td>\n",
              "      <td>6.540000</td>\n",
              "      <td>1.050000</td>\n",
              "      <td>450</td>\n",
              "      <td>0.714286</td>\n",
              "      <td>2015.1</td>\n",
              "    </tr>\n",
              "    <tr>\n",
              "      <th>1</th>\n",
              "      <td>2009028457</td>\n",
              "      <td>3.950000</td>\n",
              "      <td>0.0</td>\n",
              "      <td>6.1</td>\n",
              "      <td>4</td>\n",
              "      <td>2</td>\n",
              "      <td>2</td>\n",
              "      <td>5.900000</td>\n",
              "      <td>2.000000</td>\n",
              "      <td>210</td>\n",
              "      <td>0.500000</td>\n",
              "      <td>2015.1</td>\n",
              "    </tr>\n",
              "    <tr>\n",
              "      <th>2</th>\n",
              "      <td>2009028473</td>\n",
              "      <td>6.485714</td>\n",
              "      <td>5.2</td>\n",
              "      <td>8.6</td>\n",
              "      <td>7</td>\n",
              "      <td>7</td>\n",
              "      <td>0</td>\n",
              "      <td>6.485714</td>\n",
              "      <td>0.000000</td>\n",
              "      <td>420</td>\n",
              "      <td>1.000000</td>\n",
              "      <td>2015.1</td>\n",
              "    </tr>\n",
              "    <tr>\n",
              "      <th>3</th>\n",
              "      <td>2009029488</td>\n",
              "      <td>4.033333</td>\n",
              "      <td>0.0</td>\n",
              "      <td>7.2</td>\n",
              "      <td>6</td>\n",
              "      <td>3</td>\n",
              "      <td>3</td>\n",
              "      <td>6.266667</td>\n",
              "      <td>1.800000</td>\n",
              "      <td>360</td>\n",
              "      <td>0.500000</td>\n",
              "      <td>2015.1</td>\n",
              "    </tr>\n",
              "    <tr>\n",
              "      <th>4</th>\n",
              "      <td>2009029534</td>\n",
              "      <td>5.880000</td>\n",
              "      <td>2.4</td>\n",
              "      <td>7.1</td>\n",
              "      <td>5</td>\n",
              "      <td>4</td>\n",
              "      <td>1</td>\n",
              "      <td>6.750000</td>\n",
              "      <td>2.400000</td>\n",
              "      <td>270</td>\n",
              "      <td>0.800000</td>\n",
              "      <td>2015.1</td>\n",
              "    </tr>\n",
              "    <tr>\n",
              "      <th>...</th>\n",
              "      <td>...</td>\n",
              "      <td>...</td>\n",
              "      <td>...</td>\n",
              "      <td>...</td>\n",
              "      <td>...</td>\n",
              "      <td>...</td>\n",
              "      <td>...</td>\n",
              "      <td>...</td>\n",
              "      <td>...</td>\n",
              "      <td>...</td>\n",
              "      <td>...</td>\n",
              "      <td>...</td>\n",
              "    </tr>\n",
              "    <tr>\n",
              "      <th>3069</th>\n",
              "      <td>2015096155</td>\n",
              "      <td>3.883333</td>\n",
              "      <td>1.2</td>\n",
              "      <td>6.6</td>\n",
              "      <td>6</td>\n",
              "      <td>3</td>\n",
              "      <td>3</td>\n",
              "      <td>6.133333</td>\n",
              "      <td>1.633333</td>\n",
              "      <td>330</td>\n",
              "      <td>0.500000</td>\n",
              "      <td>2015.1</td>\n",
              "    </tr>\n",
              "    <tr>\n",
              "      <th>3070</th>\n",
              "      <td>2015096217</td>\n",
              "      <td>4.733333</td>\n",
              "      <td>0.2</td>\n",
              "      <td>7.6</td>\n",
              "      <td>6</td>\n",
              "      <td>3</td>\n",
              "      <td>3</td>\n",
              "      <td>6.733333</td>\n",
              "      <td>2.733333</td>\n",
              "      <td>330</td>\n",
              "      <td>0.500000</td>\n",
              "      <td>2015.1</td>\n",
              "    </tr>\n",
              "    <tr>\n",
              "      <th>3071</th>\n",
              "      <td>2015096315</td>\n",
              "      <td>3.050000</td>\n",
              "      <td>0.0</td>\n",
              "      <td>6.8</td>\n",
              "      <td>6</td>\n",
              "      <td>2</td>\n",
              "      <td>4</td>\n",
              "      <td>6.100000</td>\n",
              "      <td>1.525000</td>\n",
              "      <td>330</td>\n",
              "      <td>0.333333</td>\n",
              "      <td>2015.1</td>\n",
              "    </tr>\n",
              "    <tr>\n",
              "      <th>3072</th>\n",
              "      <td>2015096398</td>\n",
              "      <td>6.050000</td>\n",
              "      <td>5.4</td>\n",
              "      <td>6.7</td>\n",
              "      <td>2</td>\n",
              "      <td>2</td>\n",
              "      <td>0</td>\n",
              "      <td>6.050000</td>\n",
              "      <td>0.000000</td>\n",
              "      <td>120</td>\n",
              "      <td>1.000000</td>\n",
              "      <td>2015.1</td>\n",
              "    </tr>\n",
              "    <tr>\n",
              "      <th>3073</th>\n",
              "      <td>2015096413</td>\n",
              "      <td>5.216667</td>\n",
              "      <td>1.2</td>\n",
              "      <td>8.3</td>\n",
              "      <td>6</td>\n",
              "      <td>3</td>\n",
              "      <td>3</td>\n",
              "      <td>7.266667</td>\n",
              "      <td>3.166667</td>\n",
              "      <td>330</td>\n",
              "      <td>0.500000</td>\n",
              "      <td>2015.1</td>\n",
              "    </tr>\n",
              "  </tbody>\n",
              "</table>\n",
              "<p>3074 rows × 12 columns</p>\n",
              "</div>"
            ],
            "text/plain": [
              "       matricula  mediaNotas  menorNota  ...  cargaHoraria  taxaDeSucesso  semestre\n",
              "0     2009028341    4.971429        0.7  ...           450       0.714286    2015.1\n",
              "1     2009028457    3.950000        0.0  ...           210       0.500000    2015.1\n",
              "2     2009028473    6.485714        5.2  ...           420       1.000000    2015.1\n",
              "3     2009029488    4.033333        0.0  ...           360       0.500000    2015.1\n",
              "4     2009029534    5.880000        2.4  ...           270       0.800000    2015.1\n",
              "...          ...         ...        ...  ...           ...            ...       ...\n",
              "3069  2015096155    3.883333        1.2  ...           330       0.500000    2015.1\n",
              "3070  2015096217    4.733333        0.2  ...           330       0.500000    2015.1\n",
              "3071  2015096315    3.050000        0.0  ...           330       0.333333    2015.1\n",
              "3072  2015096398    6.050000        5.4  ...           120       1.000000    2015.1\n",
              "3073  2015096413    5.216667        1.2  ...           330       0.500000    2015.1\n",
              "\n",
              "[3074 rows x 12 columns]"
            ]
          },
          "metadata": {
            "tags": []
          },
          "execution_count": 22
        }
      ]
    },
    {
      "cell_type": "code",
      "metadata": {
        "id": "YiDJO4BPLYng",
        "colab_type": "code",
        "colab": {}
      },
      "source": [
        "class geraDadosGenericos(TransformerMixin):  \n",
        "  def __init__(self, carga):\n",
        "    self.carga = carga\n",
        "\n",
        "\t#nao irei fazer nenhum treinamento\t\n",
        "\n",
        "\n",
        "  def fit(self, X, y = None):\n",
        "    return self    \n",
        "\n",
        "  #-------------------------funcoes de geracao de dados da classe---------------------------------\n",
        "\n",
        "  def filtraSituacoes(self, df_notas):\n",
        "    #conversao para string\n",
        "    df_notas['matricula'] = df_notas['matricula'].astype(str)\n",
        "    df_notas['periodo']   = df_notas['periodo'].astype(str)\n",
        "\n",
        "    #substitui todas as situacoes de reprovado e aprovado para ser apenas um tipo\n",
        "    df_notas.loc[df_notas['situacao'].str.contains('REPROVADO'), 'situacao'] = 'REPROVADO'\n",
        "    df_notas.loc[df_notas['situacao'].str.contains('APROVADO'), 'situacao']  = 'APROVADO'\n",
        "\n",
        "    #seleciona as situacoes de interesse que são aprovados e reprovados\n",
        "    df_notas = df_notas.loc[(df_notas['situacao'].str.contains('APROVADO')) |\n",
        "                            (df_notas['situacao'].str.contains('REPROVADO')) \n",
        "                          ] \t\n",
        "    #tem disciplina que só contam para a horas complementares, não tem nota\n",
        "    df_notas = df_notas.loc[ ~(df_notas['nota'].str.contains('-')), :]\n",
        "\n",
        "    #conversao para de string para float\n",
        "    df_notas['nota'] = df_notas['nota'].astype(float)\n",
        "    return df_notas\n",
        "\n",
        "\n",
        "  def converteString(self, df_notas):\n",
        "    df_notas['matricula'] = df_notas['matricula'].astype(str)\n",
        "    df_notas['periodo']   = df_notas['periodo'].astype(str)\n",
        "    return df_notas\n",
        "\n",
        "\n",
        "  def concatenaSemestre(self, df_notas):\n",
        "    #pega o ano mais alto que tem na matricula, indicando o semestre do df\n",
        "    ano_df = df_notas['matricula'].str[0:4].max()\n",
        "    df_notas['semestre'] = str(ano_df) + '.' + str(df_notas['periodo'].iloc[0])\n",
        "\n",
        "    #apagando a coluna periodo, nao serve mais\n",
        "    df_notas.drop(columns = ['periodo'], inplace=True)\n",
        "    return df_notas\n",
        "\n",
        "\n",
        "  #essa função vai criar as novas features com o desempenho do aluno no semestre \n",
        "  def geraFeaturesComDadosGenericos(self, df_notas):\n",
        "    df_notas = df_notas.merge(self.carga, on = 'codigo')\n",
        "    df = pd.DataFrame()\n",
        "    final = pd.DataFrame()\n",
        "\n",
        "    #media das disciplinas\n",
        "    df = df_notas.groupby('matricula')['nota'].mean().reset_index()\n",
        "    df.rename(columns={'nota':'mediaNotas'}, inplace = True)\n",
        "    final = df\n",
        "\n",
        "    #menor nota\n",
        "    df = df_notas.groupby('matricula')['nota'].min().reset_index()\n",
        "    df.rename(columns = {'nota':'menorNota'}, inplace = True)\n",
        "    final = final.merge(df, on = 'matricula', how = 'outer')\n",
        "\n",
        "    #maior nota\n",
        "    df = df_notas.groupby('matricula')['nota'].max().reset_index()\n",
        "    df.rename(columns = {'nota':'maiorNota'}, inplace = True)\n",
        "    final = final.merge(df, on = 'matricula', how = 'outer')\n",
        "\n",
        "    #quantidade de disciplinas cursadas\n",
        "    df = df_notas.groupby('matricula')['codigo'].count().reset_index()\n",
        "    df.rename(columns = {'codigo':'quantidadeDisciplinasCursadas'}, inplace=True)\n",
        "    final = final.merge(df, on = 'matricula', how = 'outer')\n",
        "\n",
        "    #quantidade de situacoes\n",
        "    df = df_notas.groupby(['matricula','situacao'])['codigo'].count().reset_index()\n",
        "    df.rename(columns = {'codigo':'quanSituacao'}, inplace = True)\n",
        "\n",
        "    #quantidade de situacoes em que houve aprovacao\n",
        "    aprovado = df.loc[df['situacao'] == 'APROVADO',:]\n",
        "    aprovado.rename(columns = {'quanSituacao':'quantidadeAprovacoes'}, inplace = True)\n",
        "    final = final.merge(aprovado, on = 'matricula', how = 'outer')\n",
        "\n",
        "    #quantidade de situacoes em que houve reprovacao\n",
        "    reprovado = df.loc[df['situacao'] == 'REPROVADO',:]\n",
        "    reprovado.rename(columns = {'quanSituacao':'quantidadeReprovacoes'}, inplace = True)\n",
        "    final = final.merge(reprovado, on = 'matricula', how = 'outer')\n",
        "    final = final.drop(['situacao_x', 'situacao_y'], axis = 1)\n",
        "\n",
        "    #media das aprovacoes\n",
        "    aprov = df_notas.loc[df_notas['situacao'] == 'APROVADO',:]\n",
        "    dfa = aprov.groupby(['matricula'])['nota'].mean().reset_index()\n",
        "    dfa.rename(columns = {'nota':'mediaAprovadas'}, inplace = True)\n",
        "    final = final.merge(dfa, on = 'matricula', how ='outer')\n",
        "\n",
        "    #media das reprovacoes\n",
        "    reprov = df_notas.loc[df_notas['situacao'] == 'REPROVADO',:]\n",
        "    dfr = reprov.groupby(['matricula'])['nota'].mean().reset_index()\n",
        "    dfr.rename(columns = {'nota':'mediaReprovadas'}, inplace = True)\n",
        "    final = final.merge(dfr, on = 'matricula', how ='outer')\n",
        "\n",
        "    #carga horaria total no semestre\n",
        "    df = df_notas.groupby('matricula')['ch_total'].sum().reset_index()\n",
        "    df.rename(columns = {'ch_total':'cargaHoraria'}, inplace = True)\n",
        "    final = final.merge(df, on = 'matricula', how = 'outer')\n",
        "\n",
        "    #substituindo valores nulos por 0\n",
        "    final = final.fillna(0)\n",
        "\n",
        "    #conversao de campos de objeto para inteiro\n",
        "    final['quantidadeAprovacoes']  = final['quantidadeAprovacoes'].astype(int)\n",
        "    final['quantidadeReprovacoes'] = final['quantidadeReprovacoes'].astype(int)\n",
        "\n",
        "    #Criando campo taxa de sucesso, que será a porcentagem de aprovações dado o total de disciplinas\n",
        "    final['taxaDeSucesso']  = np.divide(final['quantidadeAprovacoes'], final['quantidadeDisciplinasCursadas']) \n",
        "\n",
        "    #herdando o semestre\n",
        "    final['semestre'] = df_notas['semestre']\n",
        "\n",
        "    return final\n",
        "\n",
        "  #--------------------fim das funcoes de geracao de dados da classe-----------------------------------------\n",
        "\n",
        "\n",
        "  def transform(self, X, y = None):\n",
        "    #itera a lista\n",
        "    lista_df_notas = X.copy()\n",
        "    lista_df_generico = []\n",
        "    for df_notas in lista_df_notas:\n",
        "      df_notas = self.converteString(df_notas)\n",
        "      df_notas = self.filtraSituacoes(df_notas)\n",
        "      df_notas = self.concatenaSemestre(df_notas)\n",
        "      df_generico = self.geraFeaturesComDadosGenericos(df_notas)\n",
        "      lista_df_generico.append(df_generico)\n",
        "    return lista_df_generico"
      ],
      "execution_count": 0,
      "outputs": []
    },
    {
      "cell_type": "code",
      "metadata": {
        "id": "APSujhQIDWi9",
        "colab_type": "code",
        "colab": {}
      },
      "source": [
        "class geraDadosGenericos(TansformerMixin):  \n",
        "  def __init__(self, carga):\n",
        "    self.carga = carga\n",
        "\n",
        "\t#nao irei fazer nenhum treinamento\t\n",
        "\tdef fit(self, X, y = None):\n",
        "    return self\n",
        "\n",
        "  #-------------------------funcoes de geracao de dados da classe---------------------------------\n",
        "\n",
        "  def converteParaString(df_notas):\n",
        "    df_notas['matricula'] = df_notas['matricula'].astype(str)\n",
        "    df_notas['periodo']   = df_notas['periodo'].astype(str)\n",
        "    return df_notas\n",
        "\n",
        "\n",
        "  def filtraSituacoes(self, df_notas):\n",
        "    #substitui todas as situacoes de reprovado e aprovado para ser apenas um tipo\n",
        "    df_notas.loc[df_notas['situacao'].str.contains('REPROVADO'), 'situacao'] = 'REPROVADO'\n",
        "    df_notas.loc[df_notas['situacao'].str.contains('APROVADO'), 'situacao']  = 'APROVADO'\n",
        "\n",
        "    #seleciona as situacoes de interesse que são aprovados e reprovados\n",
        "    df_notas = df_notas.loc[(df_notas['situacao'].str.contains('APROVADO')) |\n",
        "                            (df_notas['situacao'].str.contains('REPROVADO')) \n",
        "                          ] \t\n",
        "    #tem disciplina que só contam para a horas complementares, não tem nota\n",
        "    df_notas = df_notas.loc[ ~(df_notas['nota'].str.contains('-')), :]\n",
        "\n",
        "    #conversao para de string para float\n",
        "    df_notas['nota'] = df_notas['nota'].astype(float)\n",
        "    return df_notas\n",
        "    \n",
        "\n",
        "  def concatenaSemestre(self, df_notas):\n",
        "    #pega o ano mais alto que tem na matricula, indicando o semestre do df\n",
        "    ano_df = df_notas['matricula'].str[0:4].max()\n",
        "    df_notas['semestre'] = str(ano_df) + '.' + str(df_notas['periodo'].iloc[0])\n",
        "\n",
        "    #apagando a coluna periodo, nao serve mais\n",
        "    df_notas.drop(columns = ['periodo'], inplace=True)\n",
        "    return df_notas\n",
        "\n",
        "\n",
        "  #essa função vai criar as novas features com o desempenho do aluno no semestre \n",
        "  def geraFeaturesComDadosGenericos(self, df_notas):\n",
        "    df_notas = df_notas.merge(self.carga, on = 'codigo')\n",
        "    df = pd.DataFrame()\n",
        "    final = pd.DataFrame()\n",
        "\n",
        "    #media das disciplinas\n",
        "    df = df_notas.groupby('matricula')['nota'].mean().reset_index()\n",
        "    df.rename(columns={'nota':'mediaNotas'}, inplace = True)\n",
        "    final = df\n",
        "\n",
        "    #menor nota\n",
        "    df = df_notas.groupby('matricula')['nota'].min().reset_index()\n",
        "    df.rename(columns = {'nota':'menorNota'}, inplace = True)\n",
        "    final = final.merge(df, on = 'matricula', how = 'outer')\n",
        "\n",
        "    #maior nota\n",
        "    df = df_notas.groupby('matricula')['nota'].max().reset_index()\n",
        "    df.rename(columns = {'nota':'maiorNota'}, inplace = True)\n",
        "    final = final.merge(df, on = 'matricula', how = 'outer')\n",
        "\n",
        "    #quantidade de disciplinas cursadas\n",
        "    df = df_notas.groupby('matricula')['codigo'].count().reset_index()\n",
        "    df.rename(columns = {'codigo':'quantidadeDisciplinasCursadas'}, inplace=True)\n",
        "    final = final.merge(df, on = 'matricula', how = 'outer')\n",
        "\n",
        "    #quantidade de situacoes\n",
        "    df = df_notas.groupby(['matricula','situacao'])['codigo'].count().reset_index()\n",
        "    df.rename(columns = {'codigo':'quanSituacao'}, inplace = True)\n",
        "\n",
        "    #quantidade de situacoes em que houve aprovacao\n",
        "    aprovado = df.loc[df['situacao'] == 'APROVADO',:]\n",
        "    aprovado.rename(columns = {'quanSituacao':'quantidadeAprovacoes'}, inplace = True)\n",
        "    final = final.merge(aprovado, on = 'matricula', how = 'outer')\n",
        "\n",
        "    #quantidade de situacoes em que houve reprovacao\n",
        "    reprovado = df.loc[df['situacao'] == 'REPROVADO',:]\n",
        "    reprovado.rename(columns = {'quanSituacao':'quantidadeReprovacoes'}, inplace = True)\n",
        "    final = final.merge(reprovado, on = 'matricula', how = 'outer')\n",
        "    final = final.drop(['situacao_x', 'situacao_y'], axis = 1)\n",
        "\n",
        "    #media das aprovacoes\n",
        "    aprov = df_notas.loc[df_notas['situacao'] == 'APROVADO',:]\n",
        "    dfa = aprov.groupby(['matricula'])['nota'].mean().reset_index()\n",
        "    dfa.rename(columns = {'nota':'mediaAprovadas'}, inplace = True)\n",
        "    final = final.merge(dfa, on = 'matricula', how ='outer')\n",
        "\n",
        "    #media das reprovacoes\n",
        "    reprov = df_notas.loc[df_notas['situacao'] == 'REPROVADO',:]\n",
        "    dfr = reprov.groupby(['matricula'])['nota'].mean().reset_index()\n",
        "    dfr.rename(columns = {'nota':'mediaReprovadas'}, inplace = True)\n",
        "    final = final.merge(dfr, on = 'matricula', how ='outer')\n",
        "\n",
        "    #carga horaria total no semestre\n",
        "    df = df_notas.groupby('matricula')['ch_total'].sum().reset_index()\n",
        "    df.rename(columns = {'ch_total':'cargaHoraria'}, inplace = True)\n",
        "    final = final.merge(df, on = 'matricula', how = 'outer')\n",
        "\n",
        "    #substituindo valores nulos por 0\n",
        "    final = final.fillna(0)\n",
        "\n",
        "    #conversao de campos de objeto para inteiro\n",
        "    final['quantidadeAprovacoes']  = final['quantidadeAprovacoes'].astype(int)\n",
        "    final['quantidadeReprovacoes'] = final['quantidadeReprovacoes'].astype(int)\n",
        "\n",
        "    #Criando campo taxa de sucesso, que será a porcentagem de aprovações dado o total de disciplinas\n",
        "    final['taxaDeSucesso']  = np.divide(final['quantidadeAprovacoes'], final['quantidadeDisciplinasCursadas']) \n",
        "\n",
        "    #herdando o semestre\n",
        "    final['semestre'] = df_notas['semestre']\n",
        "\n",
        "    return final\n",
        "\n",
        "  #--------------------fim das funcoes de geracao de dados da classe-----------------------------------------\n",
        "\n",
        "\n",
        "  def transform(self, X, y = None):\n",
        "    #itera a lista\n",
        "    lista_df_notas = X.copy()\n",
        "    lista_df_generico = []\n",
        "    for df_notas in lista_df_notas:\n",
        "      df_notas = converteParaString(df_notas)\n",
        "      df_notas = filtraSituacoes(df_notas)\n",
        "      df_notas = concatenaSemestre(df_notas)\n",
        "      df_generico = geraFeaturesComDadosGenericos(df_notas, carga)\n",
        "      lista_df_generico.append(df_generico)\n",
        "    return lista_df_generico"
      ],
      "execution_count": 0,
      "outputs": []
    },
    {
      "cell_type": "code",
      "metadata": {
        "id": "t1HtX9dSyHth",
        "colab_type": "code",
        "colab": {}
      },
      "source": [
        "class NumericalTransformer(BaseEstimator, TransformerMixin):\n",
        "  def __init__(self, model=0):\n",
        "     self.model = model\n",
        "\n",
        "  def fit(self, X, y = None ):\n",
        "    return self \n",
        "\n",
        "  def create_dummies(self, df, column_name, drop_first_col):\n",
        "    #Cria colunas fictícias apartir de uma\n",
        "    dummies = pd.get_dummies(df[column_name],prefix=column_name, drop_first=drop_first_col)\n",
        "    return dummies\n",
        "\n",
        "  #Manipulando a coluna \"media\"\n",
        "  def process_media(self, df):\n",
        "    #divide a coluna de média em um intervalo de valores \n",
        "    cut_points_notas = [-1,3,5,7,8,11]\n",
        "    label_names_notas = [\"muito baixo\",\"baixo\",\"media\",\"alto\",\"muito alto\"]\n",
        "    df[\"media_categorias\"] = pd.cut(df[\"media\"],\n",
        "                                    cut_points_notas,\n",
        "                                    labels=label_names_notas)\n",
        "    return self.create_dummies(df,\"media_categorias\",False)\n",
        "   \n",
        "  #Manipulando a coluna \"min\"\n",
        "  def process_min(self, df):\n",
        "    #divide a coluna min em um intervalo de valores \n",
        "    cut_points_notas = [-1,3,5,7,8,11]\n",
        "    label_names_notas = [\"muito baixo\",\"baixo\",\"media\",\"alto\",\"muito alto\"]\n",
        "    df[\"min_categorias\"] = pd.cut(df[\"min\"],\n",
        "                                  cut_points_notas,\n",
        "                                  labels=label_names_notas)\n",
        "    return self.create_dummies(df,\"min_categorias\",False) \n",
        "\n",
        "  #Manipulando a coluna \"max\"\n",
        "  def process_max(self, df):\n",
        "    #divide a coluna max em um intervalo de valores \n",
        "    cut_points_notas = [-1,3,5,7,8,11]\n",
        "    label_names_notas = [\"muito baixo\",\"baixo\",\"media\",\"alto\",\"muito alto\"]\n",
        "    df[\"max_categorias\"] = pd.cut(df[\"max\"],\n",
        "                                  cut_points_notas,\n",
        "                                  labels=label_names_notas)\n",
        "    return self.create_dummies(df,\"max_categorias\",False) \n",
        "\n",
        "  #Manipulando a coluna \"carga_total\"\n",
        "  def process_carga_total(self, df):\n",
        "    #divide a coluna carga_total em um intervalo de valores \n",
        "    cut_points_carga = [0,100,200,300,400,600]\n",
        "    label_names_carga = [\"muito baixo\",\"baixo\",\"media\",\"alto\",\"muito alto\"] \n",
        "    df[\"carga_total_categorias\"] = pd.cut(df[\"carga_total\"],\n",
        "                                          cut_points_carga,\n",
        "                                          labels=label_names_carga)\n",
        "    return self.create_dummies(df,\"carga_total_categorias\",False) \n",
        "\n",
        "  #Manipulando a coluna \"carga_total_atual\"\n",
        "  def process_carga_total_atual(self, df):\n",
        "    #divide a coluna carga_total_atual em um intervalo de valores \n",
        "    cut_points_carga = [0,100,200,300,400,600]\n",
        "    label_names_carga = [\"muito baixo\",\"baixo\",\"media\",\"alto\",\"muito alto\"] \n",
        "    df[\"carga_total_atual_categorias\"] = pd.cut(df[\"carga_total_atual\"],\n",
        "                                                cut_points_carga,\n",
        "                                                labels=label_names_carga)\n",
        "    return self.create_dummies(df,\"carga_total_atual_categorias\",False) \n",
        "  \n",
        "  #Criando a coluna de Taxa de sucesso\n",
        "  def tax_suc(self, df):\n",
        "    df[\"tax_suc\"] = df[\"quantAprovado\"] / df[\"QuantDisciCursadas\"]\n",
        "    return pd.DataFrame(df[\"tax_suc\"],columns=[\"tax_suc\"])\n",
        "\n",
        "  #Concatenando colunas\n",
        "  def addcol(sefl, df):\n",
        "    QuantDisciCursadas = \tdf[\"QuantDisciCursadas\"]\n",
        "    quantAprovado      = \tdf[\"quantAprovado\"]\n",
        "    quantReprovado     =  df[\"quantReprovado\"]\n",
        "    QuantDisciAtual    =  df[\"QuantDisciAtual\"]\n",
        "    AnosMatriculado    =  df[\"AnosMatriculado\"]\n",
        "    return pd.concat([QuantDisciCursadas, quantAprovado, quantReprovado, QuantDisciAtual,AnosMatriculado ],axis=1)\n",
        "\n",
        "\n",
        "  #Método transformador\n",
        "  def transform(self, X , y = None ):\n",
        "    df = X.copy()\n",
        "    media = self.process_media(df)  \n",
        "    min1 = self.process_min(df)\n",
        "    max1 = self.process_max(df)\n",
        "    carga_total = self.process_carga_total(df)\n",
        "    carga_total_atual = self.process_carga_total_atual(df)\n",
        "    tax_suc = self.tax_suc(df)\n",
        "    ad = self.addcol(df)\n",
        "      \n",
        "    return pd.concat([media,min1,max1,carga_total,carg"
      ],
      "execution_count": 0,
      "outputs": []
    },
    {
      "cell_type": "markdown",
      "metadata": {
        "id": "B4rJ_jPviRsl",
        "colab_type": "text"
      },
      "source": [
        "##6. Avaliação dos Modelos\n",
        "<a id='avaliacao'></a>\n",
        "\n",
        "### [6.1 Chamada da Função](#chamada)\n",
        "### [6.2 Teste de Modelo](#teste)"
      ]
    },
    {
      "cell_type": "markdown",
      "metadata": {
        "id": "YxO10k-KJnZq",
        "colab_type": "text"
      },
      "source": [
        "###6.1 Chamada da Função\n",
        "<a id='chamada'></a>"
      ]
    },
    {
      "cell_type": "code",
      "metadata": {
        "id": "a54d338IldVz",
        "colab_type": "code",
        "colab": {}
      },
      "source": [
        "(df_relatorio, model_param_disciplinas) = avaliar_modelos(df, hyperparameters)"
      ],
      "execution_count": 0,
      "outputs": []
    },
    {
      "cell_type": "code",
      "metadata": {
        "id": "_RgZO6QU0YH1",
        "colab_type": "code",
        "colab": {}
      },
      "source": [
        "df_relatorio.head()"
      ],
      "execution_count": 0,
      "outputs": []
    },
    {
      "cell_type": "code",
      "metadata": {
        "id": "dCcRXPWv0eAL",
        "colab_type": "code",
        "colab": {}
      },
      "source": [
        "model_param_disciplinas"
      ],
      "execution_count": 0,
      "outputs": []
    },
    {
      "cell_type": "markdown",
      "metadata": {
        "id": "DmuLGrPKFv1c",
        "colab_type": "text"
      },
      "source": [
        "###6.2 Teste de Modelo\n",
        "<a id='teste'></a>"
      ]
    },
    {
      "cell_type": "markdown",
      "metadata": {
        "id": "X9GMVe3bUsvS",
        "colab_type": "text"
      },
      "source": [
        "Importando Modelo"
      ]
    },
    {
      "cell_type": "code",
      "metadata": {
        "id": "uchPDLEsUvt5",
        "colab_type": "code",
        "colab": {}
      },
      "source": [
        "modelo_teste = joblib.load('modelo_.pkl')"
      ],
      "execution_count": 0,
      "outputs": []
    },
    {
      "cell_type": "markdown",
      "metadata": {
        "id": "-lcNJROjYtth",
        "colab_type": "text"
      },
      "source": [
        "Aplicando a transformação no teste"
      ]
    },
    {
      "cell_type": "code",
      "metadata": {
        "id": "wgKRWABoBfVb",
        "colab_type": "code",
        "colab": {}
      },
      "source": [
        "num_transf = NumericalTransformer()\n",
        "df_teste = model.transform(df)"
      ],
      "execution_count": 0,
      "outputs": []
    },
    {
      "cell_type": "code",
      "metadata": {
        "id": "jte7qW39ZR8V",
        "colab_type": "code",
        "colab": {}
      },
      "source": [
        "df_teste.head(2)"
      ],
      "execution_count": 0,
      "outputs": []
    },
    {
      "cell_type": "markdown",
      "metadata": {
        "id": "j8Qb55Di8IkC",
        "colab_type": "text"
      },
      "source": [
        "Realizando teste de um modelo, prevendo probabilidade de ser aprovado"
      ]
    },
    {
      "cell_type": "code",
      "metadata": {
        "id": "LLooF6-vaQ7C",
        "colab_type": "code",
        "colab": {}
      },
      "source": [
        "df_teste.iloc[42,:]"
      ],
      "execution_count": 0,
      "outputs": []
    },
    {
      "cell_type": "code",
      "metadata": {
        "id": "3zusMtVzabUZ",
        "colab_type": "code",
        "colab": {}
      },
      "source": [
        "df_teste.info()"
      ],
      "execution_count": 0,
      "outputs": []
    },
    {
      "cell_type": "code",
      "metadata": {
        "id": "sTg3Zgf-YrEm",
        "colab_type": "code",
        "colab": {}
      },
      "source": [
        "modelo_teste.predict(df_teste.iloc[42,:])"
      ],
      "execution_count": 0,
      "outputs": []
    },
    {
      "cell_type": "markdown",
      "metadata": {
        "id": "PGR1IWltjEKS",
        "colab_type": "text"
      },
      "source": [
        "##7. Conclusão e Recomendações\n",
        "<a id='conclusao'></a>"
      ]
    },
    {
      "cell_type": "markdown",
      "metadata": {
        "id": "A-JlYcDhvmg4",
        "colab_type": "text"
      },
      "source": [
        ""
      ]
    },
    {
      "cell_type": "markdown",
      "metadata": {
        "id": "7bW-MMNpvndY",
        "colab_type": "text"
      },
      "source": [
        "##8. Implantação de Modelos\n",
        "<a id='implantacao'></a>"
      ]
    },
    {
      "cell_type": "code",
      "metadata": {
        "id": "-bcNUiIDvzTt",
        "colab_type": "code",
        "colab": {}
      },
      "source": [
        ""
      ],
      "execution_count": 0,
      "outputs": []
    }
  ]
}