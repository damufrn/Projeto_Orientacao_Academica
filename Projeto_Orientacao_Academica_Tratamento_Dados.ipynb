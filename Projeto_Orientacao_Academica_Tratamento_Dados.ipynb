{
  "nbformat": 4,
  "nbformat_minor": 0,
  "metadata": {
    "colab": {
      "name": "Projeto_Orientacao_Academica_Tratamento_Dados.ipynb",
      "provenance": [],
      "collapsed_sections": [
        "PGR1IWltjEKS"
      ],
      "authorship_tag": "ABX9TyPKb2h/ZunGwnhaJlIH9sPo",
      "include_colab_link": true
    },
    "kernelspec": {
      "name": "python3",
      "display_name": "Python 3"
    }
  },
  "cells": [
    {
      "cell_type": "markdown",
      "metadata": {
        "id": "view-in-github",
        "colab_type": "text"
      },
      "source": [
        "<a href=\"https://colab.research.google.com/github/vilsonrodrigues/Projeto_Orientacao_Academica/blob/master/Projeto_Orientacao_Academica_Tratamento_Dados.ipynb\" target=\"_parent\"><img src=\"https://colab.research.google.com/assets/colab-badge.svg\" alt=\"Open In Colab\"/></a>"
      ]
    },
    {
      "cell_type": "markdown",
      "metadata": {
        "id": "B_vdAfc21u86",
        "colab_type": "text"
      },
      "source": [
        "Por @vilsonrodrigues"
      ]
    },
    {
      "cell_type": "markdown",
      "metadata": {
        "id": "YLxXyebtnjM-",
        "colab_type": "text"
      },
      "source": [
        "\n",
        "\n",
        "# <center><font color='blue'>Projeto de Orientação Acadêmica</font>\n",
        "\n",
        "\n"
      ]
    },
    {
      "cell_type": "markdown",
      "metadata": {
        "id": "ULCWX6-dwLgg",
        "colab_type": "text"
      },
      "source": [
        "<img src='https://ufrn.br/resources/documentos/identidadevisual/logotipo/logotipo_flat.png'>"
      ]
    },
    {
      "cell_type": "markdown",
      "metadata": {
        "id": "C2tX7zYBx5Sd",
        "colab_type": "text"
      },
      "source": [
        "## Parte I - Apresentação do Problema\n",
        "### [1. Apresentação do Problema](#apresentacao)\n",
        "## Parte II - Preparativos Iniciais\n",
        "### [1. Bibliotecas](#bibliotecas)\n",
        "### [2. Classe](#classe)\n",
        "### [3. Funções](#funcoes)\n",
        "### [4. Leituras da Bases](#leiturabase)\n",
        "## Parte III - Desenvolvimento\n",
        "### [1. Entendimento de Negócio](#negocio)\n",
        "### [2. Entendimento de Dados](#enten_dados)\n",
        "### [3. Preparação de Dados](#preparo)\n",
        "### [4. Métricas de Avaliação](#metricas)\n",
        "### [5. Modelagem](#modelagem)\n",
        "### [6. Avaliação de Modelo](#avaliacao)\n",
        "### [7. Conclusão e Recomendações](#conclusao)\n",
        "### [8. Implantação de Modelos](#implantacao)\n"
      ]
    },
    {
      "cell_type": "markdown",
      "metadata": {
        "id": "Rwf-rhVr2Wvj",
        "colab_type": "text"
      },
      "source": [
        "# Parte I - Apresentação do Problema"
      ]
    },
    {
      "cell_type": "markdown",
      "metadata": {
        "id": "bhu64Xadx9yH",
        "colab_type": "text"
      },
      "source": [
        "### **Meta**\n",
        "Nossa meta é prever através de Machine Learning as probabilidades de um estudante ter sucesso em uma disciplina dado o histórico escolar na Universidade.\n",
        "\n",
        "Nossos dados foram transformados para ficarem de uma forma génerica, assim, não dependemos de saber qual foi a matéria cursada anteriormente.\n",
        "\n",
        "Com essa plataforma, os professores que orientam alunos, terão mais segurança e uma comprovação com base no Machine Learning que estudantes que tiveram um histórico semelhante e seguiram esse caminho tiveram mais êxito do que seguir por este outro.\n",
        "\n",
        "Os dados foram coletados do período de 2015.1 até 2019.1.\n",
        "\n",
        "**Esse notebook foca totalmente em analisar os dados e montar uma estratégia  de gerar dados genéricos, de modo que fiquem independente de qual disciplina o aluno curso no semeste anterior.**\n",
        "\n",
        "O trabalho continua neste [notebook](https://), onde são gerados modelos de Machine Learning com dados genéricos.\n",
        "\n",
        "### **Fonte dos Dados**\n",
        "Dados foram extraídos do portal SIGAA e fornecidos pela Escola de Ciências e Tecnlogia (ECT).\n",
        "\n",
        "### **Referência**\n",
        "Hands On: Machine Learning with Scikit-Learning e Tensor Flow\n",
        "\n"
      ]
    },
    {
      "cell_type": "markdown",
      "metadata": {
        "id": "pW86HnPh3ka-",
        "colab_type": "text"
      },
      "source": [
        "# Parte II - Preparativos Iniciais"
      ]
    },
    {
      "cell_type": "markdown",
      "metadata": {
        "id": "vkhuxXT_3vQv",
        "colab_type": "text"
      },
      "source": [
        "## 1. Bibliotecas\n",
        "<a id='bibliotecas'></a>\n",
        "#### [1.1 Instalações](#instalacao)\n",
        "#### [1.2 Importações](#importacao)\n"
      ]
    },
    {
      "cell_type": "markdown",
      "metadata": {
        "id": "OuOEB2A10Rah",
        "colab_type": "text"
      },
      "source": [
        "### 1.1. Instalação\n",
        "<a id='instalacao'></a>"
      ]
    },
    {
      "cell_type": "code",
      "metadata": {
        "id": "_HXuie4y43tN",
        "colab_type": "code",
        "colab": {}
      },
      "source": [
        "!pip install pandas -U\n",
        "!pip install scikit-learn -U\n",
        "!pip install numpy -U\n",
        "!pip install joblib==0.14.1"
      ],
      "execution_count": 0,
      "outputs": []
    },
    {
      "cell_type": "markdown",
      "metadata": {
        "id": "D_S-Ua3YeLmS",
        "colab_type": "text"
      },
      "source": [
        "### 1.2. Importação\n",
        "<a id='importacao'></a>"
      ]
    },
    {
      "cell_type": "code",
      "metadata": {
        "id": "vXKQdGE-KNqI",
        "colab_type": "code",
        "colab": {}
      },
      "source": [
        "import pandas as pd\n",
        "import numpy as np\n",
        "from sklearn.base import TransformerMixin\n",
        "from sklearn.pipeline import Pipeline"
      ],
      "execution_count": 0,
      "outputs": []
    },
    {
      "cell_type": "code",
      "metadata": {
        "id": "4fDskXdweAA6",
        "colab_type": "code",
        "colab": {}
      },
      "source": [
        "import pandas as pd\n",
        "import numpy as np\n",
        "\n",
        "#Persistência em disco\n",
        "import joblib\n",
        "import pickle\n",
        "\n",
        "#Visualização\n",
        "import seaborn as sns\n",
        "import matplotlib.pyplot as plt\n",
        "\n",
        "#Transformadores e Modelador\n",
        "from sklearn.pipeline          import Pipeline\n",
        "from sklearn.base              import BaseEstimator, TransformerMixin\n",
        "\n",
        "#Selecao de modelo\n",
        "from sklearn.model_selection   import train_test_split\n",
        "from sklearn.model_selection   import KFold\n",
        "from sklearn.model_selection   import cross_val_score\n",
        "from sklearn.model_selection   import GridSearchCV\n",
        "from sklearn.feature_selection import SelectKBest, f_classif\n",
        "from sklearn.feature_selection import chi2\n",
        "\n",
        "#modo não-perturbe\n",
        "import warnings\n",
        "warnings.filterwarnings(\"ignore\")"
      ],
      "execution_count": 0,
      "outputs": []
    },
    {
      "cell_type": "markdown",
      "metadata": {
        "id": "EXnFYbxV75Np",
        "colab_type": "text"
      },
      "source": [
        "##2. Classe\n",
        "<a id='classe'></a>\n"
      ]
    },
    {
      "cell_type": "markdown",
      "metadata": {
        "id": "I4WG5ZVa9Abp",
        "colab_type": "text"
      },
      "source": [
        "Classe para realizar a geração de dados genéricos"
      ]
    },
    {
      "cell_type": "code",
      "metadata": {
        "id": "3sfmYXZd8MuV",
        "colab_type": "code",
        "colab": {}
      },
      "source": [
        "class geraDadosGenericos(TransformerMixin):  \n",
        "  def __init__(self, carga):\n",
        "    self.carga = carga\n",
        "\n",
        "\t#nao irei fazer nenhum treinamento\t\n",
        "  def fit(self, X, y = None):\n",
        "    return self    \n",
        "\n",
        "  #-------------------------funcoes de geracao de dados da classe---------------------------------\n",
        "\n",
        "  def filtraSituacoes(self, df_notas):\n",
        "    #conversao para string\n",
        "    df_notas['matricula'] = df_notas['matricula'].astype(str)\n",
        "    df_notas['periodo']   = df_notas['periodo'].astype(str)\n",
        "\n",
        "    #substitui todas as situacoes de reprovado e aprovado para ser apenas um tipo\n",
        "    df_notas.loc[df_notas['situacao'].str.contains('REPROVADO'), 'situacao'] = 'REPROVADO'\n",
        "    df_notas.loc[df_notas['situacao'].str.contains('APROVADO'), 'situacao']  = 'APROVADO'\n",
        "\n",
        "    #seleciona as situacoes de interesse que são aprovados e reprovados\n",
        "    df_notas = df_notas.loc[(df_notas['situacao'].str.contains('APROVADO')) |\n",
        "                            (df_notas['situacao'].str.contains('REPROVADO')) \n",
        "                          ] \t\n",
        "    #tem disciplina que só contam para a horas complementares, não tem nota\n",
        "    df_notas = df_notas.loc[ ~(df_notas['nota'].str.contains('-')), :]\n",
        "\n",
        "    #conversao para de string para float\n",
        "    df_notas['nota'] = df_notas['nota'].astype(float)\n",
        "    return df_notas\n",
        "\n",
        "\n",
        "  def converteString(self, df_notas):\n",
        "    df_notas['periodo']   = df_notas['periodo'].astype(str)\n",
        "    return df_notas\n",
        "\n",
        "\n",
        "  def concatenaSemestre(self, df_notas):\n",
        "    #pega o ano mais alto que tem na matricula, indicando o semestre do df\n",
        "    ano_df = df_notas['matricula'].str[0:4].max()\n",
        "    df_notas['semestre'] = str(ano_df) + '.' + str(df_notas['periodo'].iloc[0])\n",
        "    #apagando a coluna periodo, nao serve mais\n",
        "    df_notas.drop(columns = ['periodo'], inplace=True)\n",
        "    #conversao para float\n",
        "    df_notas['semestre'] = df_notas['semestre'].astype(float)\n",
        "    df_notas['matricula'] = df_notas['matricula'].astype(int)\n",
        "    return df_notas\n",
        "\n",
        "  #adiciona quanto tempo o estudante esta com a matricula vingente \n",
        "  def anosMatriculado(self, df_notas): \n",
        "    df_notas['matricula'] = df_notas['matricula'].astype(str)\n",
        "    df_notas['anoIngresso'] = df_notas['matricula'].str[0:4]\n",
        "    df_notas['anoIngresso'] = df_notas['anoIngresso'].astype(float)\n",
        "    df_notas['semestre'] = df_notas['semestre'].astype(float)\n",
        "    df_notas['anosMatriculado'] = df_notas['semestre'] - df_notas['anoIngresso']\n",
        "    df_notas['anosMatriculado'] = df_notas['anosMatriculado'].astype(int)\n",
        "    return df_notas    \n",
        "\n",
        "\n",
        "  #essa função vai criar as novas features com o desempenho do aluno no semestre \n",
        "  def geraFeaturesComDadosGenericos(self, df_notas):\n",
        "    df_notas = df_notas.merge(self.carga, on = 'codigo')\n",
        "    df = pd.DataFrame()\n",
        "    final = pd.DataFrame()\n",
        "\n",
        "    #media das disciplinas\n",
        "    df = df_notas.groupby('matricula')['nota'].mean().reset_index()\n",
        "    df.rename(columns={'nota':'mediaNotas'}, inplace = True)\n",
        "    final = df\n",
        "\n",
        "    #menor nota\n",
        "    df = df_notas.groupby('matricula')['nota'].min().reset_index()\n",
        "    df.rename(columns = {'nota':'menorNota'}, inplace = True)\n",
        "    final = final.merge(df, on = 'matricula', how = 'outer')\n",
        "\n",
        "    #maior nota\n",
        "    df = df_notas.groupby('matricula')['nota'].max().reset_index()\n",
        "    df.rename(columns = {'nota':'maiorNota'}, inplace = True)\n",
        "    final = final.merge(df, on = 'matricula', how = 'outer')\n",
        "\n",
        "    #quantidade de disciplinas cursadas\n",
        "    df = df_notas.groupby('matricula')['codigo'].count().reset_index()\n",
        "    df.rename(columns = {'codigo':'quantidadeDisciplinasCursadas'}, inplace=True)\n",
        "    final = final.merge(df, on = 'matricula', how = 'outer')\n",
        "\n",
        "    #quantidade de situacoes\n",
        "    df = df_notas.groupby(['matricula','situacao'])['codigo'].count().reset_index()\n",
        "    df.rename(columns = {'codigo':'quanSituacao'}, inplace = True)\n",
        "\n",
        "    #quantidade de situacoes em que houve aprovacao\n",
        "    aprovado = df.loc[df['situacao'] == 'APROVADO',:]\n",
        "    aprovado.rename(columns = {'quanSituacao':'quantidadeAprovacoes'}, inplace = True)\n",
        "    final = final.merge(aprovado, on = 'matricula', how = 'outer')\n",
        "\n",
        "    #quantidade de situacoes em que houve reprovacao\n",
        "    reprovado = df.loc[df['situacao'] == 'REPROVADO',:]\n",
        "    reprovado.rename(columns = {'quanSituacao':'quantidadeReprovacoes'}, inplace = True)\n",
        "    final = final.merge(reprovado, on = 'matricula', how = 'outer')\n",
        "    final = final.drop(['situacao_x', 'situacao_y'], axis = 1)\n",
        "\n",
        "    #media das aprovacoes\n",
        "    aprov = df_notas.loc[df_notas['situacao'] == 'APROVADO',:]\n",
        "    dfa = aprov.groupby(['matricula'])['nota'].mean().reset_index()\n",
        "    dfa.rename(columns = {'nota':'mediaAprovadas'}, inplace = True)\n",
        "    final = final.merge(dfa, on = 'matricula', how ='outer')\n",
        "\n",
        "    #media das reprovacoes\n",
        "    reprov = df_notas.loc[df_notas['situacao'] == 'REPROVADO',:]\n",
        "    dfr = reprov.groupby(['matricula'])['nota'].mean().reset_index()\n",
        "    dfr.rename(columns = {'nota':'mediaReprovadas'}, inplace = True)\n",
        "    final = final.merge(dfr, on = 'matricula', how ='outer')\n",
        "\n",
        "    #carga horaria total no semestre\n",
        "    df = df_notas.groupby('matricula')['ch_total'].sum().reset_index()\n",
        "    df.rename(columns = {'ch_total':'cargaHoraria'}, inplace = True)\n",
        "    final = final.merge(df, on = 'matricula', how = 'outer')\n",
        "\n",
        "    #substituindo valores nulos por 0\n",
        "    final = final.fillna(0)\n",
        "\n",
        "    #conversao de campos de objeto para inteiro\n",
        "    final['quantidadeAprovacoes']  = final['quantidadeAprovacoes'].astype(int)\n",
        "    final['quantidadeReprovacoes'] = final['quantidadeReprovacoes'].astype(int)\n",
        "\n",
        "    #Criando campo taxa de sucesso, que será a porcentagem de aprovações dado o total de disciplinas\n",
        "    final['taxaDeSucesso']  = np.divide(final['quantidadeAprovacoes'], final['quantidadeDisciplinasCursadas']) \n",
        "\n",
        "    #herdando o semestre\n",
        "    final['semestre'] = df_notas['semestre']\n",
        "\n",
        "    return final\n",
        "\n",
        "  #--------------------fim das funcoes de geracao de dados da classe-----------------------------------------\n",
        "\n",
        "\n",
        "  def transform(self, X, y = None):\n",
        "    #itera a lista\n",
        "    lista_df_notas = X.copy()\n",
        "    lista_df_generico = []\n",
        "    lista_notas = []\n",
        "    lista_de_listas = []\n",
        "    for df_notas in lista_df_notas:\n",
        "      df_notas = self.converteString(df_notas)\n",
        "      df_notas = self.filtraSituacoes(df_notas)\n",
        "      df_notas = self.concatenaSemestre(df_notas)\n",
        "      lista_notas.append(df_notas)\n",
        "      df_generico = self.geraFeaturesComDadosGenericos(df_notas)\n",
        "      df_generico = self.anosMatriculado(df_generico)\n",
        "      lista_df_generico.append(df_generico)\n",
        "\n",
        "    lista_de_listas.append(lista_df_generico)  \n",
        "    lista_de_listas.append(lista_notas)\n",
        "    return lista_de_listas"
      ],
      "execution_count": 0,
      "outputs": []
    },
    {
      "cell_type": "code",
      "metadata": {
        "id": "njU2Vn7mCflk",
        "colab_type": "code",
        "colab": {}
      },
      "source": [
        "class concatenaSemestrePassadoComResultadosDoAtual(TransformerMixin):\n",
        "  def __init__(self, data = None):\n",
        "    return data\n",
        "\n",
        "\t#nao irei fazer nenhum treinamento\t\n",
        "  def fit(self, X, y = None):\n",
        "    return self    \n",
        "\n",
        "  #--------------------------------- funcoes de transformacao da classe -----------------------------------------\n",
        "  def converteParaInt(self, df):\n",
        "    df['matricula'] = df['matricula'].astype(int)\n",
        "    return df\n",
        "\n",
        "\n",
        "  def transformacoesSemestreAntecessor(self, semestreAntecessor):\n",
        "    semestreAntecessor = self.converteParaInt(semestreAntecessor)\n",
        "    semestreAntecessor = semestreAntecessor.drop(columns = ['cargaHoraria','taxaDeSucesso','semestre'])\n",
        "    return semestreAntecessor\n",
        "\n",
        "\n",
        "  def transformacoesSemestreAtual(self, semestreAtual): \n",
        "    semestreAtual = self.converteParaInt(semestreAtual)\n",
        "    #seleciona os campos que vou precisar\n",
        "    semestreAtual = semestreAtual[['matricula','cargaHoraria','semestre','quantidadeDisciplinasCursadas','anosMatriculado']]\n",
        "    semestreAtual.rename(columns = {'cargaHoraria':\"cargaHorariaAtual\",\n",
        "                                    'quantidadeDisciplinasCursadas':'quantidadeDisciplinasAtuais',\n",
        "                                    'semestre':'semestreAtual'}, \n",
        "                                    inplace=True) \n",
        "    return semestreAtual\n",
        "\n",
        "\n",
        "  def transformacoesResultadoAtual(self, resultadoAtual):  \n",
        "    resultadoAtual = self.converteParaInt(resultadoAtual)\n",
        "    #seleciona os campos que vou precisar\n",
        "    resultadoAtual = resultadoAtual[['codigo','matricula','siape','situacao']]\n",
        "    #cria campo vezes reprovado\n",
        "    resultadoAtual[\"vezesReprovado\"] = 0\n",
        "    return resultadoAtual\n",
        "\n",
        "\n",
        "  def mergeTriploTabelas(self, semestreAntecessor, semestreAtual, resultadoAtual):\n",
        "    dfCompleto = pd.merge(pd.merge(semestreAntecessor, resultadoAtual, on = 'matricula'), \n",
        "                          semestreAtual.drop(columns = ['anosMatriculado']), \n",
        "                          on = 'matricula')\n",
        "    return dfCompleto\n",
        "\n",
        "\n",
        "  def insereVerificaReprovacoes(self, dfCompleto, df_teste):\n",
        "    #df temporario para armazenar as consultas com resultados iguais\n",
        "    dftemporario = pd.DataFrame()\n",
        "    #itera na lista de notas para achar se o aluno ja reprovou em um semestre anterior ao atual\n",
        "    for df in df_teste[1]:\n",
        "      #se eh anterior ao atual semestre\n",
        "      if dfCompleto['semestreAtual'].max() > df['semestre'].max():\n",
        "        #vou juntar onde no passado do aluno ele cursou a disiciplina para verificar se ele ja foi reprovado, \n",
        "        #se aparecer um caso é porque ele ja pagou a disciplina antes, e consequentemente já reprovou\n",
        "        merge = pd.merge(dfCompleto[['matricula','codigo','vezesReprovado']], df[['matricula','codigo']], \n",
        "                        on = ['matricula','codigo'], how = 'inner')\n",
        "        #todas as iterações que cumprirem o criterio são acumuladas no df\n",
        "        dftemporario = pd.concat([dftemporario,merge])\n",
        "    #agrupa por disciplina, para caso tenha mais de uma reprovacao ele contar. Armazena o valor em vezesReprovado    \n",
        "    dftemporario = dftemporario.groupby(['matricula','codigo'])['vezesReprovado'].count().reset_index().sort_values(by = 'matricula')\n",
        "    #junta ao df do semestre atual onde tem o mesmo codigo e a matricula, e junta com outer para manter quando nao tiver reprovacao\n",
        "    dftemporario = pd.merge(dfCompleto.drop(columns = ['vezesReprovado']), dftemporario, on = ['matricula','codigo'], how = 'outer')\n",
        "    #substitui onde tiver NaN por 0\n",
        "    dftemporario.fillna(0, inplace = True) \n",
        "    #converter de float para inteiro para ficar mais agradavel\n",
        "    dftemporario['vezesReprovado'] = dftemporario['vezesReprovado'].astype(int)\n",
        "    return dftemporario\n",
        "\n",
        "  def concatena(self, lista):\n",
        "    df = pd.DataFrame()\n",
        "    for i in lista:\n",
        "      df = pd.concat([df,i])\n",
        "    return df.reset_index().drop(columns = ['index'])\n",
        "\n",
        "  #--------------------------------------------------------fim----------------------------------------------------------------------\n",
        "\n",
        "  def transform(self, X, y = None):\n",
        "    df_nota_generico = X.copy()\n",
        "    lista_df_completos = []\n",
        "    for i in range (len(df_nota_generico[0]) - 1):\n",
        "      semestreAntecessor = df_nota_generico[0][i]\n",
        "      semestreAtual = df_nota_generico[0][i+1]\n",
        "      resultadoAtual = df_nota_generico[1][i+1]\n",
        "      semestreAntecessor = self.transformacoesSemestreAntecessor(semestreAntecessor)\n",
        "      semestreAtual = self.transformacoesSemestreAtual(semestreAtual)\n",
        "      resultadoAtual = self.transformacoesResultadoAtual(resultadoAtual)\n",
        "      #juntando tabelas\n",
        "      dfCompleto = self.mergeTriploTabelas(semestreAntecessor, semestreAtual, resultadoAtual)\n",
        "      #envia a tabela com o resultado atual e os dados genericos do semestre anterior, e todos os resultados\n",
        "      #verifica se nos semestres anteriores o aluno ja pagou essa disciplina, consequentemente, ja reprovou nela\n",
        "      resultado = self.insereVerificaReprovacoes(dfCompleto, df_nota_generico)\n",
        "      #adiciona o df do semestre a cada iteracao\n",
        "      lista_df_completos.append(resultado)\n",
        "    #concatena todos os semestres para retornar 1 so df\n",
        "    return self.concatena(lista_df_completos)"
      ],
      "execution_count": 0,
      "outputs": []
    },
    {
      "cell_type": "markdown",
      "metadata": {
        "id": "ZGHrISEE_B3_",
        "colab_type": "text"
      },
      "source": [
        "##3. Funções\n",
        "<a id='funcoes'></a>"
      ]
    },
    {
      "cell_type": "markdown",
      "metadata": {
        "id": "3BUSGqrsC9BC",
        "colab_type": "text"
      },
      "source": [
        "Função que usa GridSearch para avaliar o melhor modelo disponível, retornar estatísticas dos resultados e persistir em disco os modelos gerados"
      ]
    },
    {
      "cell_type": "code",
      "metadata": {
        "id": "UzilKddz_HWM",
        "colab_type": "code",
        "colab": {}
      },
      "source": [
        "def selecionaDisciplinasECT(df):\n",
        "  disciplinasECT = df.loc[df['codigo'].str.contains(''), :]\n",
        "  #caso para pegar apenas os 4 primeiros semestres\n",
        "  #disciplinasECT = df.loc[df['codigo'].str.contains('ECT22') | df['codigo'].str.contains('ECT23') | df['codigo'].str.contains('ECT24'),:]\n",
        "  return disciplinasECT"
      ],
      "execution_count": 0,
      "outputs": []
    },
    {
      "cell_type": "markdown",
      "metadata": {
        "id": "dD1-lyVuizPA",
        "colab_type": "text"
      },
      "source": [
        "##4. Leitura das Bases\n",
        "<a id='leiturabase'></a>"
      ]
    },
    {
      "cell_type": "markdown",
      "metadata": {
        "id": "DHx3s-NSKug_",
        "colab_type": "text"
      },
      "source": [
        "Urls das notas e da carga horária"
      ]
    },
    {
      "cell_type": "code",
      "metadata": {
        "id": "8soTzGZeKzlS",
        "colab_type": "code",
        "colab": {}
      },
      "source": [
        "notas_url = [\n",
        "             'https://raw.githubusercontent.com/repitta/CienciaDeDadosEducacionais/master/dadosUFRN/notas_discentes_2015.1.csv',\n",
        "             'https://raw.githubusercontent.com/repitta/CienciaDeDadosEducacionais/master/dadosUFRN/notas_discentes_2015.2.csv',\n",
        "             'https://raw.githubusercontent.com/repitta/CienciaDeDadosEducacionais/master/dadosUFRN/notas_discentes_2016.1.csv',\n",
        "             'https://raw.githubusercontent.com/repitta/CienciaDeDadosEducacionais/master/dadosUFRN/notas_discentes_2016.2.csv',\n",
        "             'https://raw.githubusercontent.com/repitta/CienciaDeDadosEducacionais/master/dadosUFRN/notas_discentes_2017.1.csv',\n",
        "             'https://raw.githubusercontent.com/repitta/CienciaDeDadosEducacionais/master/dadosUFRN/notas_discentes_2017.2.csv',\n",
        "             'https://raw.githubusercontent.com/repitta/CienciaDeDadosEducacionais/master/dadosUFRN/notas_discentes_2018.1.csv',\n",
        "             'https://raw.githubusercontent.com/repitta/CienciaDeDadosEducacionais/master/dadosUFRN/notas_discentes_2018.2.csv',\n",
        "             'https://raw.githubusercontent.com/repitta/CienciaDeDadosEducacionais/master/dadosUFRN/notas_discentes_2019.1.csv',\n",
        "             'https://raw.githubusercontent.com/repitta/CienciaDeDadosEducacionais/master/dadosUFRN/notas_discentes_2019.2.csv'\n",
        "            ]\n",
        "carga_horaria = 'http://dados.ufrn.br/dataset/3fea67e8-6916-4ed0-aaa6-9a8ca06a9bdc/resource/9a3521d2-4bc5-4fda-93f0-f701c8a20727/download/componentes-curriculares-presenciais.csv'"
      ],
      "execution_count": 0,
      "outputs": []
    },
    {
      "cell_type": "markdown",
      "metadata": {
        "id": "2oZD8IeLLqN2",
        "colab_type": "text"
      },
      "source": [
        "Lendo como DataFrame"
      ]
    },
    {
      "cell_type": "code",
      "metadata": {
        "id": "sKkNAEhzLpAu",
        "colab_type": "code",
        "colab": {}
      },
      "source": [
        "col = [\"periodo\",\"codigo\",\"disciplina\",\"turma\",\"siape\",\"horario\",\"matricula\",\"nota\",\"situacao\"]\n",
        "notas2015_1 = pd.read_csv(notas_url[0], sep=';', encoding = \"ISO-8859-1\", skiprows = 7, names=col, index_col=False)\n",
        "notas2015_2 = pd.read_csv(notas_url[1], sep=';', encoding = \"ISO-8859-1\", skiprows = 7, names=col, index_col=False)\n",
        "notas2016_1 = pd.read_csv(notas_url[2], sep=';', encoding = \"ISO-8859-1\", skiprows = 7, names=col, index_col=False)\n",
        "notas2016_2 = pd.read_csv(notas_url[3], sep=';', encoding = \"ISO-8859-1\", skiprows = 7, names=col, index_col=False)\n",
        "notas2017_1 = pd.read_csv(notas_url[4], sep=';', encoding = \"ISO-8859-1\", skiprows = 7, names=col, index_col=False)\n",
        "notas2017_2 = pd.read_csv(notas_url[5], sep=';', encoding = \"ISO-8859-1\", skiprows = 7, names=col, index_col=False)\n",
        "notas2018_1 = pd.read_csv(notas_url[6], sep=';', encoding = \"ISO-8859-1\", skiprows = 7, names=col, index_col=False)\n",
        "notas2018_2 = pd.read_csv(notas_url[7], sep=';', encoding = \"ISO-8859-1\", skiprows = 7, names=col, index_col=False)\n",
        "notas2019_1 = pd.read_csv(notas_url[8], sep=';', encoding = \"ISO-8859-1\", skiprows = 7, names=col, index_col=False)\n",
        "#notas2019_2 = pd.read_csv(notas_url[9], sep=';', encoding = \"ISO-8859-1\", skiprows = 7, names=col, index_col=False)\n",
        "\n",
        "carga = pd.read_csv(carga_horaria, sep=\";\")\n",
        "carga = carga[[\"codigo\",\"ch_total\"]]"
      ],
      "execution_count": 0,
      "outputs": []
    },
    {
      "cell_type": "markdown",
      "metadata": {
        "id": "Hra4Ho4IC0Xu",
        "colab_type": "text"
      },
      "source": [
        "#Parte III - Desenvolvimento\n",
        "<a id='enten_dados'></a>\n"
      ]
    },
    {
      "cell_type": "markdown",
      "metadata": {
        "id": "hfeOFonftzic",
        "colab_type": "text"
      },
      "source": [
        "## 1. Entendimento de Negócio\n",
        "<a id='negocio'></a>\n",
        "\n",
        "#### ● Determinar objetivos de Negócio\n",
        "#### ● Estabelecer Critérios de Sucesso da Iniciativa\n",
        "#### ● Análise do contexto: terminologia, benefício, riscos e plano de contingência\n",
        "#### ● Determinar objetivos de Mineração de Dados\n",
        "#### ● Plano do Projeto\n"
      ]
    },
    {
      "cell_type": "markdown",
      "metadata": {
        "id": "-n4co8p2EeaU",
        "colab_type": "text"
      },
      "source": [
        "## 2. Entendimento dos Dados Primários\n",
        "<a id='enten_dados'></a>\n",
        "\n",
        "### [2.1 Descrição dos Dados Primários](#descricao)\n",
        "### [2.2 Qualidade dos Dados Primários](#qualidade)\n",
        "### [2.3 Exploração dos Dados Primários](#exploracao)"
      ]
    },
    {
      "cell_type": "markdown",
      "metadata": {
        "id": "HEVg1VCYEhUd",
        "colab_type": "text"
      },
      "source": [
        "###2.1 Descrição dos Dados Primários\n",
        "<a id='descricao'></a>\n"
      ]
    },
    {
      "cell_type": "markdown",
      "metadata": {
        "id": "L1HZgOL4pQfu",
        "colab_type": "text"
      },
      "source": [
        "#### <center>Dados dos Daframes de Notas:\n",
        "| Semestre | Número de atributos (colunas) | Número de Registros (linhas) |\n",
        "| --- | --- | --- |\n",
        "| 2015.1 | 9 | --- |\n",
        "| 2015.2 | 9 | |\n",
        "| 2016.1 | 9 | |\n",
        "| 2016.2 | 9 | |\n",
        "| 2017.1 | 9 | |\n",
        "| 2017.2 | 9 | |\n",
        "| 2018.1 | 9 | |\n",
        "| 2018.2 | 9 | |\n",
        "| 2019.1 | 9 | |\n",
        "\n",
        "\n",
        "#### <center>Dados do Dataframe de Carga Horária:\n",
        "| Número de atributos (colunas) | Número de Registros (linhas) |\n",
        "| --- | --- |\n",
        "| 2 | 39269 |\n",
        "\n",
        "\n",
        "\n",
        "\n",
        "####Descrição de Colunas do Dataframe de Notas:\n",
        "\n",
        "<font color='blue'> <b>1. periodo</b> </font> Período em que a disciplina foi cursada (.1 ou .2)\n",
        "\n",
        "<font color='blue'> <b>2. codigo</b> </font> Código de todas as disciplinas na UFRN\n",
        "\n",
        "<font color='blue'> <b>3. disciplina</b> </font> Nome da discplina \n",
        "\n",
        "<font color='blue'> <b>4. turma</b> </font> Código da turma\n",
        "\n",
        "<font color='blue'> <b>5. siape</b> </font> Código que identifica o professor que ministrou a disciplina\n",
        "\n",
        "<font color='blue'> <b>6. horario</b> </font> Horário e intervalo de datas em que a disciplina foi ministrada\n",
        "\n",
        "<font color='blue'> <b>7. Matrícula</b> </font> Código identificador do estudante\n",
        "\n",
        "<font color='blue'> <b>8. Nota</b> </font> Nota do estudante na disciplina\n",
        "\n",
        "#### Coluna Alvo\n",
        "<font color='red'> <b>9. Situação</b> </font> Estato final na disciplina\n",
        "\n",
        "####Descrição de Colunas do Dataframe de Notas:\n",
        "\n",
        "<font color='blue'> <b>1. Código</b> </font> Código da disciplina\n",
        "\n",
        "<font color='blue'> <b>2. Ch_total</b> </font> Carga Hóraria da displina\n",
        "\n",
        "-------------------------------------------------------------------------------\n",
        "\n",
        "Os Dataframes contêm todos os departamentos da UFRN. Por enquanto o foco do trabalho está em prever o ciclo básico da ECT. Mais na frente será feito uma seleção afim de escolher apenas matérias da ECT.\n",
        "\n"
      ]
    },
    {
      "cell_type": "markdown",
      "metadata": {
        "id": "XvoPlLK6tqOm",
        "colab_type": "text"
      },
      "source": [
        "Exemplos de registros nos 2 tipos de DataFrames"
      ]
    },
    {
      "cell_type": "code",
      "metadata": {
        "id": "FGNZ4TPSO-6l",
        "colab_type": "code",
        "colab": {}
      },
      "source": [
        "notas2018_1.sample(10)"
      ],
      "execution_count": 0,
      "outputs": []
    },
    {
      "cell_type": "code",
      "metadata": {
        "id": "PDAIFmZ2PBbR",
        "colab_type": "code",
        "colab": {}
      },
      "source": [
        "carga.head(2)"
      ],
      "execution_count": 0,
      "outputs": []
    },
    {
      "cell_type": "markdown",
      "metadata": {
        "id": "5Vy3MCOgF_iz",
        "colab_type": "text"
      },
      "source": [
        "###2.2 Qualidade dos Dados Primários\n",
        "<a id='qualidade'></a>"
      ]
    },
    {
      "cell_type": "markdown",
      "metadata": {
        "id": "F21BiOCQ5SX6",
        "colab_type": "text"
      },
      "source": [
        "Total 489 disciplinas realizadas na UFRN no semestre 15.1"
      ]
    },
    {
      "cell_type": "code",
      "metadata": {
        "id": "PexNmJ6G5ZMn",
        "colab_type": "code",
        "colab": {}
      },
      "source": [
        "notas2015_1.groupby('codigo')['nome'].count()"
      ],
      "execution_count": 0,
      "outputs": []
    },
    {
      "cell_type": "markdown",
      "metadata": {
        "id": "xaf-SuwLvot-",
        "colab_type": "text"
      },
      "source": [
        "Informações sobre valores não nulos, total de registros de todos as bases de dados\n",
        "\n",
        "Em quase todos os dataframes das notas não contêm valores nulos, com excessão de 16.2, 18.2 e 19.1, onde estão faltando em cada 3 valores correspondentes aos horários das displinas. Ou seja, temos dataframes consistentes\n",
        "\n",
        "No dataframe de cargas horárias também temos consistência"
      ]
    },
    {
      "cell_type": "code",
      "metadata": {
        "id": "WWWZWzcbuw0S",
        "colab_type": "code",
        "colab": {}
      },
      "source": [
        "notas2015_1.info()"
      ],
      "execution_count": 0,
      "outputs": []
    },
    {
      "cell_type": "code",
      "metadata": {
        "id": "5AyStLAswPQp",
        "colab_type": "code",
        "colab": {}
      },
      "source": [
        "notas2015_2.info()"
      ],
      "execution_count": 0,
      "outputs": []
    },
    {
      "cell_type": "code",
      "metadata": {
        "id": "I-vivN1-z6Vk",
        "colab_type": "code",
        "colab": {}
      },
      "source": [
        "notas2016_1.info()"
      ],
      "execution_count": 0,
      "outputs": []
    },
    {
      "cell_type": "code",
      "metadata": {
        "id": "swd1rW9F0C_t",
        "colab_type": "code",
        "colab": {}
      },
      "source": [
        "notas2016_2.info()"
      ],
      "execution_count": 0,
      "outputs": []
    },
    {
      "cell_type": "code",
      "metadata": {
        "id": "Tr2Qcuy80GEy",
        "colab_type": "code",
        "colab": {}
      },
      "source": [
        "notas2017_1.info()"
      ],
      "execution_count": 0,
      "outputs": []
    },
    {
      "cell_type": "code",
      "metadata": {
        "id": "JV5co9wu08wf",
        "colab_type": "code",
        "colab": {}
      },
      "source": [
        "notas2017_2.info()"
      ],
      "execution_count": 0,
      "outputs": []
    },
    {
      "cell_type": "code",
      "metadata": {
        "id": "C__VuJ7T0Mo4",
        "colab_type": "code",
        "colab": {}
      },
      "source": [
        "notas2018_1.info()"
      ],
      "execution_count": 0,
      "outputs": []
    },
    {
      "cell_type": "code",
      "metadata": {
        "id": "2S63BiQG1bmH",
        "colab_type": "code",
        "colab": {}
      },
      "source": [
        "notas2018_2.info()"
      ],
      "execution_count": 0,
      "outputs": []
    },
    {
      "cell_type": "code",
      "metadata": {
        "id": "b5Q343re1kr5",
        "colab_type": "code",
        "colab": {}
      },
      "source": [
        "notas2019_1.info()"
      ],
      "execution_count": 0,
      "outputs": []
    },
    {
      "cell_type": "code",
      "metadata": {
        "id": "JyvSKOiU3tMc",
        "colab_type": "code",
        "colab": {}
      },
      "source": [
        "carga.info()"
      ],
      "execution_count": 0,
      "outputs": []
    },
    {
      "cell_type": "markdown",
      "metadata": {
        "id": "TjeHFDBfwV5w",
        "colab_type": "text"
      },
      "source": [
        "###2.3 Exploração dos Dados Primários\n",
        "<a id='exploracao'></a>"
      ]
    },
    {
      "cell_type": "markdown",
      "metadata": {
        "id": "FRSYKSmFAC9t",
        "colab_type": "text"
      },
      "source": [
        "Temos várias situações disponíveis ao fim da matéria. Excluída, Trancada, Desistência, Indiferido e Cancelado não farão parte da nossa análise que busca apenas alunos que foram do começo ao fim da matéria.\n",
        "\n",
        "Todos os tipos de reprovação iram virar uma só, assim como às aprovações."
      ]
    },
    {
      "cell_type": "code",
      "metadata": {
        "id": "cljUAeYjwlsU",
        "colab_type": "code",
        "colab": {}
      },
      "source": [
        "notas2015_1['situacao'].unique()"
      ],
      "execution_count": 0,
      "outputs": []
    },
    {
      "cell_type": "markdown",
      "metadata": {
        "id": "R0TLpuhAPN3Y",
        "colab_type": "text"
      },
      "source": [
        "Vemos que existe disciplinas em que a nota média final foi '-'. Como pode?\n",
        "\n",
        "A primeira hipótese seria de que algúem zerou todas as unidades e saiu com nota 0, e o sistema colocaria '-' \n",
        "\n",
        "Descobri que existem disciplinas que contam apenas para carga horária complementar. Ou seja, não tem uma nota final para o estudante\n",
        "\n",
        "Além disso vemos que as notas estão em objeto (string), vai ser necessário a conversão para float"
      ]
    },
    {
      "cell_type": "code",
      "metadata": {
        "id": "EUFsVa_LOhXJ",
        "colab_type": "code",
        "colab": {}
      },
      "source": [
        "notas2015_1['nota'].unique()"
      ],
      "execution_count": 0,
      "outputs": []
    },
    {
      "cell_type": "markdown",
      "metadata": {
        "id": "r9S1wjjCuu89",
        "colab_type": "text"
      },
      "source": [
        "##3. Preparação dos Dados Primários\n",
        "<a id='preparo'></a>\n",
        "#### [3.1 Geração de Dados Genéricos](#geracao)\n",
        "#### [3.2. Concatenação dos Dados Genéricos do semestre anterior com o resultado da disciplina no semestre seguinte](#concatenacao)\n",
        "#### [3.3. Transformação usando Pipeline](#pipeline)"
      ]
    },
    {
      "cell_type": "markdown",
      "metadata": {
        "id": "niLSYCnGCHZQ",
        "colab_type": "text"
      },
      "source": [
        "### 3.1. Geração de Dados Genéricos\n",
        "<a id='geracao'></a>"
      ]
    },
    {
      "cell_type": "markdown",
      "metadata": {
        "id": "LQzNnic6n7Aw",
        "colab_type": "text"
      },
      "source": [
        "Adicionando os DF a uma lista para minimizar o número de linhas"
      ]
    },
    {
      "cell_type": "code",
      "metadata": {
        "id": "PuPFoSjMvBNL",
        "colab_type": "code",
        "colab": {}
      },
      "source": [
        "lista_df_notas = [notas2015_1, notas2015_2, notas2016_1, notas2016_2 , notas2017_1, notas2017_2, notas2018_1, notas2018_2, notas2019_1]"
      ],
      "execution_count": 0,
      "outputs": []
    },
    {
      "cell_type": "code",
      "metadata": {
        "id": "bM9UtXE7kf6U",
        "colab_type": "code",
        "colab": {}
      },
      "source": [
        "lista_df_notas[-1].iloc[:2,1:]"
      ],
      "execution_count": 0,
      "outputs": []
    },
    {
      "cell_type": "code",
      "metadata": {
        "id": "4aA4ij7PQVRN",
        "colab_type": "code",
        "outputId": "2d096855-6afd-49f8-8c3c-7f3d89f6316f",
        "colab": {
          "base_uri": "https://localhost:8080/",
          "height": 308
        }
      },
      "source": [
        "lista_df_notas[-1].info()"
      ],
      "execution_count": 25,
      "outputs": [
        {
          "output_type": "stream",
          "text": [
            "<class 'pandas.core.frame.DataFrame'>\n",
            "RangeIndex: 20620 entries, 0 to 20619\n",
            "Data columns (total 9 columns):\n",
            " #   Column      Non-Null Count  Dtype \n",
            "---  ------      --------------  ----- \n",
            " 0   periodo     20620 non-null  int64 \n",
            " 1   codigo      20620 non-null  object\n",
            " 2   disciplina  20620 non-null  object\n",
            " 3   turma       20620 non-null  object\n",
            " 4   siape       20620 non-null  object\n",
            " 5   horario     20617 non-null  object\n",
            " 6   matricula   20620 non-null  int64 \n",
            " 7   nota        20620 non-null  object\n",
            " 8   situacao    20620 non-null  object\n",
            "dtypes: int64(2), object(7)\n",
            "memory usage: 1.4+ MB\n"
          ],
          "name": "stdout"
        }
      ]
    },
    {
      "cell_type": "markdown",
      "metadata": {
        "id": "fxYVhWBHcWTJ",
        "colab_type": "text"
      },
      "source": [
        "A idéia de geração dos dados genéricos é a seguinte"
      ]
    },
    {
      "cell_type": "markdown",
      "metadata": {
        "id": "5-NLJxgXqV6J",
        "colab_type": "text"
      },
      "source": [
        "Passos de transformação de dados\n",
        "\n",
        "* primeiro\n",
        "* segundo"
      ]
    },
    {
      "cell_type": "markdown",
      "metadata": {
        "id": "EULg4DUhCV9f",
        "colab_type": "text"
      },
      "source": [
        "Classe para realizar transformação nos Dados\n",
        "\n",
        "Ela será no formato sugerido pela Sklearn para ser compatível com pipelines"
      ]
    },
    {
      "cell_type": "markdown",
      "metadata": {
        "id": "jURJ5OCjcmCY",
        "colab_type": "text"
      },
      "source": [
        "\n",
        "serao 2 classes de transformacao nesse notebook. A que treina os modelos é a proxima\n",
        "\n",
        "depois o próximo passo é concatenar o dataframe antecedente com o resultado na materia do semestre seguinte \n",
        "\n",
        "\n",
        "bagunça.com\n",
        "Função para concatenar o antecedente com a situação em matéria posterior\n",
        "def concatenaAntecessoresComResultadoPosterior(tableAntecedente,tableAtual,situacaoPosterior,final,flag):\n",
        "\n"
      ]
    },
    {
      "cell_type": "markdown",
      "metadata": {
        "id": "o3cUT5oWoZdo",
        "colab_type": "text"
      },
      "source": [
        "Vai retornar uma lista de listas, onde vai ser uma com os dados genericos e a outra com as notas contendo todas as transformações antes da geração de dados genéricos"
      ]
    },
    {
      "cell_type": "code",
      "metadata": {
        "id": "EaQLvUitw6ha",
        "colab_type": "code",
        "outputId": "3a7d3c79-aba3-4ddc-ddf7-aa34a9a93295",
        "colab": {
          "base_uri": "https://localhost:8080/",
          "height": 108
        }
      },
      "source": [
        "df_nota_generico[1][0].iloc[:,:-3].head(2)"
      ],
      "execution_count": 28,
      "outputs": [
        {
          "output_type": "execute_result",
          "data": {
            "text/html": [
              "<div>\n",
              "<style scoped>\n",
              "    .dataframe tbody tr th:only-of-type {\n",
              "        vertical-align: middle;\n",
              "    }\n",
              "\n",
              "    .dataframe tbody tr th {\n",
              "        vertical-align: top;\n",
              "    }\n",
              "\n",
              "    .dataframe thead th {\n",
              "        text-align: right;\n",
              "    }\n",
              "</style>\n",
              "<table border=\"1\" class=\"dataframe\">\n",
              "  <thead>\n",
              "    <tr style=\"text-align: right;\">\n",
              "      <th></th>\n",
              "      <th>codigo</th>\n",
              "      <th>disciplina</th>\n",
              "      <th>turma</th>\n",
              "      <th>siape</th>\n",
              "      <th>horario</th>\n",
              "      <th>matricula</th>\n",
              "    </tr>\n",
              "  </thead>\n",
              "  <tbody>\n",
              "    <tr>\n",
              "      <th>0</th>\n",
              "      <td>DEM0304</td>\n",
              "      <td>TERMODINAMICA BASICA</td>\n",
              "      <td>01</td>\n",
              "      <td>1753416-1,2154326-9</td>\n",
              "      <td>24T56</td>\n",
              "      <td>2014057205</td>\n",
              "    </tr>\n",
              "    <tr>\n",
              "      <th>6</th>\n",
              "      <td>ECT2106</td>\n",
              "      <td>CIÊNCIA, TECNOLOGIA E SOCIEDADE</td>\n",
              "      <td>04</td>\n",
              "      <td>1051570-6</td>\n",
              "      <td>4N12 (02/02/2015 - 20/06/2015)</td>\n",
              "      <td>2015000889</td>\n",
              "    </tr>\n",
              "  </tbody>\n",
              "</table>\n",
              "</div>"
            ],
            "text/plain": [
              "    codigo  ...   matricula\n",
              "0  DEM0304  ...  2014057205\n",
              "6  ECT2106  ...  2015000889\n",
              "\n",
              "[2 rows x 6 columns]"
            ]
          },
          "metadata": {
            "tags": []
          },
          "execution_count": 28
        }
      ]
    },
    {
      "cell_type": "code",
      "metadata": {
        "id": "QQEc7Dqv809k",
        "colab_type": "code",
        "outputId": "940bfd47-c407-4601-dd43-7731f94be047",
        "colab": {
          "base_uri": "https://localhost:8080/",
          "height": 158
        }
      },
      "source": [
        "df_nota_generico[0][3].head(3)"
      ],
      "execution_count": 29,
      "outputs": [
        {
          "output_type": "execute_result",
          "data": {
            "text/html": [
              "<div>\n",
              "<style scoped>\n",
              "    .dataframe tbody tr th:only-of-type {\n",
              "        vertical-align: middle;\n",
              "    }\n",
              "\n",
              "    .dataframe tbody tr th {\n",
              "        vertical-align: top;\n",
              "    }\n",
              "\n",
              "    .dataframe thead th {\n",
              "        text-align: right;\n",
              "    }\n",
              "</style>\n",
              "<table border=\"1\" class=\"dataframe\">\n",
              "  <thead>\n",
              "    <tr style=\"text-align: right;\">\n",
              "      <th></th>\n",
              "      <th>matricula</th>\n",
              "      <th>mediaNotas</th>\n",
              "      <th>menorNota</th>\n",
              "      <th>maiorNota</th>\n",
              "      <th>quantidadeDisciplinasCursadas</th>\n",
              "      <th>quantidadeAprovacoes</th>\n",
              "      <th>quantidadeReprovacoes</th>\n",
              "      <th>mediaAprovadas</th>\n",
              "      <th>mediaReprovadas</th>\n",
              "      <th>cargaHoraria</th>\n",
              "      <th>taxaDeSucesso</th>\n",
              "      <th>semestre</th>\n",
              "      <th>anoIngresso</th>\n",
              "      <th>anosMatriculado</th>\n",
              "    </tr>\n",
              "  </thead>\n",
              "  <tbody>\n",
              "    <tr>\n",
              "      <th>0</th>\n",
              "      <td>2009028457</td>\n",
              "      <td>2.733333</td>\n",
              "      <td>0.0</td>\n",
              "      <td>5.6</td>\n",
              "      <td>3</td>\n",
              "      <td>1</td>\n",
              "      <td>2</td>\n",
              "      <td>5.600000</td>\n",
              "      <td>1.3</td>\n",
              "      <td>180</td>\n",
              "      <td>0.333333</td>\n",
              "      <td>2016.2</td>\n",
              "      <td>2009.0</td>\n",
              "      <td>7</td>\n",
              "    </tr>\n",
              "    <tr>\n",
              "      <th>1</th>\n",
              "      <td>2009030796</td>\n",
              "      <td>6.225000</td>\n",
              "      <td>0.5</td>\n",
              "      <td>9.1</td>\n",
              "      <td>4</td>\n",
              "      <td>3</td>\n",
              "      <td>1</td>\n",
              "      <td>8.133333</td>\n",
              "      <td>0.5</td>\n",
              "      <td>210</td>\n",
              "      <td>0.750000</td>\n",
              "      <td>2016.2</td>\n",
              "      <td>2009.0</td>\n",
              "      <td>7</td>\n",
              "    </tr>\n",
              "    <tr>\n",
              "      <th>2</th>\n",
              "      <td>2009031954</td>\n",
              "      <td>2.940000</td>\n",
              "      <td>1.3</td>\n",
              "      <td>5.9</td>\n",
              "      <td>5</td>\n",
              "      <td>1</td>\n",
              "      <td>4</td>\n",
              "      <td>5.900000</td>\n",
              "      <td>2.2</td>\n",
              "      <td>300</td>\n",
              "      <td>0.200000</td>\n",
              "      <td>2016.2</td>\n",
              "      <td>2009.0</td>\n",
              "      <td>7</td>\n",
              "    </tr>\n",
              "  </tbody>\n",
              "</table>\n",
              "</div>"
            ],
            "text/plain": [
              "    matricula  mediaNotas  menorNota  ...  semestre  anoIngresso  anosMatriculado\n",
              "0  2009028457    2.733333        0.0  ...    2016.2       2009.0                7\n",
              "1  2009030796    6.225000        0.5  ...    2016.2       2009.0                7\n",
              "2  2009031954    2.940000        1.3  ...    2016.2       2009.0                7\n",
              "\n",
              "[3 rows x 14 columns]"
            ]
          },
          "metadata": {
            "tags": []
          },
          "execution_count": 29
        }
      ]
    },
    {
      "cell_type": "markdown",
      "metadata": {
        "id": "gN28XzJ5Euog",
        "colab_type": "text"
      },
      "source": [
        "### 3.2. Concatenação dos Dados Genéricos do semestre anterior com o resultado da disciplina no semestre seguinte\n",
        "<a id='concatenacao'></a>\n"
      ]
    },
    {
      "cell_type": "markdown",
      "metadata": {
        "id": "j4rski7fLwtq",
        "colab_type": "text"
      },
      "source": [
        "\n",
        "semestre-atual 18.2\n",
        "semestre-passa 18.1\n",
        "resultado-atua 18.2\n",
        "\n",
        "chega na funcao de busca de reprovacao com o ano atual, e so ele, vai com nome de dfCompleto\n",
        "df_nota_generico com todos os resultados de todos semestres\n",
        "\n",
        "\n",
        "crio um dataframe temporario\n",
        "\n",
        "itero na lista os resultados de todos semestres\n",
        "se o semestre atual for maior que o da iteração, então\n",
        "verifica se no passado dele tem disciplina com o mesmo codigo que a atual\n",
        "se tem ele concatena no dfTemporario e repete até acabar a lista de resultados"
      ]
    },
    {
      "cell_type": "markdown",
      "metadata": {
        "id": "Y6BTQvcGNRv6",
        "colab_type": "text"
      },
      "source": [
        "### 3.3. Transformação usando Pipeline\n",
        "<a id='pipeline'></a>"
      ]
    },
    {
      "cell_type": "markdown",
      "metadata": {
        "id": "6_myyXirNep6",
        "colab_type": "text"
      },
      "source": [
        "Montagem do Pipeline de transformação"
      ]
    },
    {
      "cell_type": "code",
      "metadata": {
        "id": "yYU_PdRqNcjE",
        "colab_type": "code",
        "colab": {}
      },
      "source": [
        "pipeline_dados_genericos = Pipeline(steps = [('gera_dados', geraDadosGenericos(carga)),\n",
        "                                              ('concatena_semestres', concatenaSemestrePassadoComResultadosDoAtual())\n",
        "                                             ])\n"
      ],
      "execution_count": 0,
      "outputs": []
    },
    {
      "cell_type": "markdown",
      "metadata": {
        "id": "X6bFZcIWNnhd",
        "colab_type": "text"
      },
      "source": [
        "Chamada do transformador"
      ]
    },
    {
      "cell_type": "code",
      "metadata": {
        "id": "4QxxlFtfNdzG",
        "colab_type": "code",
        "colab": {}
      },
      "source": [
        "pipeline_dados_genericos.transform(lista_df_notas)"
      ],
      "execution_count": 0,
      "outputs": []
    },
    {
      "cell_type": "markdown",
      "metadata": {
        "id": "y4SntaIwFYyi",
        "colab_type": "text"
      },
      "source": [
        "Download do dataset"
      ]
    },
    {
      "cell_type": "code",
      "metadata": {
        "id": "HFlugn7iFX6t",
        "colab_type": "code",
        "colab": {}
      },
      "source": [
        "disciplinasECT.to_csv(r\"disciplinasECT201520191.csv\")"
      ],
      "execution_count": 0,
      "outputs": []
    },
    {
      "cell_type": "markdown",
      "metadata": {
        "id": "B4rJ_jPviRsl",
        "colab_type": "text"
      },
      "source": [
        "##6. Avaliação dos Modelos\n",
        "<a id='avaliacao'></a>\n",
        "\n",
        "### [6.1 Chamada da Função](#chamada)\n",
        "### [6.2 Teste de Modelo](#teste)"
      ]
    },
    {
      "cell_type": "markdown",
      "metadata": {
        "id": "YxO10k-KJnZq",
        "colab_type": "text"
      },
      "source": [
        "###6.1 Chamada da Função\n",
        "<a id='chamada'></a>"
      ]
    },
    {
      "cell_type": "code",
      "metadata": {
        "id": "a54d338IldVz",
        "colab_type": "code",
        "colab": {}
      },
      "source": [
        "(df_relatorio, model_param_disciplinas) = avaliar_modelos(df, hyperparameters)"
      ],
      "execution_count": 0,
      "outputs": []
    },
    {
      "cell_type": "code",
      "metadata": {
        "id": "_RgZO6QU0YH1",
        "colab_type": "code",
        "colab": {}
      },
      "source": [
        "df_relatorio.head()"
      ],
      "execution_count": 0,
      "outputs": []
    },
    {
      "cell_type": "code",
      "metadata": {
        "id": "dCcRXPWv0eAL",
        "colab_type": "code",
        "colab": {}
      },
      "source": [
        "model_param_disciplinas"
      ],
      "execution_count": 0,
      "outputs": []
    },
    {
      "cell_type": "markdown",
      "metadata": {
        "id": "DmuLGrPKFv1c",
        "colab_type": "text"
      },
      "source": [
        "###6.2 Teste de Modelo\n",
        "<a id='teste'></a>"
      ]
    },
    {
      "cell_type": "markdown",
      "metadata": {
        "id": "X9GMVe3bUsvS",
        "colab_type": "text"
      },
      "source": [
        "Importando Modelo"
      ]
    },
    {
      "cell_type": "code",
      "metadata": {
        "id": "uchPDLEsUvt5",
        "colab_type": "code",
        "colab": {}
      },
      "source": [
        "modelo_teste = joblib.load('modelo_.pkl')"
      ],
      "execution_count": 0,
      "outputs": []
    },
    {
      "cell_type": "markdown",
      "metadata": {
        "id": "-lcNJROjYtth",
        "colab_type": "text"
      },
      "source": [
        "Aplicando a transformação no teste"
      ]
    },
    {
      "cell_type": "code",
      "metadata": {
        "id": "wgKRWABoBfVb",
        "colab_type": "code",
        "colab": {}
      },
      "source": [
        "num_transf = NumericalTransformer()\n",
        "df_teste = model.transform(df)"
      ],
      "execution_count": 0,
      "outputs": []
    },
    {
      "cell_type": "code",
      "metadata": {
        "id": "jte7qW39ZR8V",
        "colab_type": "code",
        "colab": {}
      },
      "source": [
        "df_teste.head(2)"
      ],
      "execution_count": 0,
      "outputs": []
    },
    {
      "cell_type": "markdown",
      "metadata": {
        "id": "j8Qb55Di8IkC",
        "colab_type": "text"
      },
      "source": [
        "Realizando teste de um modelo, prevendo probabilidade de ser aprovado"
      ]
    },
    {
      "cell_type": "code",
      "metadata": {
        "id": "LLooF6-vaQ7C",
        "colab_type": "code",
        "colab": {}
      },
      "source": [
        "df_teste.iloc[42,:]"
      ],
      "execution_count": 0,
      "outputs": []
    },
    {
      "cell_type": "code",
      "metadata": {
        "id": "3zusMtVzabUZ",
        "colab_type": "code",
        "colab": {}
      },
      "source": [
        "df_teste.info()"
      ],
      "execution_count": 0,
      "outputs": []
    },
    {
      "cell_type": "code",
      "metadata": {
        "id": "sTg3Zgf-YrEm",
        "colab_type": "code",
        "colab": {}
      },
      "source": [
        "modelo_teste.predict(df_teste.iloc[42,:])"
      ],
      "execution_count": 0,
      "outputs": []
    },
    {
      "cell_type": "markdown",
      "metadata": {
        "id": "PGR1IWltjEKS",
        "colab_type": "text"
      },
      "source": [
        "##7. Conclusão e Recomendações\n",
        "<a id='conclusao'></a>"
      ]
    },
    {
      "cell_type": "markdown",
      "metadata": {
        "id": "A-JlYcDhvmg4",
        "colab_type": "text"
      },
      "source": [
        ""
      ]
    },
    {
      "cell_type": "markdown",
      "metadata": {
        "id": "7bW-MMNpvndY",
        "colab_type": "text"
      },
      "source": [
        "##8. Implantação de Modelos\n",
        "<a id='implantacao'></a>"
      ]
    },
    {
      "cell_type": "code",
      "metadata": {
        "id": "-bcNUiIDvzTt",
        "colab_type": "code",
        "colab": {}
      },
      "source": [
        ""
      ],
      "execution_count": 0,
      "outputs": []
    }
  ]
}