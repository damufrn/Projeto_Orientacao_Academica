{
  "nbformat": 4,
  "nbformat_minor": 0,
  "metadata": {
    "colab": {
      "name": "Projeto_Orientacao_Academica_Tratamento_Dados.ipynb",
      "provenance": [],
      "collapsed_sections": [
        "pW86HnPh3ka-",
        "ZGHrISEE_B3_",
        "WUBAPloS58yP",
        "TjeHFDBfwV5w",
        "r9S1wjjCuu89",
        "oPh-k3-fR_zP",
        "AEJF9bZMSZpk",
        "B4rJ_jPviRsl",
        "DmuLGrPKFv1c",
        "PGR1IWltjEKS",
        "7bW-MMNpvndY"
      ],
      "authorship_tag": "ABX9TyPu4SNlxVMFjV46e3tm/J6i",
      "include_colab_link": true
    },
    "kernelspec": {
      "name": "python3",
      "display_name": "Python 3"
    }
  },
  "cells": [
    {
      "cell_type": "markdown",
      "metadata": {
        "id": "view-in-github",
        "colab_type": "text"
      },
      "source": [
        "<a href=\"https://colab.research.google.com/github/vilsonrodrigues/Projeto_Orientacao_Academica/blob/master/Projeto_Orientacao_Academica_Tratamento_Dados.ipynb\" target=\"_parent\"><img src=\"https://colab.research.google.com/assets/colab-badge.svg\" alt=\"Open In Colab\"/></a>"
      ]
    },
    {
      "cell_type": "markdown",
      "metadata": {
        "id": "B_vdAfc21u86",
        "colab_type": "text"
      },
      "source": [
        "Por @vilsonrodrigues"
      ]
    },
    {
      "cell_type": "markdown",
      "metadata": {
        "id": "YLxXyebtnjM-",
        "colab_type": "text"
      },
      "source": [
        "\n",
        "\n",
        "# <center><font color='blue'>Projeto de Orientação Acadêmica</font>\n",
        "\n",
        "\n"
      ]
    },
    {
      "cell_type": "markdown",
      "metadata": {
        "id": "ULCWX6-dwLgg",
        "colab_type": "text"
      },
      "source": [
        "<img src='https://ufrn.br/resources/documentos/identidadevisual/logotipo/logotipo_flat.png'>"
      ]
    },
    {
      "cell_type": "markdown",
      "metadata": {
        "id": "C2tX7zYBx5Sd",
        "colab_type": "text"
      },
      "source": [
        "## Parte I - Apresentação do Problema\n",
        "### [1. Apresentação do Problema](#apresentacao)\n",
        "## Parte II - Preparativos Iniciais\n",
        "### [1. Bibliotecas](#bibliotecas)\n",
        "### [2. Classe](#classe)\n",
        "### [3. Funções](#funcoes)\n",
        "### [4. Leituras da Bases](#leiturabase)\n",
        "## Parte III - Desenvolvimento\n",
        "### [1. Entendimento de Negócio](#negocio)\n",
        "### [2. Entendimento de Dados](#enten_dados)\n",
        "### [3. Preparação de Dados](#preparo)\n",
        "### [4. Métricas de Avaliação](#metricas)\n",
        "### [5. Modelagem](#modelagem)\n",
        "### [6. Avaliação de Modelo](#avaliacao)\n",
        "### [7. Conclusão e Recomendações](#conclusao)\n",
        "### [8. Implantação de Modelos](#implantacao)\n"
      ]
    },
    {
      "cell_type": "markdown",
      "metadata": {
        "id": "Rwf-rhVr2Wvj",
        "colab_type": "text"
      },
      "source": [
        "# Parte I - Apresentação do Problema"
      ]
    },
    {
      "cell_type": "markdown",
      "metadata": {
        "id": "bhu64Xadx9yH",
        "colab_type": "text"
      },
      "source": [
        "### **Meta**\n",
        "Nossa meta é prever através de Machine Learning as probabilidades de um estudante ter sucesso em uma disciplina dado o histórico escolar na Universidade.\n",
        "\n",
        "Nossos dados foram transformados para ficarem de uma forma génerica, assim, não dependemos de saber qual foi a matéria cursada anteriormente.\n",
        "\n",
        "Com essa plataforma, os professores que orientam alunos, terão mais segurança e uma comprovação com base no Machine Learning que estudantes que tiveram um histórico semelhante e seguiram esse caminho tiveram mais êxito do que seguir por este outro.\n",
        "\n",
        "Os dados foram coletados do período de 2015.1 até 2019.1.\n",
        "\n",
        "**Esse notebook foca totalmente em analisar os dados e montar uma estratégia  de gerar dados genéricos, de modo que fiquem independente de qual disciplina o aluno curso no semeste anterior.**\n",
        "\n",
        "O trabalho continua neste [notebook](https://), onde são gerados modelos de Machine Learning com dados genéricos.\n",
        "\n",
        "### **Fonte dos Dados**\n",
        "Dados foram extraídos do portal SIGAA e fornecidos pela Escola de Ciências e Tecnlogia (ECT).\n",
        "\n",
        "### **Referência**\n",
        "Hands On: Machine Learning with Scikit-Learning e Tensor Flow\n",
        "\n"
      ]
    },
    {
      "cell_type": "markdown",
      "metadata": {
        "id": "pW86HnPh3ka-",
        "colab_type": "text"
      },
      "source": [
        "# Parte II - Preparativos Iniciais"
      ]
    },
    {
      "cell_type": "markdown",
      "metadata": {
        "id": "vkhuxXT_3vQv",
        "colab_type": "text"
      },
      "source": [
        "## 1. Bibliotecas\n",
        "<a id='bibliotecas'></a>\n",
        "#### [1.1 Instalações](#instalacao)\n",
        "#### [1.2 Importações](#importacao)\n"
      ]
    },
    {
      "cell_type": "markdown",
      "metadata": {
        "id": "OuOEB2A10Rah",
        "colab_type": "text"
      },
      "source": [
        "### 1.1. Instalação\n",
        "<a id='instalacao'></a>"
      ]
    },
    {
      "cell_type": "code",
      "metadata": {
        "id": "_HXuie4y43tN",
        "colab_type": "code",
        "colab": {}
      },
      "source": [
        "!pip install pandas -U\n",
        "!pip install scikit-learn -U\n",
        "!pip install numpy -U\n",
        "!pip install joblib==0.14.1"
      ],
      "execution_count": 0,
      "outputs": []
    },
    {
      "cell_type": "markdown",
      "metadata": {
        "id": "D_S-Ua3YeLmS",
        "colab_type": "text"
      },
      "source": [
        "### 1.2. Importação\n",
        "<a id='importacao'></a>"
      ]
    },
    {
      "cell_type": "code",
      "metadata": {
        "id": "vXKQdGE-KNqI",
        "colab_type": "code",
        "colab": {}
      },
      "source": [
        "import pandas as pd\n",
        "import numpy as np\n",
        "from datetime import datetime"
      ],
      "execution_count": 0,
      "outputs": []
    },
    {
      "cell_type": "code",
      "metadata": {
        "id": "4fDskXdweAA6",
        "colab_type": "code",
        "colab": {}
      },
      "source": [
        "import pandas as pd\n",
        "import numpy as np\n",
        "\n",
        "#Persistência em disco\n",
        "import joblib\n",
        "import pickle\n",
        "\n",
        "#Visualização\n",
        "import seaborn as sns\n",
        "import matplotlib.pyplot as plt\n",
        "\n",
        "#Transformadores e Modelador\n",
        "from sklearn.pipeline          import Pipeline\n",
        "from sklearn.preprocessing     import StandardScaler\n",
        "from sklearn.base              import BaseEstimator, TransformerMixin\n",
        "\n",
        "#Selecao de modelo\n",
        "from sklearn.model_selection   import train_test_split\n",
        "from sklearn.model_selection   import KFold\n",
        "from sklearn.model_selection   import cross_val_score\n",
        "from sklearn.model_selection   import GridSearchCV\n",
        "from sklearn.feature_selection import SelectKBest, f_classif\n",
        "from sklearn.feature_selection import chi2\n",
        "\n",
        "#Metricas\n",
        "from sklearn.metrics           import classification_report\n",
        "from sklearn.metrics           import confusion_matrix\n",
        "from sklearn.metrics           import make_scorer\n",
        "from sklearn.metrics           import accuracy_score\n",
        "from sklearn.metrics           import f1_score\n",
        "from sklearn.metrics           import recall_score\n",
        "from sklearn.metrics           import precision_score\n",
        "\n",
        "#Classificadores\n",
        "from sklearn.ensemble          import RandomForestClassifier\n",
        "from xgboost                   import XGBClassifier\n",
        "from sklearn.tree              import DecisionTreeClassifier\n",
        "from sklearn.neighbors         import KNeighborsClassifier\n",
        "from sklearn.naive_bayes       import GaussianNB\n",
        "from sklearn.svm               import SVC\n",
        "from sklearn.neural_network    import MLPClassifier\n",
        "\n",
        "#modo não-perturbe\n",
        "import warnings\n",
        "warnings.filterwarnings(\"ignore\")"
      ],
      "execution_count": 0,
      "outputs": []
    },
    {
      "cell_type": "markdown",
      "metadata": {
        "id": "EXnFYbxV75Np",
        "colab_type": "text"
      },
      "source": [
        "##2. Classe\n",
        "<a id='classe'></a>\n"
      ]
    },
    {
      "cell_type": "markdown",
      "metadata": {
        "id": "I4WG5ZVa9Abp",
        "colab_type": "text"
      },
      "source": [
        "Classe para realizar x-ação"
      ]
    },
    {
      "cell_type": "code",
      "metadata": {
        "id": "3sfmYXZd8MuV",
        "colab_type": "code",
        "colab": {}
      },
      "source": [
        ""
      ],
      "execution_count": 0,
      "outputs": []
    },
    {
      "cell_type": "markdown",
      "metadata": {
        "id": "ZGHrISEE_B3_",
        "colab_type": "text"
      },
      "source": [
        "##3. Funções\n",
        "<a id='funcoes'></a>"
      ]
    },
    {
      "cell_type": "markdown",
      "metadata": {
        "id": "3BUSGqrsC9BC",
        "colab_type": "text"
      },
      "source": [
        "Função que usa GridSearch para avaliar o melhor modelo disponível, retornar estatísticas dos resultados e persistir em disco os modelos gerados"
      ]
    },
    {
      "cell_type": "code",
      "metadata": {
        "id": "3gXGYd0w_GRp",
        "colab_type": "code",
        "colab": {}
      },
      "source": [
        "def avaliar_modelos(df, hyperparameters):\n",
        "\n",
        "  #Dicionários\n",
        "  model_param_disciplinas = {}\n",
        "  best_acc_disciplinas = {}\n",
        "  scoring_disciplinas = {}\n",
        "  #feature_importances_disciplinas = {}\n",
        "\n",
        "  #Seleciona o codigo de cada disciplina no dataframe, --alteravel--\n",
        "  lista_disciplinas = df[\"disciplina\"].unique()  \n",
        "\n",
        "  #Verifica se esta vazio\n",
        "  if lista_disciplinas is None:\n",
        "\t  return None\n",
        "\n",
        "  #Convertendo categorias do target de string para numerico (0,1)\n",
        "  df[\"situacao_categoria\"] = pd.Categorical(df[\"situacao\"]).codes\n",
        "\n",
        "  #Pipeline para transformar em categoria e verificar melhores parametros\n",
        "  pipeline_transform = Pipeline(steps = [('num_pipeline', NumericalTransformer()),\n",
        "                                         ('fs',SelectKBest(chi2)),\n",
        "                                         ('sc',StandardScaler()),\n",
        "                                         ('clf',XGBClassifier())\n",
        "                               ])\n",
        "\n",
        "  #Grid para testar todos os parâmetros                               \n",
        "  grid_search = GridSearchCV(\n",
        "                          estimator = pipeline_transform, \n",
        "                          param_grid = hyperparameters,\n",
        "                          cv= 5,\n",
        "                          scoring = {'Accuracy': make_scorer(accuracy_score)},\n",
        "                          #scoring = {\"AUC\": \"roc_auc\", \"Accuracy\": make_scorer(accuracy_score), \"F1\":\"f1\", \"Recall\":\"recall\", \"Precision\":\"precision\"},\n",
        "                          return_train_score=True,\n",
        "                          n_jobs=-1,#indica o numero de processos em paralelo, -1 significa usar todos\n",
        "                          refit='Accuracy')\n",
        "\n",
        "\n",
        "  #itera sobre a lista de disciplinas\n",
        "  for disciplina in lista_disciplinas:\n",
        "    data_iter = df.loc[df[\"disciplina\"].str.contains(disciplina),:]\n",
        "    \n",
        "    #Treinando Grid\n",
        "    best_model = grid_search.fit(data_iter.drop(columns = [\"disciplina\",\"situacao_categoria\"]), data_iter[\"situacao_categoria\"])\n",
        " \n",
        "    #Extraindo informações do treino\n",
        "    param_modelo = best_model.best_params_\n",
        "    model_param_disciplinas[disciplina] = param_modelo['clf']\n",
        "    best_acc_disciplinas[disciplina] = best_model.best_score_\n",
        "\n",
        "    #Resultado de metricas\n",
        "    result = pd.DataFrame(best_model.cv_results_)\n",
        "    result = result[['mean_train_Accuracy', 'std_train_Accuracy','mean_test_Accuracy', 'std_test_Accuracy','rank_test_Accuracy']].copy()\n",
        "    result[\"std_ratio\"] = result.std_test_Accuracy/result.std_train_Accuracy\n",
        "    result = result.sort_values(by=\"rank_test_Accuracy\",ascending=True)    \n",
        "    scoring_disciplinas[disciplina] = result.iloc[0,:]\n",
        "\n",
        "    #Características mais importantes\n",
        "    #feature_importances_disciplinas[disciplina] = grid.best_estimator_.feature_importances_\n",
        "    \n",
        "    #Salvando modelo\n",
        "    joblib.dump(best_model, 'modelo_' + disciplina + '.pkl')\n",
        "\n",
        "\n",
        "  #Transformando o dicionário para Dataframe\n",
        "  df_best_acc = pd.DataFrame.from_dict(best_acc_disciplinas, orient=\"index\")\n",
        "  df_best_acc.columns = [\"accuracy\"]\n",
        "  df_scor_disc = pd.DataFrame.from_dict(scoring_disciplinas, orient=\"index\")\n",
        "\n",
        "  #Concatenando DataFrames\n",
        "  df_relatorio = pd.concat([df_best_acc, df_scor_disc], axis=1, sort=False)\n",
        "\n",
        "  return (df_relatorio,model_param_disciplinas)"
      ],
      "execution_count": 0,
      "outputs": []
    },
    {
      "cell_type": "markdown",
      "metadata": {
        "id": "dD1-lyVuizPA",
        "colab_type": "text"
      },
      "source": [
        "##4. Leitura das Bases\n",
        "<a id='leiturabase'></a>"
      ]
    },
    {
      "cell_type": "markdown",
      "metadata": {
        "id": "DHx3s-NSKug_",
        "colab_type": "text"
      },
      "source": [
        "Urls das notas e da carga horária"
      ]
    },
    {
      "cell_type": "code",
      "metadata": {
        "id": "8soTzGZeKzlS",
        "colab_type": "code",
        "colab": {}
      },
      "source": [
        "notas_url = [\n",
        "             'https://raw.githubusercontent.com/repitta/CienciaDeDadosEducacionais/master/dadosUFRN/notas_discentes_2015.1.csv',\n",
        "             'https://raw.githubusercontent.com/repitta/CienciaDeDadosEducacionais/master/dadosUFRN/notas_discentes_2015.2.csv',\n",
        "             'https://raw.githubusercontent.com/repitta/CienciaDeDadosEducacionais/master/dadosUFRN/notas_discentes_2016.1.csv',\n",
        "             'https://raw.githubusercontent.com/repitta/CienciaDeDadosEducacionais/master/dadosUFRN/notas_discentes_2016.2.csv',\n",
        "             'https://raw.githubusercontent.com/repitta/CienciaDeDadosEducacionais/master/dadosUFRN/notas_discentes_2017.1.csv',\n",
        "             'https://raw.githubusercontent.com/repitta/CienciaDeDadosEducacionais/master/dadosUFRN/notas_discentes_2017.2.csv',\n",
        "             'https://raw.githubusercontent.com/repitta/CienciaDeDadosEducacionais/master/dadosUFRN/notas_discentes_2018.1.csv',\n",
        "             'https://raw.githubusercontent.com/repitta/CienciaDeDadosEducacionais/master/dadosUFRN/notas_discentes_2018.2.csv',\n",
        "             'https://raw.githubusercontent.com/repitta/CienciaDeDadosEducacionais/master/dadosUFRN/notas_discentes_2019.1.csv',\n",
        "             'https://raw.githubusercontent.com/repitta/CienciaDeDadosEducacionais/master/dadosUFRN/notas_discentes_2019.2.csv'\n",
        "            ]\n",
        "carga_horaria = 'http://dados.ufrn.br/dataset/3fea67e8-6916-4ed0-aaa6-9a8ca06a9bdc/resource/9a3521d2-4bc5-4fda-93f0-f701c8a20727/download/componentes-curriculares-presenciais.csv'"
      ],
      "execution_count": 0,
      "outputs": []
    },
    {
      "cell_type": "markdown",
      "metadata": {
        "id": "2oZD8IeLLqN2",
        "colab_type": "text"
      },
      "source": [
        "Lendo como DataFrame"
      ]
    },
    {
      "cell_type": "code",
      "metadata": {
        "id": "sKkNAEhzLpAu",
        "colab_type": "code",
        "colab": {}
      },
      "source": [
        "col = [\"periodo\",\"codigo\",\"nome\",\"turma\",\"siape\",\"horario\",\"matricula\",\"nota\",\"situacao\"]\n",
        "notas2015_1 = pd.read_csv(notas_url[0], sep=';', encoding = \"ISO-8859-1\", skiprows = 7, names=col, index_col=False)\n",
        "notas2015_2 = pd.read_csv(notas_url[1], sep=';', encoding = \"ISO-8859-1\", skiprows = 7, names=col, index_col=False)\n",
        "notas2016_1 = pd.read_csv(notas_url[2], sep=';', encoding = \"ISO-8859-1\", skiprows = 7, names=col, index_col=False)\n",
        "notas2016_2 = pd.read_csv(notas_url[3], sep=';', encoding = \"ISO-8859-1\", skiprows = 7, names=col, index_col=False)\n",
        "notas2017_1 = pd.read_csv(notas_url[4], sep=';', encoding = \"ISO-8859-1\", skiprows = 7, names=col, index_col=False)\n",
        "notas2017_2 = pd.read_csv(notas_url[5], sep=';', encoding = \"ISO-8859-1\", skiprows = 7, names=col, index_col=False)\n",
        "notas2018_1 = pd.read_csv(notas_url[6], sep=';', encoding = \"ISO-8859-1\", skiprows = 7, names=col, index_col=False)\n",
        "notas2018_2 = pd.read_csv(notas_url[7], sep=';', encoding = \"ISO-8859-1\", skiprows = 7, names=col, index_col=False)\n",
        "notas2019_1 = pd.read_csv(notas_url[8], sep=';', encoding = \"ISO-8859-1\", skiprows = 7, names=col, index_col=False)\n",
        "#notas2019_2 = pd.read_csv(notas_url[9], sep=';', encoding = \"ISO-8859-1\", skiprows = 7, names=col, index_col=False)\n",
        "\n",
        "carga = pd.read_csv(carga_horaria, sep=\";\")\n",
        "carga = carga[[\"codigo\",\"ch_total\"]]"
      ],
      "execution_count": 0,
      "outputs": []
    },
    {
      "cell_type": "markdown",
      "metadata": {
        "id": "Hra4Ho4IC0Xu",
        "colab_type": "text"
      },
      "source": [
        "#Parte III - Desenvolvimento\n",
        "<a id='enten_dados'></a>\n"
      ]
    },
    {
      "cell_type": "markdown",
      "metadata": {
        "id": "hfeOFonftzic",
        "colab_type": "text"
      },
      "source": [
        "## 1. Entendimento de Negócio\n",
        "<a id='negocio'></a>\n",
        "\n",
        "#### ● Determinar objetivos de Negócio\n",
        "#### ● Estabelecer Critérios de Sucesso da Iniciativa\n",
        "#### ● Análise do contexto: terminologia, benefício, riscos e plano de contingência\n",
        "#### ● Determinar objetivos de Mineração de Dados\n",
        "#### ● Plano do Projeto\n"
      ]
    },
    {
      "cell_type": "markdown",
      "metadata": {
        "id": "-n4co8p2EeaU",
        "colab_type": "text"
      },
      "source": [
        "## 2. Entendimento de Dados\n",
        "<a id='enten_dados'></a>\n",
        "\n",
        "### [2.1 Descrição de Dados](#descricao)\n",
        "### [2.2 Qualidade de Dados](#qualidade)\n",
        "### [2.3 Exploração de Dados](#exploracao)"
      ]
    },
    {
      "cell_type": "markdown",
      "metadata": {
        "id": "HEVg1VCYEhUd",
        "colab_type": "text"
      },
      "source": [
        "###2.1 Descrição de Dados\n",
        "<a id='descricao'></a>\n"
      ]
    },
    {
      "cell_type": "markdown",
      "metadata": {
        "id": "L1HZgOL4pQfu",
        "colab_type": "text"
      },
      "source": [
        "#### <center>Dados dos Daframes de Notas:\n",
        "| Semestre | Número de atributos (colunas) | Número de Registros (linhas) |\n",
        "| --- | --- | --- |\n",
        "| 2015.1 | 9 | --- |\n",
        "| 2015.2 | 9 | |\n",
        "| 2016.1 | 9 | |\n",
        "| 2016.2 | 9 | |\n",
        "| 2017.1 | 9 | |\n",
        "| 2017.2 | 9 | |\n",
        "| 2018.1 | 9 | |\n",
        "| 2018.2 | 9 | |\n",
        "| 2019.1 | 9 | |\n",
        "\n",
        "\n",
        "#### <center>Dados do Dataframe de Carga Horária:\n",
        "| Número de atributos (colunas) | Número de Registros (linhas) |\n",
        "| --- | --- |\n",
        "| 2 | 39269 |\n",
        "\n",
        "\n",
        "\n",
        "\n",
        "####Descrição de Colunas do Dataframe de Notas:\n",
        "\n",
        "<font color='blue'> <b>1. periodo</b> </font> Período em que a disciplina foi cursada (.1 ou .2)\n",
        "\n",
        "<font color='blue'> <b>2. codigo</b> </font> Código de todas as disciplinas na UFRN\n",
        "\n",
        "<font color='blue'> <b>3. nome</b> </font> Nome da discplina \n",
        "\n",
        "<font color='blue'> <b>4. turma</b> </font> Código da turma\n",
        "\n",
        "<font color='blue'> <b>5. siape</b> </font> Código que identifica o professor que ministrou a disciplina\n",
        "\n",
        "<font color='blue'> <b>6. horario</b> </font> Horário e intervalo de datas em que a disciplina foi ministrada\n",
        "\n",
        "<font color='blue'> <b>7. Matrícula</b> </font> Código identificador do estudante\n",
        "\n",
        "<font color='blue'> <b>8. Nota</b> </font> Nota do estudante na disciplina\n",
        "\n",
        "#### Coluna Alvo\n",
        "<font color='red'> <b>9. Situação</b> </font> Estato final na disciplina\n",
        "\n",
        "####Descrição de Colunas do Dataframe de Notas:\n",
        "\n",
        "<font color='blue'> <b>1. Código</b> </font> Código da disciplina\n",
        "\n",
        "<font color='blue'> <b>2. Ch_total</b> </font> Carga Hóraria da displina\n",
        "\n",
        "-------------------------------------------------------------------------------\n",
        "\n",
        "Os Dataframes contêm todos os departamentos da UFRN. Por enquanto o foco do trabalho está em prever o ciclo básico da ECT. Mais na frente será feito uma seleção afim de escolher apenas matérias da ECT.\n",
        "\n"
      ]
    },
    {
      "cell_type": "markdown",
      "metadata": {
        "id": "XvoPlLK6tqOm",
        "colab_type": "text"
      },
      "source": [
        "Exemplos de registros nos 2 tipos de DataFrames"
      ]
    },
    {
      "cell_type": "code",
      "metadata": {
        "id": "FGNZ4TPSO-6l",
        "colab_type": "code",
        "outputId": "a6d66916-269a-406c-d8db-289dff185e3e",
        "colab": {
          "base_uri": "https://localhost:8080/",
          "height": 529
        }
      },
      "source": [
        "notas2018_1.sample(10)"
      ],
      "execution_count": 4,
      "outputs": [
        {
          "output_type": "execute_result",
          "data": {
            "text/html": [
              "<div>\n",
              "<style scoped>\n",
              "    .dataframe tbody tr th:only-of-type {\n",
              "        vertical-align: middle;\n",
              "    }\n",
              "\n",
              "    .dataframe tbody tr th {\n",
              "        vertical-align: top;\n",
              "    }\n",
              "\n",
              "    .dataframe thead th {\n",
              "        text-align: right;\n",
              "    }\n",
              "</style>\n",
              "<table border=\"1\" class=\"dataframe\">\n",
              "  <thead>\n",
              "    <tr style=\"text-align: right;\">\n",
              "      <th></th>\n",
              "      <th>periodo</th>\n",
              "      <th>codigo</th>\n",
              "      <th>nome</th>\n",
              "      <th>turma</th>\n",
              "      <th>siape</th>\n",
              "      <th>horario</th>\n",
              "      <th>matricula</th>\n",
              "      <th>nota</th>\n",
              "      <th>situacao</th>\n",
              "    </tr>\n",
              "  </thead>\n",
              "  <tbody>\n",
              "    <tr>\n",
              "      <th>1769</th>\n",
              "      <td>1</td>\n",
              "      <td>CIV1202</td>\n",
              "      <td>GESTÃO AMBIENTAL</td>\n",
              "      <td>1</td>\n",
              "      <td>2190974-3</td>\n",
              "      <td>24M12</td>\n",
              "      <td>2016018494</td>\n",
              "      <td>6.80</td>\n",
              "      <td>APROVADO POR NOTA</td>\n",
              "    </tr>\n",
              "    <tr>\n",
              "      <th>18749</th>\n",
              "      <td>1</td>\n",
              "      <td>DEB0602</td>\n",
              "      <td>PROCESSOS E CERTIFICAÇÃO DE SOFTWARE EM SAÚDE</td>\n",
              "      <td>1</td>\n",
              "      <td>2488270-6</td>\n",
              "      <td>2N34 4N12</td>\n",
              "      <td>2015091533</td>\n",
              "      <td>8.90</td>\n",
              "      <td>APROVADO</td>\n",
              "    </tr>\n",
              "    <tr>\n",
              "      <th>16078</th>\n",
              "      <td>1</td>\n",
              "      <td>ECT2105</td>\n",
              "      <td>PRÁTICAS DE LEITURA E ESCRITA I</td>\n",
              "      <td>6</td>\n",
              "      <td>3891450-8</td>\n",
              "      <td>4N12 (19/02/2018 - 07/07/2018)</td>\n",
              "      <td>20180040716</td>\n",
              "      <td>-</td>\n",
              "      <td>EXCLUIDA</td>\n",
              "    </tr>\n",
              "    <tr>\n",
              "      <th>11400</th>\n",
              "      <td>1</td>\n",
              "      <td>ECT2301</td>\n",
              "      <td>CÁLCULO III</td>\n",
              "      <td>4</td>\n",
              "      <td>2141197-4</td>\n",
              "      <td>46N12 (19/02/2018 - 07/07/2018)</td>\n",
              "      <td>2014097040</td>\n",
              "      <td>5.60</td>\n",
              "      <td>APROVADO POR NOTA</td>\n",
              "    </tr>\n",
              "    <tr>\n",
              "      <th>6208</th>\n",
              "      <td>1</td>\n",
              "      <td>ECT2103</td>\n",
              "      <td>CÁLCULO I</td>\n",
              "      <td>4</td>\n",
              "      <td>1672787-0</td>\n",
              "      <td>2356N12 (30/04/2018 - 07/07/2018)</td>\n",
              "      <td>20170117602</td>\n",
              "      <td>-</td>\n",
              "      <td>INDEFERIDO</td>\n",
              "    </tr>\n",
              "    <tr>\n",
              "      <th>14769</th>\n",
              "      <td>1</td>\n",
              "      <td>ECT2105</td>\n",
              "      <td>PRÁTICAS DE LEITURA E ESCRITA I</td>\n",
              "      <td>2</td>\n",
              "      <td>1746024-9</td>\n",
              "      <td>4M56 (19/02/2018 - 07/07/2018)</td>\n",
              "      <td>20180038271</td>\n",
              "      <td>7.90</td>\n",
              "      <td>APROVADO</td>\n",
              "    </tr>\n",
              "    <tr>\n",
              "      <th>20997</th>\n",
              "      <td>1</td>\n",
              "      <td>ECT2104</td>\n",
              "      <td>QUÍMICA GERAL</td>\n",
              "      <td>03E</td>\n",
              "      <td>3432383-1</td>\n",
              "      <td>25M34  6T34 (19/02/2018 - 07/07/2018)</td>\n",
              "      <td>20180037873</td>\n",
              "      <td>2.40</td>\n",
              "      <td>REPROVADO POR MÉDIA E POR FALTAS</td>\n",
              "    </tr>\n",
              "    <tr>\n",
              "      <th>10477</th>\n",
              "      <td>1</td>\n",
              "      <td>ECT2206</td>\n",
              "      <td>GESTÃO E ECONOMIA DA CIÊNCIA, TECNOLOGIA E INO...</td>\n",
              "      <td>1</td>\n",
              "      <td>1753123-5</td>\n",
              "      <td>46T56 (19/02/2018 - 07/07/2018)</td>\n",
              "      <td>20170116104</td>\n",
              "      <td>5.50</td>\n",
              "      <td>APROVADO POR NOTA</td>\n",
              "    </tr>\n",
              "    <tr>\n",
              "      <th>7037</th>\n",
              "      <td>1</td>\n",
              "      <td>ECT2305</td>\n",
              "      <td>PRÁTICA DE LEITURA EM INGLÊS</td>\n",
              "      <td>1</td>\n",
              "      <td>1319338-6</td>\n",
              "      <td>2M34 (19/02/2018 - 07/07/2018)</td>\n",
              "      <td>20170138317</td>\n",
              "      <td>8.60</td>\n",
              "      <td>APROVADO</td>\n",
              "    </tr>\n",
              "    <tr>\n",
              "      <th>18014</th>\n",
              "      <td>1</td>\n",
              "      <td>ECT2103</td>\n",
              "      <td>CÁLCULO I</td>\n",
              "      <td>1</td>\n",
              "      <td>1091102-4</td>\n",
              "      <td>2356M34 (30/04/2018 - 07/07/2018)</td>\n",
              "      <td>20180034933</td>\n",
              "      <td>7.70</td>\n",
              "      <td>APROVADO</td>\n",
              "    </tr>\n",
              "  </tbody>\n",
              "</table>\n",
              "</div>"
            ],
            "text/plain": [
              "       periodo   codigo  ...  nota                          situacao\n",
              "1769         1  CIV1202  ...  6.80                 APROVADO POR NOTA\n",
              "18749        1  DEB0602  ...  8.90                          APROVADO\n",
              "16078        1  ECT2105  ...     -                          EXCLUIDA\n",
              "11400        1  ECT2301  ...  5.60                 APROVADO POR NOTA\n",
              "6208         1  ECT2103  ...     -                        INDEFERIDO\n",
              "14769        1  ECT2105  ...  7.90                          APROVADO\n",
              "20997        1  ECT2104  ...  2.40  REPROVADO POR MÉDIA E POR FALTAS\n",
              "10477        1  ECT2206  ...  5.50                 APROVADO POR NOTA\n",
              "7037         1  ECT2305  ...  8.60                          APROVADO\n",
              "18014        1  ECT2103  ...  7.70                          APROVADO\n",
              "\n",
              "[10 rows x 9 columns]"
            ]
          },
          "metadata": {
            "tags": []
          },
          "execution_count": 4
        }
      ]
    },
    {
      "cell_type": "code",
      "metadata": {
        "id": "PDAIFmZ2PBbR",
        "colab_type": "code",
        "outputId": "c21ace03-c388-4cf5-c6b2-c2c618f8be2c",
        "colab": {
          "base_uri": "https://localhost:8080/",
          "height": 111
        }
      },
      "source": [
        "carga.head(2)"
      ],
      "execution_count": 5,
      "outputs": [
        {
          "output_type": "execute_result",
          "data": {
            "text/html": [
              "<div>\n",
              "<style scoped>\n",
              "    .dataframe tbody tr th:only-of-type {\n",
              "        vertical-align: middle;\n",
              "    }\n",
              "\n",
              "    .dataframe tbody tr th {\n",
              "        vertical-align: top;\n",
              "    }\n",
              "\n",
              "    .dataframe thead th {\n",
              "        text-align: right;\n",
              "    }\n",
              "</style>\n",
              "<table border=\"1\" class=\"dataframe\">\n",
              "  <thead>\n",
              "    <tr style=\"text-align: right;\">\n",
              "      <th></th>\n",
              "      <th>codigo</th>\n",
              "      <th>ch_total</th>\n",
              "    </tr>\n",
              "  </thead>\n",
              "  <tbody>\n",
              "    <tr>\n",
              "      <th>0</th>\n",
              "      <td>MUT721</td>\n",
              "      <td>60</td>\n",
              "    </tr>\n",
              "    <tr>\n",
              "      <th>1</th>\n",
              "      <td>MUT508</td>\n",
              "      <td>60</td>\n",
              "    </tr>\n",
              "  </tbody>\n",
              "</table>\n",
              "</div>"
            ],
            "text/plain": [
              "   codigo  ch_total\n",
              "0  MUT721        60\n",
              "1  MUT508        60"
            ]
          },
          "metadata": {
            "tags": []
          },
          "execution_count": 5
        }
      ]
    },
    {
      "cell_type": "markdown",
      "metadata": {
        "id": "5Vy3MCOgF_iz",
        "colab_type": "text"
      },
      "source": [
        "###2.2 Qualidade dos dados\n",
        "<a id='qualidade'></a>"
      ]
    },
    {
      "cell_type": "markdown",
      "metadata": {
        "id": "F21BiOCQ5SX6",
        "colab_type": "text"
      },
      "source": [
        "Total 489 disciplinas realizadas na UFRN no semestre 15.1"
      ]
    },
    {
      "cell_type": "code",
      "metadata": {
        "id": "PexNmJ6G5ZMn",
        "colab_type": "code",
        "colab": {
          "base_uri": "https://localhost:8080/",
          "height": 251
        },
        "outputId": "3e0cde0d-fbac-4a6b-d482-cfa2039da615"
      },
      "source": [
        "notas2015_1.groupby('codigo')['nome'].count()"
      ],
      "execution_count": 26,
      "outputs": [
        {
          "output_type": "execute_result",
          "data": {
            "text/plain": [
              "codigo\n",
              "ADM0001     4\n",
              "ADM0054     1\n",
              "ADM0055     4\n",
              "ADM0058     2\n",
              "ADM0059     2\n",
              "           ..\n",
              "PTR0406     4\n",
              "PTR0407    10\n",
              "PTR0505    14\n",
              "QUI0311     7\n",
              "QUI0312     2\n",
              "Name: nome, Length: 489, dtype: int64"
            ]
          },
          "metadata": {
            "tags": []
          },
          "execution_count": 26
        }
      ]
    },
    {
      "cell_type": "markdown",
      "metadata": {
        "id": "xaf-SuwLvot-",
        "colab_type": "text"
      },
      "source": [
        "Informações sobre valores não nulos, total de registros de todos as bases de dados\n",
        "\n",
        "Em quase todos os dataframes das notas não contêm valores nulos, com excessão de 16.2, 18.2 e 19.1, onde estão faltando em cada 3 valores correspondentes aos horários das displinas. Ou seja, temos dataframes consistentes\n",
        "\n",
        "No dataframe de cargas horárias também temos consistência"
      ]
    },
    {
      "cell_type": "code",
      "metadata": {
        "id": "WWWZWzcbuw0S",
        "colab_type": "code",
        "colab": {
          "base_uri": "https://localhost:8080/",
          "height": 305
        },
        "outputId": "4931e0d9-12f0-4396-ebc7-02637c427e57"
      },
      "source": [
        "notas2015_1.info()"
      ],
      "execution_count": 6,
      "outputs": [
        {
          "output_type": "stream",
          "text": [
            "<class 'pandas.core.frame.DataFrame'>\n",
            "RangeIndex: 46688 entries, 0 to 46687\n",
            "Data columns (total 9 columns):\n",
            " #   Column     Non-Null Count  Dtype \n",
            "---  ------     --------------  ----- \n",
            " 0   periodo    46688 non-null  int64 \n",
            " 1   codigo     46688 non-null  object\n",
            " 2   nome       46688 non-null  object\n",
            " 3   turma      46688 non-null  object\n",
            " 4   siape      46688 non-null  object\n",
            " 5   horario    46688 non-null  object\n",
            " 6   matricula  46688 non-null  object\n",
            " 7   nota       46688 non-null  object\n",
            " 8   situacao   46688 non-null  object\n",
            "dtypes: int64(1), object(8)\n",
            "memory usage: 3.2+ MB\n"
          ],
          "name": "stdout"
        }
      ]
    },
    {
      "cell_type": "code",
      "metadata": {
        "id": "5AyStLAswPQp",
        "colab_type": "code",
        "colab": {
          "base_uri": "https://localhost:8080/",
          "height": 305
        },
        "outputId": "290c4c91-bf35-4563-f6ec-25066cc3aad6"
      },
      "source": [
        "notas2015_2.info()"
      ],
      "execution_count": 7,
      "outputs": [
        {
          "output_type": "stream",
          "text": [
            "<class 'pandas.core.frame.DataFrame'>\n",
            "RangeIndex: 24397 entries, 0 to 24396\n",
            "Data columns (total 9 columns):\n",
            " #   Column     Non-Null Count  Dtype \n",
            "---  ------     --------------  ----- \n",
            " 0   periodo    24397 non-null  int64 \n",
            " 1   codigo     24397 non-null  object\n",
            " 2   nome       24397 non-null  object\n",
            " 3   turma      24397 non-null  object\n",
            " 4   siape      24397 non-null  object\n",
            " 5   horario    24397 non-null  object\n",
            " 6   matricula  24397 non-null  int64 \n",
            " 7   nota       24397 non-null  object\n",
            " 8   situacao   24397 non-null  object\n",
            "dtypes: int64(2), object(7)\n",
            "memory usage: 1.7+ MB\n"
          ],
          "name": "stdout"
        }
      ]
    },
    {
      "cell_type": "code",
      "metadata": {
        "id": "I-vivN1-z6Vk",
        "colab_type": "code",
        "colab": {
          "base_uri": "https://localhost:8080/",
          "height": 305
        },
        "outputId": "f57a4c16-9f05-4985-9cb2-4336c4820d61"
      },
      "source": [
        "notas2016_1.info()"
      ],
      "execution_count": 8,
      "outputs": [
        {
          "output_type": "stream",
          "text": [
            "<class 'pandas.core.frame.DataFrame'>\n",
            "RangeIndex: 25853 entries, 0 to 25852\n",
            "Data columns (total 9 columns):\n",
            " #   Column     Non-Null Count  Dtype \n",
            "---  ------     --------------  ----- \n",
            " 0   periodo    25853 non-null  int64 \n",
            " 1   codigo     25853 non-null  object\n",
            " 2   nome       25853 non-null  object\n",
            " 3   turma      25853 non-null  object\n",
            " 4   siape      25853 non-null  object\n",
            " 5   horario    25853 non-null  object\n",
            " 6   matricula  25853 non-null  int64 \n",
            " 7   nota       25853 non-null  object\n",
            " 8   situacao   25853 non-null  object\n",
            "dtypes: int64(2), object(7)\n",
            "memory usage: 1.8+ MB\n"
          ],
          "name": "stdout"
        }
      ]
    },
    {
      "cell_type": "code",
      "metadata": {
        "id": "swd1rW9F0C_t",
        "colab_type": "code",
        "colab": {
          "base_uri": "https://localhost:8080/",
          "height": 305
        },
        "outputId": "69ea135d-d825-49a1-c5e2-867bba40c8f5"
      },
      "source": [
        "notas2016_2.info()"
      ],
      "execution_count": 9,
      "outputs": [
        {
          "output_type": "stream",
          "text": [
            "<class 'pandas.core.frame.DataFrame'>\n",
            "RangeIndex: 23587 entries, 0 to 23586\n",
            "Data columns (total 9 columns):\n",
            " #   Column     Non-Null Count  Dtype \n",
            "---  ------     --------------  ----- \n",
            " 0   periodo    23587 non-null  int64 \n",
            " 1   codigo     23587 non-null  object\n",
            " 2   nome       23587 non-null  object\n",
            " 3   turma      23587 non-null  object\n",
            " 4   siape      23587 non-null  object\n",
            " 5   horario    23584 non-null  object\n",
            " 6   matricula  23587 non-null  int64 \n",
            " 7   nota       23587 non-null  object\n",
            " 8   situacao   23587 non-null  object\n",
            "dtypes: int64(2), object(7)\n",
            "memory usage: 1.6+ MB\n"
          ],
          "name": "stdout"
        }
      ]
    },
    {
      "cell_type": "code",
      "metadata": {
        "id": "Tr2Qcuy80GEy",
        "colab_type": "code",
        "colab": {
          "base_uri": "https://localhost:8080/",
          "height": 305
        },
        "outputId": "0c1a26ba-74f9-4ac3-c9ec-ab609e385329"
      },
      "source": [
        "notas2017_1.info()"
      ],
      "execution_count": 10,
      "outputs": [
        {
          "output_type": "stream",
          "text": [
            "<class 'pandas.core.frame.DataFrame'>\n",
            "RangeIndex: 23159 entries, 0 to 23158\n",
            "Data columns (total 9 columns):\n",
            " #   Column     Non-Null Count  Dtype \n",
            "---  ------     --------------  ----- \n",
            " 0   periodo    23159 non-null  int64 \n",
            " 1   codigo     23159 non-null  object\n",
            " 2   nome       23159 non-null  object\n",
            " 3   turma      23159 non-null  object\n",
            " 4   siape      23159 non-null  object\n",
            " 5   horario    23159 non-null  object\n",
            " 6   matricula  23159 non-null  int64 \n",
            " 7   nota       23159 non-null  object\n",
            " 8   situacao   23159 non-null  object\n",
            "dtypes: int64(2), object(7)\n",
            "memory usage: 1.6+ MB\n"
          ],
          "name": "stdout"
        }
      ]
    },
    {
      "cell_type": "code",
      "metadata": {
        "id": "JV5co9wu08wf",
        "colab_type": "code",
        "colab": {
          "base_uri": "https://localhost:8080/",
          "height": 305
        },
        "outputId": "1ea1e198-4eca-486a-8cac-8f54ef173baa"
      },
      "source": [
        "notas2017_2.info()"
      ],
      "execution_count": 11,
      "outputs": [
        {
          "output_type": "stream",
          "text": [
            "<class 'pandas.core.frame.DataFrame'>\n",
            "RangeIndex: 21963 entries, 0 to 21962\n",
            "Data columns (total 9 columns):\n",
            " #   Column     Non-Null Count  Dtype \n",
            "---  ------     --------------  ----- \n",
            " 0   periodo    21963 non-null  int64 \n",
            " 1   codigo     21963 non-null  object\n",
            " 2   nome       21963 non-null  object\n",
            " 3   turma      21963 non-null  object\n",
            " 4   siape      21963 non-null  object\n",
            " 5   horario    21963 non-null  object\n",
            " 6   matricula  21963 non-null  int64 \n",
            " 7   nota       21963 non-null  object\n",
            " 8   situacao   21963 non-null  object\n",
            "dtypes: int64(2), object(7)\n",
            "memory usage: 1.5+ MB\n"
          ],
          "name": "stdout"
        }
      ]
    },
    {
      "cell_type": "code",
      "metadata": {
        "id": "C__VuJ7T0Mo4",
        "colab_type": "code",
        "colab": {
          "base_uri": "https://localhost:8080/",
          "height": 305
        },
        "outputId": "61376eb4-d58c-47d7-bf55-c60a9ce2d1d4"
      },
      "source": [
        "notas2018_1.info()"
      ],
      "execution_count": 12,
      "outputs": [
        {
          "output_type": "stream",
          "text": [
            "<class 'pandas.core.frame.DataFrame'>\n",
            "RangeIndex: 21702 entries, 0 to 21701\n",
            "Data columns (total 9 columns):\n",
            " #   Column     Non-Null Count  Dtype \n",
            "---  ------     --------------  ----- \n",
            " 0   periodo    21702 non-null  int64 \n",
            " 1   codigo     21702 non-null  object\n",
            " 2   nome       21702 non-null  object\n",
            " 3   turma      21702 non-null  object\n",
            " 4   siape      21702 non-null  object\n",
            " 5   horario    21702 non-null  object\n",
            " 6   matricula  21702 non-null  int64 \n",
            " 7   nota       21702 non-null  object\n",
            " 8   situacao   21702 non-null  object\n",
            "dtypes: int64(2), object(7)\n",
            "memory usage: 1.5+ MB\n"
          ],
          "name": "stdout"
        }
      ]
    },
    {
      "cell_type": "code",
      "metadata": {
        "id": "2S63BiQG1bmH",
        "colab_type": "code",
        "colab": {
          "base_uri": "https://localhost:8080/",
          "height": 305
        },
        "outputId": "b6638a6f-04bb-43ee-aa17-e4328b5b9dae"
      },
      "source": [
        "notas2018_2.info()"
      ],
      "execution_count": 13,
      "outputs": [
        {
          "output_type": "stream",
          "text": [
            "<class 'pandas.core.frame.DataFrame'>\n",
            "RangeIndex: 20257 entries, 0 to 20256\n",
            "Data columns (total 9 columns):\n",
            " #   Column     Non-Null Count  Dtype \n",
            "---  ------     --------------  ----- \n",
            " 0   periodo    20257 non-null  int64 \n",
            " 1   codigo     20257 non-null  object\n",
            " 2   nome       20257 non-null  object\n",
            " 3   turma      20257 non-null  object\n",
            " 4   siape      20257 non-null  object\n",
            " 5   horario    20254 non-null  object\n",
            " 6   matricula  20257 non-null  int64 \n",
            " 7   nota       20257 non-null  object\n",
            " 8   situacao   20257 non-null  object\n",
            "dtypes: int64(2), object(7)\n",
            "memory usage: 1.4+ MB\n"
          ],
          "name": "stdout"
        }
      ]
    },
    {
      "cell_type": "code",
      "metadata": {
        "id": "b5Q343re1kr5",
        "colab_type": "code",
        "colab": {
          "base_uri": "https://localhost:8080/",
          "height": 305
        },
        "outputId": "07a2bc27-4807-4eff-d9ee-9c7c761accd2"
      },
      "source": [
        "notas2019_1.info()"
      ],
      "execution_count": 14,
      "outputs": [
        {
          "output_type": "stream",
          "text": [
            "<class 'pandas.core.frame.DataFrame'>\n",
            "RangeIndex: 20620 entries, 0 to 20619\n",
            "Data columns (total 9 columns):\n",
            " #   Column     Non-Null Count  Dtype \n",
            "---  ------     --------------  ----- \n",
            " 0   periodo    20620 non-null  int64 \n",
            " 1   codigo     20620 non-null  object\n",
            " 2   nome       20620 non-null  object\n",
            " 3   turma      20620 non-null  object\n",
            " 4   siape      20620 non-null  object\n",
            " 5   horario    20617 non-null  object\n",
            " 6   matricula  20620 non-null  int64 \n",
            " 7   nota       20620 non-null  object\n",
            " 8   situacao   20620 non-null  object\n",
            "dtypes: int64(2), object(7)\n",
            "memory usage: 1.4+ MB\n"
          ],
          "name": "stdout"
        }
      ]
    },
    {
      "cell_type": "code",
      "metadata": {
        "id": "JyvSKOiU3tMc",
        "colab_type": "code",
        "colab": {
          "base_uri": "https://localhost:8080/",
          "height": 179
        },
        "outputId": "30e3004d-967a-415a-ed79-b343afa427d3"
      },
      "source": [
        "carga.info()"
      ],
      "execution_count": 15,
      "outputs": [
        {
          "output_type": "stream",
          "text": [
            "<class 'pandas.core.frame.DataFrame'>\n",
            "RangeIndex: 39269 entries, 0 to 39268\n",
            "Data columns (total 2 columns):\n",
            " #   Column    Non-Null Count  Dtype \n",
            "---  ------    --------------  ----- \n",
            " 0   codigo    39269 non-null  object\n",
            " 1   ch_total  39269 non-null  int64 \n",
            "dtypes: int64(1), object(1)\n",
            "memory usage: 613.7+ KB\n"
          ],
          "name": "stdout"
        }
      ]
    },
    {
      "cell_type": "markdown",
      "metadata": {
        "id": "TjeHFDBfwV5w",
        "colab_type": "text"
      },
      "source": [
        "###2.3 Exploração de Dados\n",
        "<a id='exploracao'></a>"
      ]
    },
    {
      "cell_type": "code",
      "metadata": {
        "id": "cljUAeYjwlsU",
        "colab_type": "code",
        "colab": {}
      },
      "source": [
        ""
      ],
      "execution_count": 0,
      "outputs": []
    },
    {
      "cell_type": "markdown",
      "metadata": {
        "id": "r9S1wjjCuu89",
        "colab_type": "text"
      },
      "source": [
        "##3. Preparação de Dados\n",
        "<a id='preparo'></a>"
      ]
    },
    {
      "cell_type": "markdown",
      "metadata": {
        "id": "LQzNnic6n7Aw",
        "colab_type": "text"
      },
      "source": [
        "Adicionando os DF a uma lista para minimizar o número de linhas"
      ]
    },
    {
      "cell_type": "code",
      "metadata": {
        "id": "PuPFoSjMvBNL",
        "colab_type": "code",
        "colab": {}
      },
      "source": [
        "lista_df = [notas2015_1, notas2015_2, notas2016_1, notas2016_2 , notas2017_1, notas2017_2, notas2018_1, notas2018_2, notas2019_1]"
      ],
      "execution_count": 0,
      "outputs": []
    },
    {
      "cell_type": "code",
      "metadata": {
        "id": "bM9UtXE7kf6U",
        "colab_type": "code",
        "colab": {
          "base_uri": "https://localhost:8080/",
          "height": 111
        },
        "outputId": "497b600b-eb53-4411-86a5-3772f0893f3d"
      },
      "source": [
        "lista_df[-1].iloc[:2,1:]"
      ],
      "execution_count": 46,
      "outputs": [
        {
          "output_type": "execute_result",
          "data": {
            "text/html": [
              "<div>\n",
              "<style scoped>\n",
              "    .dataframe tbody tr th:only-of-type {\n",
              "        vertical-align: middle;\n",
              "    }\n",
              "\n",
              "    .dataframe tbody tr th {\n",
              "        vertical-align: top;\n",
              "    }\n",
              "\n",
              "    .dataframe thead th {\n",
              "        text-align: right;\n",
              "    }\n",
              "</style>\n",
              "<table border=\"1\" class=\"dataframe\">\n",
              "  <thead>\n",
              "    <tr style=\"text-align: right;\">\n",
              "      <th></th>\n",
              "      <th>codigo</th>\n",
              "      <th>nome</th>\n",
              "      <th>turma</th>\n",
              "      <th>siape</th>\n",
              "      <th>horario</th>\n",
              "      <th>matricula</th>\n",
              "      <th>nota</th>\n",
              "      <th>situacao</th>\n",
              "    </tr>\n",
              "  </thead>\n",
              "  <tbody>\n",
              "    <tr>\n",
              "      <th>0</th>\n",
              "      <td>ECT2101</td>\n",
              "      <td>PRÉ-CÁLCULO</td>\n",
              "      <td>4</td>\n",
              "      <td>1674079-5</td>\n",
              "      <td>2356N12 (19/02/2018 - 28/04/2018)</td>\n",
              "      <td>20180001146</td>\n",
              "      <td>2.10</td>\n",
              "      <td>REPROVADO</td>\n",
              "    </tr>\n",
              "    <tr>\n",
              "      <th>1</th>\n",
              "      <td>ECT2102</td>\n",
              "      <td>VETORES E GEOMETRIA ANALÍTICA</td>\n",
              "      <td>4</td>\n",
              "      <td>2276754-3</td>\n",
              "      <td>36N34 (19/02/2018 - 07/07/2018)</td>\n",
              "      <td>20180001146</td>\n",
              "      <td>-</td>\n",
              "      <td>TRANCADO</td>\n",
              "    </tr>\n",
              "  </tbody>\n",
              "</table>\n",
              "</div>"
            ],
            "text/plain": [
              "    codigo                           nome turma  ...    matricula  nota   situacao\n",
              "0  ECT2101                    PRÉ-CÁLCULO     4  ...  20180001146  2.10  REPROVADO\n",
              "1  ECT2102  VETORES E GEOMETRIA ANALÍTICA     4  ...  20180001146     -   TRANCADO\n",
              "\n",
              "[2 rows x 8 columns]"
            ]
          },
          "metadata": {
            "tags": []
          },
          "execution_count": 46
        }
      ]
    },
    {
      "cell_type": "markdown",
      "metadata": {
        "id": "5-NLJxgXqV6J",
        "colab_type": "text"
      },
      "source": [
        "Passos de transformação de dados\n",
        "\n",
        "* primeiro\n",
        "* segundo"
      ]
    },
    {
      "cell_type": "code",
      "metadata": {
        "id": "t1HtX9dSyHth",
        "colab_type": "code",
        "colab": {}
      },
      "source": [
        "class transformador\n",
        "\n",
        "class NumericalTransformer(BaseEstimator, TransformerMixin):\n",
        "  def __init__(self, model=0):\n",
        "     self.model = model\n",
        "  def fit(self, X, y = None ):\n",
        "    return self \n",
        "\n",
        "  def create_dummies(self, df, column_name, drop_first_col):\n",
        "    #Cria colunas fictícias apartir de uma\n",
        "    dummies = pd.get_dummies(df[column_name],prefix=column_name, drop_first=drop_first_col)\n",
        "    return dummies\n",
        "\n",
        "  #Manipulando a coluna \"media\"\n",
        "  def process_media(self, df):\n",
        "    #divide a coluna de média em um intervalo de valores \n",
        "    cut_points_notas = [-1,3,5,7,8,11]\n",
        "    label_names_notas = [\"muito baixo\",\"baixo\",\"media\",\"alto\",\"muito alto\"]\n",
        "    df[\"media_categorias\"] = pd.cut(df[\"media\"],\n",
        "                                    cut_points_notas,\n",
        "                                    labels=label_names_notas)\n",
        "    return self.create_dummies(df,\"media_categorias\",False)\n",
        "   \n",
        "  #Manipulando a coluna \"min\"\n",
        "  def process_min(self, df):\n",
        "    #divide a coluna min em um intervalo de valores \n",
        "    cut_points_notas = [-1,3,5,7,8,11]\n",
        "    label_names_notas = [\"muito baixo\",\"baixo\",\"media\",\"alto\",\"muito alto\"]\n",
        "    df[\"min_categorias\"] = pd.cut(df[\"min\"],\n",
        "                                  cut_points_notas,\n",
        "                                  labels=label_names_notas)\n",
        "    return self.create_dummies(df,\"min_categorias\",False) \n",
        "\n",
        "  #Manipulando a coluna \"max\"\n",
        "  def process_max(self, df):\n",
        "    #divide a coluna max em um intervalo de valores \n",
        "    cut_points_notas = [-1,3,5,7,8,11]\n",
        "    label_names_notas = [\"muito baixo\",\"baixo\",\"media\",\"alto\",\"muito alto\"]\n",
        "    df[\"max_categorias\"] = pd.cut(df[\"max\"],\n",
        "                                  cut_points_notas,\n",
        "                                  labels=label_names_notas)\n",
        "    return self.create_dummies(df,\"max_categorias\",False) \n",
        "\n",
        "  #Manipulando a coluna \"carga_total\"\n",
        "  def process_carga_total(self, df):\n",
        "    #divide a coluna carga_total em um intervalo de valores \n",
        "    cut_points_carga = [0,100,200,300,400,600]\n",
        "    label_names_carga = [\"muito baixo\",\"baixo\",\"media\",\"alto\",\"muito alto\"] \n",
        "    df[\"carga_total_categorias\"] = pd.cut(df[\"carga_total\"],\n",
        "                                          cut_points_carga,\n",
        "                                          labels=label_names_carga)\n",
        "    return self.create_dummies(df,\"carga_total_categorias\",False) \n",
        "\n",
        "  #Manipulando a coluna \"carga_total_atual\"\n",
        "  def process_carga_total_atual(self, df):\n",
        "    #divide a coluna carga_total_atual em um intervalo de valores \n",
        "    cut_points_carga = [0,100,200,300,400,600]\n",
        "    label_names_carga = [\"muito baixo\",\"baixo\",\"media\",\"alto\",\"muito alto\"] \n",
        "    df[\"carga_total_atual_categorias\"] = pd.cut(df[\"carga_total_atual\"],\n",
        "                                                cut_points_carga,\n",
        "                                                labels=label_names_carga)\n",
        "    return self.create_dummies(df,\"carga_total_atual_categorias\",False) \n",
        "  \n",
        "  #Criando a coluna de Taxa de sucesso\n",
        "  def tax_suc(self, df):\n",
        "    df[\"tax_suc\"] = df[\"quantAprovado\"] / df[\"QuantDisciCursadas\"]\n",
        "    return pd.DataFrame(df[\"tax_suc\"],columns=[\"tax_suc\"])\n",
        "\n",
        "  #Concatenando colunas\n",
        "  def addcol(sefl, df):\n",
        "    QuantDisciCursadas = \tdf[\"QuantDisciCursadas\"]\n",
        "    quantAprovado      = \tdf[\"quantAprovado\"]\n",
        "    quantReprovado     =  df[\"quantReprovado\"]\n",
        "    QuantDisciAtual    =  df[\"QuantDisciAtual\"]\n",
        "    AnosMatriculado    =  df[\"AnosMatriculado\"]\n",
        "    return pd.concat([QuantDisciCursadas, quantAprovado, quantReprovado, QuantDisciAtual,AnosMatriculado ],axis=1)\n",
        "\n",
        "\n",
        "  #Método transformador\n",
        "  def transform(self, X , y = None ):\n",
        "    df = X.copy()\n",
        "    media = self.process_media(df)  \n",
        "    min1 = self.process_min(df)\n",
        "    max1 = self.process_max(df)\n",
        "    carga_total = self.process_carga_total(df)\n",
        "    carga_total_atual = self.process_carga_total_atual(df)\n",
        "    tax_suc = self.tax_suc(df)\n",
        "    ad = self.addcol(df)\n",
        "      \n",
        "    return pd.concat([media,min1,max1,carga_total,carg"
      ],
      "execution_count": 0,
      "outputs": []
    },
    {
      "cell_type": "markdown",
      "metadata": {
        "id": "B4rJ_jPviRsl",
        "colab_type": "text"
      },
      "source": [
        "##6. Avaliação dos Modelos\n",
        "<a id='avaliacao'></a>\n",
        "\n",
        "### [6.1 Chamada da Função](#chamada)\n",
        "### [6.2 Teste de Modelo](#teste)"
      ]
    },
    {
      "cell_type": "markdown",
      "metadata": {
        "id": "YxO10k-KJnZq",
        "colab_type": "text"
      },
      "source": [
        "###6.1 Chamada da Função\n",
        "<a id='chamada'></a>"
      ]
    },
    {
      "cell_type": "code",
      "metadata": {
        "id": "a54d338IldVz",
        "colab_type": "code",
        "outputId": "c718abc2-c5b3-402a-b68a-684bb9e84020",
        "colab": {
          "base_uri": "https://localhost:8080/"
        }
      },
      "source": [
        "(df_relatorio, model_param_disciplinas) = avaliar_modelos(df, hyperparameters)"
      ],
      "execution_count": 0,
      "outputs": [
        {
          "output_type": "error",
          "ename": "NameError",
          "evalue": "ignored",
          "traceback": [
            "\u001b[0;31m---------------------------------------------------------------------------\u001b[0m",
            "\u001b[0;31mNameError\u001b[0m                                 Traceback (most recent call last)",
            "\u001b[0;32m<ipython-input-1-f0d70dbfd1a2>\u001b[0m in \u001b[0;36m<module>\u001b[0;34m()\u001b[0m\n\u001b[0;32m----> 1\u001b[0;31m \u001b[0;34m(\u001b[0m\u001b[0mdf_relatorio\u001b[0m\u001b[0;34m,\u001b[0m \u001b[0mmodel_param_disciplinas\u001b[0m\u001b[0;34m)\u001b[0m \u001b[0;34m=\u001b[0m \u001b[0mavaliar_modelos\u001b[0m\u001b[0;34m(\u001b[0m\u001b[0mdf\u001b[0m\u001b[0;34m,\u001b[0m \u001b[0mhyperparameters\u001b[0m\u001b[0;34m)\u001b[0m\u001b[0;34m\u001b[0m\u001b[0;34m\u001b[0m\u001b[0m\n\u001b[0m",
            "\u001b[0;31mNameError\u001b[0m: name 'avaliar_modelos' is not defined"
          ]
        }
      ]
    },
    {
      "cell_type": "code",
      "metadata": {
        "id": "_RgZO6QU0YH1",
        "colab_type": "code",
        "colab": {}
      },
      "source": [
        "df_relatorio.head()"
      ],
      "execution_count": 0,
      "outputs": []
    },
    {
      "cell_type": "code",
      "metadata": {
        "id": "dCcRXPWv0eAL",
        "colab_type": "code",
        "colab": {}
      },
      "source": [
        "model_param_disciplinas"
      ],
      "execution_count": 0,
      "outputs": []
    },
    {
      "cell_type": "markdown",
      "metadata": {
        "id": "DmuLGrPKFv1c",
        "colab_type": "text"
      },
      "source": [
        "###6.2 Teste de Modelo\n",
        "<a id='teste'></a>"
      ]
    },
    {
      "cell_type": "markdown",
      "metadata": {
        "id": "X9GMVe3bUsvS",
        "colab_type": "text"
      },
      "source": [
        "Importando Modelo"
      ]
    },
    {
      "cell_type": "code",
      "metadata": {
        "id": "uchPDLEsUvt5",
        "colab_type": "code",
        "colab": {}
      },
      "source": [
        "modelo_teste = joblib.load('modelo_.pkl')"
      ],
      "execution_count": 0,
      "outputs": []
    },
    {
      "cell_type": "markdown",
      "metadata": {
        "id": "-lcNJROjYtth",
        "colab_type": "text"
      },
      "source": [
        "Aplicando a transformação no teste"
      ]
    },
    {
      "cell_type": "code",
      "metadata": {
        "id": "wgKRWABoBfVb",
        "colab_type": "code",
        "colab": {}
      },
      "source": [
        "num_transf = NumericalTransformer()\n",
        "df_teste = model.transform(df)"
      ],
      "execution_count": 0,
      "outputs": []
    },
    {
      "cell_type": "code",
      "metadata": {
        "id": "jte7qW39ZR8V",
        "colab_type": "code",
        "colab": {}
      },
      "source": [
        "df_teste.head(2)"
      ],
      "execution_count": 0,
      "outputs": []
    },
    {
      "cell_type": "markdown",
      "metadata": {
        "id": "j8Qb55Di8IkC",
        "colab_type": "text"
      },
      "source": [
        "Realizando teste de um modelo, prevendo probabilidade de ser aprovado"
      ]
    },
    {
      "cell_type": "code",
      "metadata": {
        "id": "LLooF6-vaQ7C",
        "colab_type": "code",
        "colab": {}
      },
      "source": [
        "df_teste.iloc[42,:]"
      ],
      "execution_count": 0,
      "outputs": []
    },
    {
      "cell_type": "code",
      "metadata": {
        "id": "3zusMtVzabUZ",
        "colab_type": "code",
        "colab": {}
      },
      "source": [
        "df_teste.info()"
      ],
      "execution_count": 0,
      "outputs": []
    },
    {
      "cell_type": "code",
      "metadata": {
        "id": "sTg3Zgf-YrEm",
        "colab_type": "code",
        "colab": {}
      },
      "source": [
        "modelo_teste.predict(df_teste.iloc[42,:])"
      ],
      "execution_count": 0,
      "outputs": []
    },
    {
      "cell_type": "markdown",
      "metadata": {
        "id": "PGR1IWltjEKS",
        "colab_type": "text"
      },
      "source": [
        "##7. Conclusão e Recomendações\n",
        "<a id='conclusao'></a>"
      ]
    },
    {
      "cell_type": "markdown",
      "metadata": {
        "id": "A-JlYcDhvmg4",
        "colab_type": "text"
      },
      "source": [
        ""
      ]
    },
    {
      "cell_type": "markdown",
      "metadata": {
        "id": "7bW-MMNpvndY",
        "colab_type": "text"
      },
      "source": [
        "##8. Implantação de Modelos\n",
        "<a id='implantacao'></a>"
      ]
    },
    {
      "cell_type": "code",
      "metadata": {
        "id": "-bcNUiIDvzTt",
        "colab_type": "code",
        "colab": {}
      },
      "source": [
        ""
      ],
      "execution_count": 0,
      "outputs": []
    }
  ]
}